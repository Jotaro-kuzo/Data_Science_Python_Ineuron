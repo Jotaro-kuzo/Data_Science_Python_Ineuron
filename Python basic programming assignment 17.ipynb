{
 "cells": [
  {
   "cell_type": "markdown",
   "id": "dd383595",
   "metadata": {},
   "source": [
    "### Question1. Create a function that takes three arguments a, b, c and returns the sum of the numbers that are evenly divided by c from the range a, b inclusive."
   ]
  },
  {
   "cell_type": "code",
   "execution_count": 5,
   "id": "782a8845",
   "metadata": {},
   "outputs": [
    {
     "name": "stdout",
     "output_type": "stream",
     "text": [
      "enter the lower limit: 1\n",
      "enter the upper limit: 10\n",
      "enter the divident: 2\n",
      "30\n"
     ]
    }
   ],
   "source": [
    "def fetch(a,b,c):\n",
    "    sum = 0\n",
    "    for i in range(a,b+1):\n",
    "        if (i%c==0):\n",
    "            sum+= i\n",
    "            \n",
    "    return sum\n",
    "if __name__==\"__main__\":\n",
    "    a = int(input(\"enter the lower limit: \"))\n",
    "    b = int(input(\"enter the upper limit: \"))\n",
    "    c = int(input(\"enter the divident: \"))\n",
    "    print(fetch(a,b,c))"
   ]
  },
  {
   "cell_type": "markdown",
   "id": "fd5b85ce",
   "metadata": {},
   "source": [
    "### Question2. Create a function that returns True if a given inequality expression is correct and False otherwise."
   ]
  },
  {
   "cell_type": "code",
   "execution_count": 6,
   "id": "7f14a020",
   "metadata": {},
   "outputs": [
    {
     "name": "stdout",
     "output_type": "stream",
     "text": [
      "enter an expression statement: 3 < 7 < 11\n",
      "True\n"
     ]
    }
   ],
   "source": [
    "def validate(str):\n",
    "    check = eval(str)\n",
    "    if check:\n",
    "        print(\"True\")\n",
    "    else:\n",
    "        print(\"False\")\n",
    "\n",
    "\n",
    "if __name__==\"__main__\":\n",
    "    \n",
    "    str = input(\"enter an expression statement: \")\n",
    "    validate(str)\n",
    "     "
   ]
  },
  {
   "cell_type": "markdown",
   "id": "f609808b",
   "metadata": {},
   "source": [
    "### Question3. Create a function that replaces all the vowels in a string with a specified character."
   ]
  },
  {
   "cell_type": "code",
   "execution_count": 9,
   "id": "e377809d",
   "metadata": {},
   "outputs": [
    {
     "name": "stdout",
     "output_type": "stream",
     "text": [
      "enter a string: konichiwa\n",
      "enter a character that replaces vowels: *\n",
      "before replacing: konichiwa\n",
      "After replacing:  k*n*ch*w*\n"
     ]
    }
   ],
   "source": [
    "def replaceVowelsWithK(test_str, K):\n",
    "    vowels = 'AEIOUaeiou'\n",
    "    for ele in vowels:\n",
    "        test_str = test_str.replace(ele, K)\n",
    "    return test_str\n",
    "if __name__==\"__main__\":\n",
    "    string = input(\"enter a string: \")\n",
    "    k = input(\"enter a character that replaces vowels: \")\n",
    "    print(\"before replacing: \"+ string)\n",
    "    print(\"After replacing: \", replaceVowelsWithK(string,k))\n",
    "    "
   ]
  },
  {
   "cell_type": "markdown",
   "id": "ed3ecf8f",
   "metadata": {},
   "source": [
    "### Question4. Write a function that calculates the factorial of a number recursively."
   ]
  },
  {
   "cell_type": "code",
   "execution_count": 10,
   "id": "faac7a94",
   "metadata": {},
   "outputs": [
    {
     "name": "stdout",
     "output_type": "stream",
     "text": [
      "Enter a positive integer: 5\n",
      "The factorial of given number is:  120\n"
     ]
    }
   ],
   "source": [
    "def fact(x):\n",
    "    if x==1:\n",
    "        return 1\n",
    "    else:\n",
    "        return(x*fact(x-1))\n",
    "\n",
    "\n",
    "x = int(input(\"Enter a positive integer: \"))\n",
    "print(\"The factorial of given number is: \", fact(x))"
   ]
  },
  {
   "cell_type": "markdown",
   "id": "55c4b761",
   "metadata": {},
   "source": [
    "### Hamming distance is the number of characters that differ between two strings."
   ]
  },
  {
   "cell_type": "code",
   "execution_count": 16,
   "id": "7de46d2d",
   "metadata": {},
   "outputs": [
    {
     "name": "stdout",
     "output_type": "stream",
     "text": [
      "enter original string: abcde\n",
      "enter decripted string: abccc\n",
      "2\n"
     ]
    }
   ],
   "source": [
    "def hamming(s1,s2):\n",
    "    \n",
    "    s = 0\n",
    "    for i in range(len(s1)):\n",
    "        if s1[i]!=s2[i]:\n",
    "            s +=1\n",
    "       \n",
    "    return s\n",
    "\n",
    "s1 = input(\"enter original string: \")\n",
    "s2 = input(\"enter decripted string: \")\n",
    "if(len(s1)==len(s2)):\n",
    "    print(hamming(s1,s2))\n",
    "else:\n",
    "    print(\"you gave different lengthed string\")"
   ]
  },
  {
   "cell_type": "code",
   "execution_count": null,
   "id": "108335b1",
   "metadata": {},
   "outputs": [],
   "source": []
  }
 ],
 "metadata": {
  "kernelspec": {
   "display_name": "Python 3 (ipykernel)",
   "language": "python",
   "name": "python3"
  },
  "language_info": {
   "codemirror_mode": {
    "name": "ipython",
    "version": 3
   },
   "file_extension": ".py",
   "mimetype": "text/x-python",
   "name": "python",
   "nbconvert_exporter": "python",
   "pygments_lexer": "ipython3",
   "version": "3.9.12"
  }
 },
 "nbformat": 4,
 "nbformat_minor": 5
}
