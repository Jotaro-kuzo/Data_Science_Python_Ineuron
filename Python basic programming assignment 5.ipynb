{
 "cells": [
  {
   "cell_type": "markdown",
   "id": "7bfc40d0",
   "metadata": {},
   "source": [
    "### 1. Write a Python Program to Find LCM?"
   ]
  },
  {
   "cell_type": "code",
   "execution_count": 4,
   "id": "72ed1da0",
   "metadata": {},
   "outputs": [
    {
     "name": "stdout",
     "output_type": "stream",
     "text": [
      "Enter the two numbers to find LCM: 5 2\n",
      "The L.C.M. is :  10\n"
     ]
    }
   ],
   "source": [
    "def find_lcm(x, y):\n",
    "\n",
    "   # choose the greater number\n",
    "   if x > y:\n",
    "       greater = x\n",
    "   else:\n",
    "       greater = y\n",
    "\n",
    "   while(True):\n",
    "       if((greater % x == 0) and (greater % y == 0)):\n",
    "           lcm = greater\n",
    "           break\n",
    "       greater += 1\n",
    "\n",
    "   return lcm\n",
    "\n",
    "x,y = input(\"Enter the two numbers to find LCM: \").split()\n",
    "\n",
    "print(\"The LCM is : \", find_lcm(int(x), int(y)))"
   ]
  },
  {
   "cell_type": "markdown",
   "id": "024362f7",
   "metadata": {},
   "source": [
    "### 2. Write a Python Program to Find HCF?"
   ]
  },
  {
   "cell_type": "code",
   "execution_count": 11,
   "id": "ca682fa7",
   "metadata": {},
   "outputs": [
    {
     "name": "stdout",
     "output_type": "stream",
     "text": [
      "Enter the two numbers to find HCF: 9 18\n",
      "The HCF is :  3\n"
     ]
    }
   ],
   "source": [
    "def find_hcf(x, y):\n",
    "\n",
    "   # choose the smaller number\n",
    "   if x > y:\n",
    "       smaller = y\n",
    "   else:\n",
    "       smaller = x\n",
    "\n",
    "   for i in range(2, smaller+1):\n",
    "        if((x % i == 0) and (y % i == 0)):\n",
    "            hcf = i\n",
    "            return hcf\n",
    "            break\n",
    "    \n",
    "\n",
    "\n",
    "x,y = input(\"Enter the two numbers to find HCF: \").split()\n",
    "\n",
    "print(\"The HCF is : \", find_hcf(int(x), int(y)))"
   ]
  },
  {
   "cell_type": "markdown",
   "id": "b2dbc1b4",
   "metadata": {},
   "source": [
    "### 3. Write a Python Program to Convert Decimal to Binary, Octal and Hexadecimal?"
   ]
  },
  {
   "cell_type": "code",
   "execution_count": 13,
   "id": "95074f9a",
   "metadata": {},
   "outputs": [
    {
     "name": "stdout",
     "output_type": "stream",
     "text": [
      "Enter the number in decimal format(to base 10): 120\n",
      "The given number in binary is: 0b1111000\n",
      "The given number in Octal is: 0o170\n",
      "The given number in Hexadecimal format is: 0x78\n"
     ]
    }
   ],
   "source": [
    "number = int(input(\"Enter the number in decimal format(to base 10): \"))\n",
    "print(\"The given number in binary is:\", bin(number))\n",
    "print(\"The given number in Octal is:\", oct(number))\n",
    "print(\"The given number in Hexadecimal format is:\",hex(number))"
   ]
  },
  {
   "cell_type": "markdown",
   "id": "1030ff59",
   "metadata": {},
   "source": [
    "### 4. Write a Python Program To Find ASCII value of a character?"
   ]
  },
  {
   "cell_type": "code",
   "execution_count": 15,
   "id": "9d6551b2",
   "metadata": {},
   "outputs": [
    {
     "name": "stdout",
     "output_type": "stream",
     "text": [
      "Enter a character: A\n",
      "The ASCII value of 'A' is 65\n"
     ]
    }
   ],
   "source": [
    "Char = input(\"Enter a character: \")\n",
    "print(\"The ASCII value of '\" + Char + \"' is\", ord(Char))"
   ]
  },
  {
   "cell_type": "markdown",
   "id": "63359edd",
   "metadata": {},
   "source": [
    "### 5. Write a Python Program to Make a Simple Calculator with 4 basic mathematical operations?"
   ]
  },
  {
   "cell_type": "code",
   "execution_count": 17,
   "id": "e37a7973",
   "metadata": {},
   "outputs": [
    {
     "name": "stdout",
     "output_type": "stream",
     "text": [
      " Choose a mathematical operation option below: \n",
      " \t 1.Addition \n",
      " \t 2.Subtraction \n",
      " \t 3.Division \n",
      " \t 4.Multiply\n",
      "3\n",
      "Enter two numbers to Divide: 9 3\n",
      "The sum of two numbers is : 3.0\n"
     ]
    }
   ],
   "source": [
    "print(\" Choose a mathematical operation option below: \\n \\t 1.Addition \\n \\t 2.Subtraction \\n \\t 3.Division \\n \\t 4.Multiply\")\n",
    "option = int(input())\n",
    "if option ==1 :\n",
    "    a,b = input(\"Enter two numbers for addition: \").split()\n",
    "    print(\"The sum of two numbers is :\" , int(a)+int(b))\n",
    "elif option ==2:\n",
    "    a,b = input(\"Enter two numbers for subtraction: \").split()\n",
    "    print(\"The sum of two numbers is :\" , int(a)-int(b))\n",
    "elif option ==3:\n",
    "    a,b = input(\"Enter two numbers to Divide: \").split()\n",
    "    print(\"The sum of two numbers is :\" , int(a)/int(b))\n",
    "elif option ==4:\n",
    "    a,b = input(\"Enter two numbers to multiply: \").split()\n",
    "    print(\"The sum of two numbers is :\" , int(a)*int(b))\n",
    "else:\n",
    "    print(\"You entered wrong option\")\n",
    "    "
   ]
  },
  {
   "cell_type": "code",
   "execution_count": null,
   "id": "c0d0ce71",
   "metadata": {},
   "outputs": [],
   "source": []
  }
 ],
 "metadata": {
  "kernelspec": {
   "display_name": "Python 3 (ipykernel)",
   "language": "python",
   "name": "python3"
  },
  "language_info": {
   "codemirror_mode": {
    "name": "ipython",
    "version": 3
   },
   "file_extension": ".py",
   "mimetype": "text/x-python",
   "name": "python",
   "nbconvert_exporter": "python",
   "pygments_lexer": "ipython3",
   "version": "3.9.12"
  }
 },
 "nbformat": 4,
 "nbformat_minor": 5
}
