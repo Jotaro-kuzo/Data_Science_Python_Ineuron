{
 "cells": [
  {
   "cell_type": "markdown",
   "id": "3c2c00ee",
   "metadata": {},
   "source": [
    "# 1. How do you distinguish between shutil.copy() and shutil.copytree()?\n",
    "\n",
    "shutil.copy() method is used to copy the source file to the destination file. If destination file exists, it will replace it with source file else new file will be created. \n",
    "\n",
    "shutil.copytree() method recursively copy all the folders under the source directory to the destination directory.Destination folder will be created while copying. \n"
   ]
  },
  {
   "cell_type": "markdown",
   "id": "4ed8703c",
   "metadata": {},
   "source": [
    "# 2. What function is used to rename files??\n",
    "\n",
    "shutil.move() function is used for renaming the file.\n"
   ]
  },
  {
   "cell_type": "markdown",
   "id": "b443b0da",
   "metadata": {},
   "source": [
    "# 3. What is the difference between the delete functions in the send2trash and shutil modules?\n",
    "\n",
    "Delete function in shutill module will remove the files and folders permanently from the system whereas delete function in send2trash module will move the files to recycle bin rather than deleting it permanently. \n"
   ]
  },
  {
   "cell_type": "markdown",
   "id": "d22711eb",
   "metadata": {},
   "source": [
    "# 4.ZipFile objects have a close() method just like File objects’ close() method. What ZipFile method is equivalent to File objects’ open() method?\n",
    "zipfile.Zipfile() method will create a zip file object similar to open() method in file. \n"
   ]
  },
  {
   "cell_type": "markdown",
   "id": "3838af55",
   "metadata": {},
   "source": [
    "# 5. Create a programme that searches a folder tree for files with a certain file extension (such as .pdf or .jpg). Copy these files from whatever location they are in to a new folder.\n",
    "\n",
    "\n"
   ]
  },
  {
   "cell_type": "markdown",
   "id": "d823ed82",
   "metadata": {},
   "source": [
    "import os , shutil \n",
    "\n",
    "def mov_file(folder):\n",
    "    for folderName, subfolders, filenames in os.walk(folder):\n",
    "        for filename in filenames:\n",
    "            if filename.endswith('.pdf, .jpg'):\n",
    "                shutil.copy(os.path.join(folderName, filename), destFolder)\n",
    "            \n",
    "destFolder = '/Users/HP/ML'\n",
    "mov_file('/Users/HP/python')"
   ]
  }
 ],
 "metadata": {
  "kernelspec": {
   "display_name": "Python 3",
   "language": "python",
   "name": "python3"
  },
  "language_info": {
   "codemirror_mode": {
    "name": "ipython",
    "version": 3
   },
   "file_extension": ".py",
   "mimetype": "text/x-python",
   "name": "python",
   "nbconvert_exporter": "python",
   "pygments_lexer": "ipython3",
   "version": "3.8.8"
  }
 },
 "nbformat": 4,
 "nbformat_minor": 5
}
