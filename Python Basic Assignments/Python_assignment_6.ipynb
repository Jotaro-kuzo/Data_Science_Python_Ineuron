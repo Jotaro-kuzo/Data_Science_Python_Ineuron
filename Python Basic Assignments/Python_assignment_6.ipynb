{
 "cells": [
  {
   "cell_type": "markdown",
   "id": "65280e9b",
   "metadata": {},
   "source": [
    "# 1. What are escape characters, and how do you use them?\n",
    "Backslash ‘\\’ is a escape character. \n",
    "\n",
    "* It is used to represent the whitespaces. \n",
    "\n",
    "    \\n – new line , \\t – tab space \n",
    "    \n",
    "\n",
    "* It is also used to represent the special characters as ordinary characters. \n",
    "\n",
    "eg: \n",
    "To print “Hello” with double quotes, It will throw error. For that we could use ‘\\’ character. \n",
    "\n",
    "print(“\\”Hello\\””)\n",
    "\n"
   ]
  },
  {
   "cell_type": "markdown",
   "id": "e6449cd2",
   "metadata": {},
   "source": [
    "# 2. What do the escape characters n and t stand for?\n",
    "\n",
    "n stands for new line and t stands for tab.\n"
   ]
  },
  {
   "cell_type": "markdown",
   "id": "602de42c",
   "metadata": {},
   "source": [
    "# 3. What is the way to include backslash characters in a string?\n",
    "we can use \\\\ to include backslash character in a string. \n",
    "\n",
    "eg : print(\"\\\"Hello\\\\\")\n",
    "\n",
    "Output : “Hello\\\n"
   ]
  },
  {
   "cell_type": "markdown",
   "id": "92d334e2",
   "metadata": {},
   "source": [
    "# 4. The string \"Howl's Moving Castle\" is a correct value. Why isn't the single quote character in the word Howl's not escaped a problem?\n",
    "\n",
    "It will not thrown any error as the value is present inside double quote. \n"
   ]
  },
  {
   "cell_type": "markdown",
   "id": "ce4d3f1b",
   "metadata": {},
   "source": [
    "# 5. How do you write a string of newlines if you don't want to use the n character?\n",
    "\n",
    "We can use multiline string concept. It will insert the line break as it is in the code and will not require n character for newlines. \n"
   ]
  },
  {
   "cell_type": "markdown",
   "id": "9c5f94a1",
   "metadata": {},
   "source": [
    "# 6. What are the values of the given expressions?\n",
    "'Hello, world!'[1]\n",
    "\n",
    "'Hello, world!'[0:5]\n",
    "\n",
    "'Hello, world!'[:5]\n",
    "\n",
    "'Hello, world!'[3:]\n",
    "\n",
    "\n",
    "Answers: \n",
    "\n",
    "    \n",
    "'Hello, world!'[1]     = 'e'\n",
    "\n",
    "'Hello, world!'[0:5]  = 'Hello'\n",
    "\n",
    "'Hello, world!'[:5]    =  'Hello'\n",
    "\n",
    "'Hello, world!'[3:]    = 'lo, world!''\n",
    "\n"
   ]
  },
  {
   "cell_type": "markdown",
   "id": "5df6b828",
   "metadata": {},
   "source": [
    "# 7. What are the values of the following expressions?\n",
    "'Hello'.upper()\n",
    "\n",
    "'Hello'.upper().isupper()\n",
    "\n",
    "'Hello'.upper().lower()\n",
    "\n",
    "Answers: \n",
    "\n",
    "HELLO\n",
    "\n",
    "True\n",
    "\n",
    "'hello'\n"
   ]
  },
  {
   "cell_type": "markdown",
   "id": "7d7e0cc0",
   "metadata": {},
   "source": [
    "# 8. What are the values of the following expressions?\n",
    "'Remember, remember, the fifth of July.'.split()\n",
    "\n",
    "'-'.join('There can only one.'.split())\n",
    "\n",
    "Answers: \n",
    "\n",
    "['Remember,', 'remember,', 'the', 'fifth', 'of', 'July.']\n",
    "\n",
    "'There-can-only-one.'\n",
    "\n"
   ]
  },
  {
   "cell_type": "markdown",
   "id": "b2fdb9f6",
   "metadata": {},
   "source": [
    "# 9. What are the methods for right-justifying, left-justifying, and centering a string?\n",
    "Below are the methods used for left-justification, right-justification and centering.\n",
    "\n",
    "ljust(), rjust(), center()\n"
   ]
  },
  {
   "cell_type": "markdown",
   "id": "b88b82e7",
   "metadata": {},
   "source": [
    "# 10. What is the best way to remove whitespace characters from the start or end?\n",
    "Strip() method is used to remove the space.\n",
    "\n",
    "We can use lstrip() to remove whitespace from start and rstrip() to remove space from end.\n"
   ]
  }
 ],
 "metadata": {
  "kernelspec": {
   "display_name": "Python 3",
   "language": "python",
   "name": "python3"
  },
  "language_info": {
   "codemirror_mode": {
    "name": "ipython",
    "version": 3
   },
   "file_extension": ".py",
   "mimetype": "text/x-python",
   "name": "python",
   "nbconvert_exporter": "python",
   "pygments_lexer": "ipython3",
   "version": "3.8.8"
  }
 },
 "nbformat": 4,
 "nbformat_minor": 5
}
