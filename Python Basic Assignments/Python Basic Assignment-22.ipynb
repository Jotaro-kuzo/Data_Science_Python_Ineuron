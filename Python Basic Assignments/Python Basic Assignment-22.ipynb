{
 "cells": [
  {
   "cell_type": "markdown",
   "id": "732e321a",
   "metadata": {},
   "source": [
    "### 1. What is the result of the code, and explain?\n",
    "    >>> X = 'iNeuron'\n",
    "    >>> def func():\n",
    "    print(X)\n",
    "    >>> func()"
   ]
  },
  {
   "cell_type": "markdown",
   "id": "bf9464cb",
   "metadata": {},
   "source": [
    "The Result of this code is iNeuron, it's because the function intially looks for the variable X in its local scope,But since there is no local variable X, its returns the value of global variable x ie iNeuron"
   ]
  },
  {
   "cell_type": "markdown",
   "id": "6cb3e7fd",
   "metadata": {},
   "source": [
    "### 2. What is the result of the code, and explain?\n",
    "    >>> X = 'iNeuron'\n",
    "    >>> def func():\n",
    "    X = 'NI!'\n",
    "    >>> func()\n",
    "    >>> print(X)"
   ]
  },
  {
   "cell_type": "markdown",
   "id": "9b65b180",
   "metadata": {},
   "source": [
    "The Result of this cide is NI!, because the function initially looks for the variable X in its local scope if X is not available then it checks for variable X in the global scope, Since here the X is present in the local scope. it prints the value NI!"
   ]
  },
  {
   "cell_type": "markdown",
   "id": "9590c109",
   "metadata": {},
   "source": [
    "### 3. What does this code print, and why?\n",
    "    >>> X = 'iNeuron'\n",
    "    >>> def func():\n",
    "    X = 'NI'\n",
    "    print(X)\n",
    "    >>> func()\n",
    "    >>> print(X)"
   ]
  },
  {
   "cell_type": "markdown",
   "id": "b6ab2c32",
   "metadata": {},
   "source": [
    "The output of the code is NI and iNeuron. X=NI is in the local scope of the function func() hence the function prints the x value as NI. X = 'iNeuron' is in the global scope. hence print(X) prints output as iNeuron"
   ]
  },
  {
   "cell_type": "markdown",
   "id": "7e5bddcf",
   "metadata": {},
   "source": [
    "### 4. What output does this code produce? Why?\n",
    "    >>> X = 'iNeuron'\n",
    "    >>> def func():\n",
    "            global X\n",
    "            X = 'NI'\n",
    "    >>> func()\n",
    "    >>> print(X)"
   ]
  },
  {
   "cell_type": "markdown",
   "id": "7dd6f869",
   "metadata": {},
   "source": [
    " The output of the code is NI. the global keyword allows a variable to be accessible in the current scope. since we are using global keyword inside the function func it directly access the variable in X in global scope. and changes its value to NI. hence the output of the code is NI"
   ]
  },
  {
   "cell_type": "markdown",
   "id": "410806e8",
   "metadata": {},
   "source": [
    "### 5. What about this code—what’s the output, and why?\n",
    "\n",
    "    >>> X = 'iNeuron'\n",
    "    >>> def func():\n",
    "        X = 'NI'\n",
    "        def nested():\n",
    "            print(X)\n",
    "        nested()\n",
    "    >>> func()\n",
    "    >>> X"
   ]
  },
  {
   "cell_type": "markdown",
   "id": "bd19499e",
   "metadata": {},
   "source": [
    "The output of the code is NI. the reason for this output is if a function wants to access a variable, if its not available in its localscope. it looks for the variable in its global scope. similarly here also function nested looks for variable X in its global scope. hence the output of the code is NI"
   ]
  },
  {
   "cell_type": "markdown",
   "id": "bcd15bff",
   "metadata": {},
   "source": [
    "### 6. How about this code: what is its output in Python 3, and explain?\n",
    "    >>> def func():\n",
    "        X = 'NI'\n",
    "            def nested():\n",
    "                nonlocal X\n",
    "                X = 'Spam'\n",
    "            nested()\n",
    "            print(X)\n",
    "    >>> func()"
   ]
  },
  {
   "cell_type": "markdown",
   "id": "b481cb8e",
   "metadata": {},
   "source": [
    "The output of the code is Spam. nonlocal keyword in python is used to declare a variable as not local.Hence the statement X = \"Spam\" is modified in the global scope. hence the output of print(X) statement is Spam"
   ]
  },
  {
   "cell_type": "code",
   "execution_count": null,
   "id": "6e3c539e",
   "metadata": {},
   "outputs": [],
   "source": []
  }
 ],
 "metadata": {
  "kernelspec": {
   "display_name": "Python 3 (ipykernel)",
   "language": "python",
   "name": "python3"
  },
  "language_info": {
   "codemirror_mode": {
    "name": "ipython",
    "version": 3
   },
   "file_extension": ".py",
   "mimetype": "text/x-python",
   "name": "python",
   "nbconvert_exporter": "python",
   "pygments_lexer": "ipython3",
   "version": "3.9.12"
  }
 },
 "nbformat": 4,
 "nbformat_minor": 5
}
