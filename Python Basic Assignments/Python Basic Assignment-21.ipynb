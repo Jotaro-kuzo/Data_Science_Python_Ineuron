{
 "cells": [
  {
   "cell_type": "markdown",
   "id": "13eb6fe3",
   "metadata": {},
   "source": [
    "### 1. Add the current date to the text file today.txt as a string."
   ]
  },
  {
   "cell_type": "code",
   "execution_count": 2,
   "id": "391bbbac",
   "metadata": {},
   "outputs": [
    {
     "name": "stdout",
     "output_type": "stream",
     "text": [
      "2022-06-05\n"
     ]
    }
   ],
   "source": [
    "import datetime\n",
    "\n",
    "file = open('today.txt','w')\n",
    "file.write(datetime.datetime.now().strftime(\"%Y-%m-%d\"))\n",
    "file.close()\n",
    "\n",
    "\n",
    "file = open('today.txt','r')\n",
    "print(file.read())\n",
    "file.close()"
   ]
  },
  {
   "cell_type": "markdown",
   "id": "9b7d8eb0",
   "metadata": {},
   "source": [
    "### 2. Read the text file today.txt into the string today_string"
   ]
  },
  {
   "cell_type": "code",
   "execution_count": 3,
   "id": "901cd827",
   "metadata": {},
   "outputs": [
    {
     "name": "stdout",
     "output_type": "stream",
     "text": [
      "2022-06-05\n"
     ]
    }
   ],
   "source": [
    "file = open('today.txt','r')\n",
    "today_string = file.read()\n",
    "print(today_string)"
   ]
  },
  {
   "cell_type": "markdown",
   "id": "64dcf523",
   "metadata": {},
   "source": [
    "### 3. Parse the date from today_string."
   ]
  },
  {
   "cell_type": "code",
   "execution_count": 5,
   "id": "ff83752c",
   "metadata": {},
   "outputs": [
    {
     "name": "stdout",
     "output_type": "stream",
     "text": [
      "2022-06-05 00:00:00\n"
     ]
    }
   ],
   "source": [
    "from datetime import datetime\n",
    "parsed_data = datetime.strptime(today_string, '%Y-%m-%d')\n",
    "print(parsed_data)"
   ]
  },
  {
   "cell_type": "markdown",
   "id": "df0a6b4b",
   "metadata": {},
   "source": [
    "### 4. List the files in your current directory"
   ]
  },
  {
   "cell_type": "code",
   "execution_count": 6,
   "id": "09069de1",
   "metadata": {},
   "outputs": [
    {
     "name": "stdout",
     "output_type": "stream",
     "text": [
      "1.Python Advance Assignment 1.ipynb\n",
      "1.Python advance programming Assignment 4.ipynb\n",
      "1.SQL Assignment 1.ipynb\n",
      "1.Statistics -1.ipynb\n",
      "10.Python Advance Programming -10.ipynb\n",
      "10.SQL Assignment 10.ipynb\n",
      "11.Python Advance Programming 11.ipynb\n",
      "12.Python Advance  Programming 12.ipynb\n",
      "13.Python Adavance Programming 13.ipynb\n",
      "14.Python Advance Programming 14.ipynb\n",
      "15.Python Advance Programming 15.ipynb\n",
      "16.Python Advance Programming 16.ipynb\n",
      "17.Python Advance Programming 17.ipynb\n",
      "18.Python advance programming.ipynb\n",
      "19.Python Advance Programming - 19.ipynb\n",
      "2.ML Assignment -2.ipynb\n",
      "2.Python advance assignment 2.ipynb\n",
      "2.SQL Assignment 2.ipynb\n",
      "20.Python Advance programming 20.ipynb\n",
      "21.Python advance programming 21.ipynb\n",
      "22.Python Advance Programming 22.ipynb\n",
      "22.Python Advance Programming-22.ipynb\n",
      "3.ML assignment 3.ipynb\n",
      "3.Python Advance Program Assignment -3.ipynb\n",
      "3.SQL Assignment 3.ipynb\n",
      "4.ML Assignment 4.ipynb\n",
      "4.SQL Assignment 4.ipynb\n",
      "5.ML Assignment 5.ipynb\n",
      "5.Python advance programming Assignment 5.ipynb\n",
      "5.SQL Assignment 5.ipynb\n",
      "6.ML Assignment 6.ipynb\n",
      "6.Python Advance programming -6.ipynb\n",
      "6.SQL Assignment 6.ipynb\n",
      "7.Python Advance Programming Assignment-7.ipynb\n",
      "7.SQL Assignment 7.ipynb\n",
      "8.Python Advance Assignment 8.ipynb\n",
      "8.SQL Assignment 8.ipynb\n",
      "9.Python Advance programming 9.ipynb\n",
      "9.SQL assignment 9.ipynb\n",
      "Ineuron_ML_assignment_1.ipynb\n",
      "ML Assignment -7.ipynb\n",
      "ML Assignment-10.ipynb\n",
      "ML Assignment-12.ipynb\n",
      "ML Assignment-15.ipynb\n",
      "ML Assignment-8.ipynb\n",
      "ML Assignment-9.ipynb\n",
      "Practise_Python.ipynb\n",
      "Python advance assignment 1.ipynb\n",
      "Python Advance-2.ipynb\n",
      "Python Advance-3.ipynb\n",
      "Python Basic Assignment-21.ipynb\n",
      "Python Basic Assignment-22.ipynb\n",
      "Python Basic Assignment-23.ipynb\n",
      "python basic practical assignment 19.ipynb\n",
      "python basic practice assignment 21.ipynb\n",
      "Python basic practice assignment 9.ipynb\n",
      "Python basic program assignment 18.ipynb\n",
      "Python basic program assignment 20.ipynb\n",
      "python basic program assignment 6.ipynb\n",
      "Python basic program assignment 7.ipynb\n",
      "Python basic programming 23.ipynb\n",
      "Python basic programming 24.ipynb\n",
      "Python basic programming Assignment 1.ipynb\n",
      "Python basic programming assignment 10.ipynb\n",
      "Python basic programming assignment 11.ipynb\n",
      "Python basic programming assignment 12.ipynb\n",
      "Python basic programming assignment 13.ipynb\n",
      "python basic programming assignment 14.ipynb\n",
      "Python basic programming assignment 15.ipynb\n",
      "Python basic programming assignment 16.ipynb\n",
      "Python basic programming assignment 17.ipynb\n",
      "Python basic programming assignment 2.ipynb\n",
      "Python basic programming assignment 22.ipynb\n",
      "python basic programming assignment 25.ipynb\n",
      "Python basic programming assignment 3.ipynb\n",
      "Python basic programming assignment 4.ipynb\n",
      "Python basic programming assignment 5.ipynb\n",
      "Python basic programming assignment 8.ipynb\n",
      "Python Basics Assignmnet-24.ipynb\n",
      "Python Basics-25.ipynb\n",
      "Python_assignment_2.ipynb\n",
      "Statistics Assignment -2.ipynb\n",
      "Statistics Assignment-3.ipynb\n",
      "Stats Assignment-10.ipynb\n",
      "Stats Assignment-4.ipynb\n",
      "Stats Assignment-5.ipynb\n",
      "Stats Assignment-6.ipynb\n",
      "Stats assignment-7.ipynb\n",
      "Stats Assignment-8.ipynb\n",
      "Stats Assignment-9.ipynb\n",
      "today.txt\n",
      "1.Python Advance Assignment 1-checkpoint.ipynb\n",
      "1.Python advance programming Assignment 4-checkpoint.ipynb\n",
      "1.SQL Assignment 1-checkpoint.ipynb\n",
      "1.Statistics -1-checkpoint.ipynb\n",
      "10.Python Advance Programming -10-checkpoint.ipynb\n",
      "10.SQL Assignment 10-checkpoint.ipynb\n",
      "11.Python Advance Programming 11-checkpoint.ipynb\n",
      "12.Python Advance  Programming 12-checkpoint.ipynb\n",
      "13.Python Adavance Programming 13-checkpoint.ipynb\n",
      "14.Python Advance Programming 14-checkpoint.ipynb\n",
      "15.Python Advance Programming 15-checkpoint.ipynb\n",
      "16.Python Advance Programming 16-checkpoint.ipynb\n",
      "17.Python Advance Programming 17-checkpoint.ipynb\n",
      "18.Python advance programming-checkpoint.ipynb\n",
      "19.Python Advance Programming - 19-checkpoint.ipynb\n",
      "2.ML Assignment -2-checkpoint.ipynb\n",
      "2.Python advance assignment 2-checkpoint.ipynb\n",
      "2.SQL Assignment 2-checkpoint.ipynb\n",
      "20.Python Advance programming 20-checkpoint.ipynb\n",
      "21.Python advance programming 21-checkpoint.ipynb\n",
      "22.Python Advance Programming 22-checkpoint.ipynb\n",
      "22.Python Advance Programming-22-checkpoint.ipynb\n",
      "3.ML assignment 3-checkpoint.ipynb\n",
      "3.Python Advance Program Assignment -3-checkpoint.ipynb\n",
      "3.SQL Assignment 3-checkpoint.ipynb\n",
      "4.ML Assignment 4-checkpoint.ipynb\n",
      "4.SQL Assignment 4-checkpoint.ipynb\n",
      "5.ML Assignment 5-checkpoint.ipynb\n",
      "5.Python advance programming Assignment 5-checkpoint.ipynb\n",
      "5.SQL Assignment 5-checkpoint.ipynb\n",
      "6.ML Assignment 6-checkpoint.ipynb\n",
      "6.Python Advance programming -6-checkpoint.ipynb\n",
      "6.SQL Assignment 6-checkpoint.ipynb\n",
      "7.Python Advance Programming Assignment-7-checkpoint.ipynb\n",
      "7.SQL Assignment 7-checkpoint.ipynb\n",
      "8.Python Advance Assignment 8-checkpoint.ipynb\n",
      "8.SQL Assignment 8-checkpoint.ipynb\n",
      "9.Python Advance programming 9-checkpoint.ipynb\n",
      "9.SQL assignment 9-checkpoint.ipynb\n",
      "Ineuron_ML_assignment_1-checkpoint.ipynb\n",
      "ML Assignment -7-checkpoint.ipynb\n",
      "ML Assignment-10-checkpoint.ipynb\n",
      "ML Assignment-12-checkpoint.ipynb\n",
      "ML Assignment-15-checkpoint.ipynb\n",
      "ML Assignment-8-checkpoint.ipynb\n",
      "ML Assignment-9-checkpoint.ipynb\n",
      "Practise_Python-checkpoint.ipynb\n",
      "Python advance assignment 1-checkpoint.ipynb\n",
      "Python Advance-2-checkpoint.ipynb\n",
      "Python Advance-3-checkpoint.ipynb\n",
      "Python Basic Assignment-21-checkpoint.ipynb\n",
      "Python Basic Assignment-22-checkpoint.ipynb\n",
      "Python Basic Assignment-23-checkpoint.ipynb\n",
      "python basic practical assignment 19-checkpoint.ipynb\n",
      "python basic practice assignment 21-checkpoint.ipynb\n",
      "Python basic practice assignment 9-checkpoint.ipynb\n",
      "Python basic program assignment 18-checkpoint.ipynb\n",
      "Python basic program assignment 20-checkpoint.ipynb\n",
      "python basic program assignment 6-checkpoint.ipynb\n",
      "Python basic program assignment 7-checkpoint.ipynb\n",
      "Python basic programming 23-checkpoint.ipynb\n",
      "Python basic programming 24-checkpoint.ipynb\n",
      "Python basic programming Assignment 1-checkpoint.ipynb\n",
      "Python basic programming assignment 10-checkpoint.ipynb\n",
      "Python basic programming assignment 11-checkpoint.ipynb\n",
      "Python basic programming assignment 12-checkpoint.ipynb\n",
      "Python basic programming assignment 13-checkpoint.ipynb\n",
      "python basic programming assignment 14-checkpoint.ipynb\n",
      "Python basic programming assignment 15-checkpoint.ipynb\n",
      "Python basic programming assignment 16-checkpoint.ipynb\n",
      "Python basic programming assignment 17-checkpoint.ipynb\n",
      "Python basic programming assignment 2-checkpoint.ipynb\n",
      "Python basic programming assignment 22-checkpoint.ipynb\n",
      "python basic programming assignment 25-checkpoint.ipynb\n",
      "Python basic programming assignment 3-checkpoint.ipynb\n",
      "Python basic programming assignment 4-checkpoint.ipynb\n",
      "Python basic programming assignment 5-checkpoint.ipynb\n",
      "Python basic programming assignment 8-checkpoint.ipynb\n",
      "Python Basics Assignmnet-24-checkpoint.ipynb\n",
      "Python Basics-25-checkpoint.ipynb\n",
      "Python_assignment_2-checkpoint.ipynb\n",
      "Statistics Assignment -2-checkpoint.ipynb\n",
      "Statistics Assignment-3-checkpoint.ipynb\n",
      "Stats Assignment-10-checkpoint.ipynb\n",
      "Stats Assignment-4-checkpoint.ipynb\n",
      "Stats Assignment-5-checkpoint.ipynb\n",
      "Stats Assignment-6-checkpoint.ipynb\n",
      "Stats assignment-7-checkpoint.ipynb\n",
      "Stats Assignment-8-checkpoint.ipynb\n",
      "Stats Assignment-9-checkpoint.ipynb\n"
     ]
    }
   ],
   "source": [
    "import os\n",
    "for folders, subfolders, files in os.walk(os.getcwd()):\n",
    "    for file in files:\n",
    "        print(file)"
   ]
  },
  {
   "cell_type": "markdown",
   "id": "a27b55e5",
   "metadata": {},
   "source": [
    "### 5. Create a list of all of the files in your parent directory (minimum five files should be available)."
   ]
  },
  {
   "cell_type": "code",
   "execution_count": 7,
   "id": "e8f1cb39",
   "metadata": {},
   "outputs": [
    {
     "data": {
      "text/plain": [
       "['.ipynb_checkpoints',\n",
       " '1.Python Advance Assignment 1.ipynb',\n",
       " '1.Python advance programming Assignment 4.ipynb',\n",
       " '1.SQL Assignment 1.ipynb',\n",
       " '1.Statistics -1.ipynb',\n",
       " '10.Python Advance Programming -10.ipynb',\n",
       " '10.SQL Assignment 10.ipynb',\n",
       " '11.Python Advance Programming 11.ipynb',\n",
       " '12.Python Advance  Programming 12.ipynb',\n",
       " '13.Python Adavance Programming 13.ipynb',\n",
       " '14.Python Advance Programming 14.ipynb',\n",
       " '15.Python Advance Programming 15.ipynb',\n",
       " '16.Python Advance Programming 16.ipynb',\n",
       " '17.Python Advance Programming 17.ipynb',\n",
       " '18.Python advance programming.ipynb',\n",
       " '19.Python Advance Programming - 19.ipynb',\n",
       " '2.ML Assignment -2.ipynb',\n",
       " '2.Python advance assignment 2.ipynb',\n",
       " '2.SQL Assignment 2.ipynb',\n",
       " '20.Python Advance programming 20.ipynb',\n",
       " '21.Python advance programming 21.ipynb',\n",
       " '22.Python Advance Programming 22.ipynb',\n",
       " '22.Python Advance Programming-22.ipynb',\n",
       " '3.ML assignment 3.ipynb',\n",
       " '3.Python Advance Program Assignment -3.ipynb',\n",
       " '3.SQL Assignment 3.ipynb',\n",
       " '4.ML Assignment 4.ipynb',\n",
       " '4.SQL Assignment 4.ipynb',\n",
       " '5.ML Assignment 5.ipynb',\n",
       " '5.Python advance programming Assignment 5.ipynb',\n",
       " '5.SQL Assignment 5.ipynb',\n",
       " '6.ML Assignment 6.ipynb',\n",
       " '6.Python Advance programming -6.ipynb',\n",
       " '6.SQL Assignment 6.ipynb',\n",
       " '7.Python Advance Programming Assignment-7.ipynb',\n",
       " '7.SQL Assignment 7.ipynb',\n",
       " '8.Python Advance Assignment 8.ipynb',\n",
       " '8.SQL Assignment 8.ipynb',\n",
       " '9.Python Advance programming 9.ipynb',\n",
       " '9.SQL assignment 9.ipynb',\n",
       " 'Ineuron_ML_assignment_1.ipynb',\n",
       " 'ML Assignment -7.ipynb',\n",
       " 'ML Assignment-10.ipynb',\n",
       " 'ML Assignment-12.ipynb',\n",
       " 'ML Assignment-15.ipynb',\n",
       " 'ML Assignment-8.ipynb',\n",
       " 'ML Assignment-9.ipynb',\n",
       " 'Practise_Python.ipynb',\n",
       " 'Python advance assignment 1.ipynb',\n",
       " 'Python Advance-2.ipynb',\n",
       " 'Python Advance-3.ipynb',\n",
       " 'Python Basic Assignment-21.ipynb',\n",
       " 'Python Basic Assignment-22.ipynb',\n",
       " 'Python Basic Assignment-23.ipynb',\n",
       " 'python basic practical assignment 19.ipynb',\n",
       " 'python basic practice assignment 21.ipynb',\n",
       " 'Python basic practice assignment 9.ipynb',\n",
       " 'Python basic program assignment 18.ipynb',\n",
       " 'Python basic program assignment 20.ipynb',\n",
       " 'python basic program assignment 6.ipynb',\n",
       " 'Python basic program assignment 7.ipynb',\n",
       " 'Python basic programming 23.ipynb',\n",
       " 'Python basic programming 24.ipynb',\n",
       " 'Python basic programming Assignment 1.ipynb',\n",
       " 'Python basic programming assignment 10.ipynb',\n",
       " 'Python basic programming assignment 11.ipynb',\n",
       " 'Python basic programming assignment 12.ipynb',\n",
       " 'Python basic programming assignment 13.ipynb',\n",
       " 'python basic programming assignment 14.ipynb',\n",
       " 'Python basic programming assignment 15.ipynb',\n",
       " 'Python basic programming assignment 16.ipynb',\n",
       " 'Python basic programming assignment 17.ipynb',\n",
       " 'Python basic programming assignment 2.ipynb',\n",
       " 'Python basic programming assignment 22.ipynb',\n",
       " 'python basic programming assignment 25.ipynb',\n",
       " 'Python basic programming assignment 3.ipynb',\n",
       " 'Python basic programming assignment 4.ipynb',\n",
       " 'Python basic programming assignment 5.ipynb',\n",
       " 'Python basic programming assignment 8.ipynb',\n",
       " 'Python Basics Assignmnet-24.ipynb',\n",
       " 'Python Basics-25.ipynb',\n",
       " 'Python_assignment_2.ipynb',\n",
       " 'Statistics Assignment -2.ipynb',\n",
       " 'Statistics Assignment-3.ipynb',\n",
       " 'Stats Assignment-10.ipynb',\n",
       " 'Stats Assignment-4.ipynb',\n",
       " 'Stats Assignment-5.ipynb',\n",
       " 'Stats Assignment-6.ipynb',\n",
       " 'Stats assignment-7.ipynb',\n",
       " 'Stats Assignment-8.ipynb',\n",
       " 'Stats Assignment-9.ipynb',\n",
       " 'today.txt']"
      ]
     },
     "execution_count": 7,
     "metadata": {},
     "output_type": "execute_result"
    }
   ],
   "source": [
    "import os \n",
    "os.listdir()"
   ]
  },
  {
   "cell_type": "markdown",
   "id": "efba4af6",
   "metadata": {},
   "source": [
    "### 6. Use multiprocessing to create three separate processes. Make each one wait a random number of seconds between one and five, print the current time, and then exit."
   ]
  },
  {
   "cell_type": "code",
   "execution_count": 8,
   "id": "846bec68",
   "metadata": {},
   "outputs": [],
   "source": [
    "import multiprocessing\n",
    "import time \n",
    "import random\n",
    "import datetime\n",
    "\n",
    "def procOne():\n",
    "    print(f'Proc_one_Starttime -> {datetime.datetime.now()}')\n",
    "    time.sleep(random.randint(1,5))\n",
    "    print(f'Proc_one_Endtime -> {datetime.datetime.now()}')\n",
    "    \n",
    "def procTwo():\n",
    "    print(f'Proc_two_Starttime -> {datetime.datetime.now()}')\n",
    "    time.sleep(random.randint(1,5))\n",
    "    print(f'Proc_two_Endtime -> {datetime.datetime.now()}')\n",
    "\n",
    "def procThree():\n",
    "    print(f'Proc_two_Starttime -> {datetime.datetime.now()}')\n",
    "    time.sleep(random.randint(1,5))\n",
    "    print(f'Proc_two_Endtime -> {datetime.datetime.now()}')\n",
    "    \n",
    "if __name__ == \"__main__\":    \n",
    "    p1 = multiprocessing.Process(target=procOne)\n",
    "    p2 = multiprocessing.Process(target=procTwo)\n",
    "    p3 = multiprocessing.Process(target=procThree)\n",
    "\n",
    "    p1.start()\n",
    "    p1.join()\n",
    "    p2.start()\n",
    "    p2.join()\n",
    "    p3.start()\n",
    "    p3.join()\n",
    "\n",
    "    "
   ]
  },
  {
   "cell_type": "markdown",
   "id": "c4c758a3",
   "metadata": {},
   "source": [
    "### 7. Create a date object of your day of birth."
   ]
  },
  {
   "cell_type": "code",
   "execution_count": 14,
   "id": "5af21d36",
   "metadata": {},
   "outputs": [
    {
     "name": "stdout",
     "output_type": "stream",
     "text": [
      "1998-09-02 00:00:00 <class 'datetime.datetime'>\n"
     ]
    }
   ],
   "source": [
    "from datetime import datetime\n",
    "my_dob = datetime.strptime('02/09/1998','%d/%m/%Y')\n",
    "print(my_dob, type(my_dob))"
   ]
  },
  {
   "cell_type": "markdown",
   "id": "9e4629e6",
   "metadata": {},
   "source": [
    "### 8. What day of the week was your day of birth?"
   ]
  },
  {
   "cell_type": "code",
   "execution_count": 16,
   "id": "5c82db90",
   "metadata": {},
   "outputs": [
    {
     "data": {
      "text/plain": [
       "'Wednesday'"
      ]
     },
     "execution_count": 16,
     "metadata": {},
     "output_type": "execute_result"
    }
   ],
   "source": [
    "from datetime import datetime\n",
    "my_dob = datetime(1998,9,2)\n",
    "my_dob.strftime(\"%A\")"
   ]
  },
  {
   "cell_type": "markdown",
   "id": "9c3a7116",
   "metadata": {},
   "source": [
    "### 9. When will you be (or when were you) 10,000 days old?"
   ]
  },
  {
   "cell_type": "code",
   "execution_count": 20,
   "id": "54d6321f",
   "metadata": {},
   "outputs": [
    {
     "name": "stdout",
     "output_type": "stream",
     "text": [
      "2026-01-18\n"
     ]
    }
   ],
   "source": [
    "import datetime\n",
    "\n",
    "start_date = datetime.datetime(year=1998, month=9, day=2)\n",
    "\n",
    "end_date = start_date + datetime.timedelta(days=10000)\n",
    "\n",
    "print(end_date.date())"
   ]
  },
  {
   "cell_type": "code",
   "execution_count": null,
   "id": "cbfdd066",
   "metadata": {},
   "outputs": [],
   "source": []
  }
 ],
 "metadata": {
  "kernelspec": {
   "display_name": "Python 3 (ipykernel)",
   "language": "python",
   "name": "python3"
  },
  "language_info": {
   "codemirror_mode": {
    "name": "ipython",
    "version": 3
   },
   "file_extension": ".py",
   "mimetype": "text/x-python",
   "name": "python",
   "nbconvert_exporter": "python",
   "pygments_lexer": "ipython3",
   "version": "3.9.12"
  }
 },
 "nbformat": 4,
 "nbformat_minor": 5
}
