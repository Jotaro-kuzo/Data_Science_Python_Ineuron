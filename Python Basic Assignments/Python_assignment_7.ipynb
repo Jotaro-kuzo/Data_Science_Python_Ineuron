{
 "cells": [
  {
   "cell_type": "markdown",
   "id": "d51f01f6",
   "metadata": {},
   "source": [
    "# 1. What is the name of the feature responsible for generating Regex objects?\n",
    "\n",
    "re is the module used in regular expression.\n",
    "\n",
    "re.compile() function returns regex objects. \n"
   ]
  },
  {
   "cell_type": "markdown",
   "id": "0348cd86",
   "metadata": {},
   "source": [
    "# 2. Why do raw strings often appear in Regex objects?\n",
    "\n",
    "Raw strings appear often in regex objects as it is helpful in handlings strings with lots of backslash.\n",
    "\n",
    "There is no need to use escape character while using raw string. \n"
   ]
  },
  {
   "cell_type": "markdown",
   "id": "7be70d06",
   "metadata": {},
   "source": [
    "# 3. What is the return value of the search() method?\n",
    "\n",
    "search() method returns the match objects if there is any matches in the string\n"
   ]
  },
  {
   "cell_type": "markdown",
   "id": "b6eacb02",
   "metadata": {},
   "source": [
    "# 4. From a Match item, how do you get the actual strings that match the pattern?\n",
    "\n",
    "group() method is used to get the string that matches the pattern. \n"
   ]
  },
  {
   "cell_type": "markdown",
   "id": "244af055",
   "metadata": {},
   "source": [
    "# 5. In the regex which created from the r'(\\d\\d\\d)-(\\d\\d\\d-\\d\\d\\d\\d)', what does group zero cover? Group 2? Group 1?\n",
    "\n",
    "Group 0 is the entire match , Group 1 covers the match in first parenthesis and group 2 covers the 2nd parenthesis. \n"
   ]
  },
  {
   "cell_type": "markdown",
   "id": "7a5b2219",
   "metadata": {},
   "source": [
    "# 6. In standard expression syntax, parentheses and intervals have distinct meanings. How can you tell a regex that you want it to fit real parentheses and periods?\n",
    "\n",
    "Periods and parenthesis can be expressed with backslash \\ . , \\ (, \\)\n"
   ]
  },
  {
   "cell_type": "markdown",
   "id": "a16b3183",
   "metadata": {},
   "source": [
    "# 7. The findall() method returns a string list or a list of string tuples. What causes it to return one of the two options?\n",
    "If regex has group , findall() method will return a list of tuples of string.\n",
    "\n",
    "If the regex does not have group, it will return a list of strings. \n"
   ]
  },
  {
   "cell_type": "markdown",
   "id": "406322b9",
   "metadata": {},
   "source": [
    "\n",
    "# 8. In standard expressions, what does the | character mean?\n",
    "\n",
    "character | stands for either or\n",
    "\n"
   ]
  },
  {
   "cell_type": "markdown",
   "id": "40b18208",
   "metadata": {},
   "source": [
    "# 9. In regular expressions, what does the character stand for?\n",
    "\n",
    "The character in regular expression is used to find specific pattern. \n",
    "\n",
    "The character ? matches the zero or one occurrence of any character. \n"
   ]
  },
  {
   "cell_type": "markdown",
   "id": "10761026",
   "metadata": {},
   "source": [
    "# 10.In regular expressions, what is the difference between the + and * characters?\n",
    "\n",
    "Difference between + and * are : \n",
    "+ requires atleast 1 character to match and * can match none or more. \n"
   ]
  },
  {
   "cell_type": "markdown",
   "id": "7b0fabc6",
   "metadata": {},
   "source": [
    "# 11. What is the difference between {4} and {4,5} in regular expression?\n",
    "\n",
    "{4} matches exactly 4 characters. \n",
    "\n",
    "{4,5} matches the characters between 4 and 5. \n",
    "\n"
   ]
  },
  {
   "cell_type": "markdown",
   "id": "194f8947",
   "metadata": {},
   "source": [
    "# 12. What do you mean by the \\d, \\w, and \\s shorthand character classes signify in regular expressions?\n",
    "\n",
    "\\d returns the match where it contains digits. \n",
    "\n",
    "\\w returns the match where it contains words.\n",
    "\n",
    "\\s returns the match which contains whitespaces. \n"
   ]
  },
  {
   "cell_type": "markdown",
   "id": "19f315d2",
   "metadata": {},
   "source": [
    "# 13. What do means by \\D, \\W, and \\S shorthand character classes signify in regular expressions?\n",
    "\n",
    "\\D returns the match which does not contain digits. \n",
    "\n",
    "\\W returns the match where it doesn’t contain any words.\n",
    "\n",
    "\\S  returns the match which does not  contains whitespace characters.\n"
   ]
  },
  {
   "cell_type": "markdown",
   "id": "d724437f",
   "metadata": {},
   "source": [
    "# 14. What is the difference between .*? and .*?\n",
    "\n",
    "Difference between .*? and .* are : \n",
    "\n",
    ".*  performs the greedy match whereas .*? performs non-greedy match.\n"
   ]
  },
  {
   "cell_type": "markdown",
   "id": "316090a3",
   "metadata": {},
   "source": [
    "# 15. What is the syntax for matching both numbers and lowercase letters with a character class?\n",
    "\n",
    "[a-z0-9]\n",
    "\n",
    "[0-9a-z]\n"
   ]
  },
  {
   "cell_type": "markdown",
   "id": "b0d3e374",
   "metadata": {},
   "source": [
    "# 16. What is the procedure for making a normal expression in regax case insensitive?\n",
    "\n",
    "We can parse re.IGNORECASE as a second argument to regex method to get a match with case insensitive. \n",
    "\n"
   ]
  },
  {
   "cell_type": "markdown",
   "id": "fd17c723",
   "metadata": {},
   "source": [
    "# 17. What does the . character normally match? What does it match if re.DOTALL is passed as 2nd argument in re.compile()?\n",
    "\n",
    ". character matches any character other than new line character. \n",
    "\n",
    "If re.DOTALL is passed as 2nd character, it will match for new line character also. \n"
   ]
  },
  {
   "cell_type": "markdown",
   "id": "c1de1985",
   "metadata": {},
   "source": [
    "# 18. If numReg = re.compile(r'\\d+'), what will numRegex.sub('X', '11 drummers, 10 pipers, five rings, 4 hen') return?\n",
    "\n",
    "'X drummers, X pipers, five rings, X hen'\n",
    "\n"
   ]
  },
  {
   "cell_type": "markdown",
   "id": "5cf4f9f2",
   "metadata": {},
   "source": [
    "# 19. What does passing re.VERBOSE as the 2nd argument to re.compile() allow to do?\n",
    "\n",
    "It is used to represent the regular expression in more readable format. \n",
    "\n",
    "It allows to add comment using # and ignore the whitespace character including line break. \n"
   ]
  },
  {
   "cell_type": "markdown",
   "id": "d3b928cb",
   "metadata": {},
   "source": [
    "# 20. How would you write a regex that match a number with comma for every three digits? It must match the given following:\n",
    "'42'\n",
    "\n",
    "'1,234'\n",
    "\n",
    "'6,368,745'\n",
    "\n",
    "but not the following:\n",
    "    \n",
    "'12,34,567' (which has only two digits between the commas)\n",
    "\n",
    "'1234' (which lacks commas)\n",
    "\n",
    "Answer:\n",
    "\n",
    "re.compile(r'^\\d{1,3}(,\\d{3})*$')\n",
    "\n",
    "\n"
   ]
  },
  {
   "cell_type": "markdown",
   "id": "05ac6569",
   "metadata": {},
   "source": [
    "# 21. How would you write a regex that matches the full name of someone whose last name is Watanabe? You can assume that the first name that comes before it will always be one word that begins with a capital letter. The regex must match the following:\n",
    "'Haruto Watanabe'\n",
    "\n",
    "'Alice Watanabe'\n",
    "\n",
    "'RoboCop Watanabe'\n",
    "\n",
    "but not the following:\n",
    "    \n",
    "'haruto Watanabe' (where the first name is not capitalized)\n",
    "\n",
    "'Mr. Watanabe' (where the preceding word has a nonletter character)\n",
    "\n",
    "'Watanabe' (which has no first name)\n",
    "\n",
    "'Haruto watanabe' (where Watanabe is not capitalized)\n",
    "\n",
    "Answer:\n",
    "\n",
    "Re.compile(r’[A-Z][a-z] *\\sWatanable’)\n"
   ]
  },
  {
   "cell_type": "markdown",
   "id": "1b786b77",
   "metadata": {},
   "source": [
    "# 22. How would you write a regex that matches a sentence where the first word is either Alice, Bob, or Carol; the second word is either eats, pets, or throws; the third word is apples, cats, or baseballs; and the sentence ends with a period? This regex should be case-insensitive. It must match the following:\n",
    "'Alice eats apples.'\n",
    "\n",
    "'Bob pets cats.'\n",
    "\n",
    "'Carol throws baseballs.'\n",
    "\n",
    "'Alice throws Apples.'\n",
    "\n",
    "'BOB EATS CATS.'\n",
    "\n",
    "but not the following:\n",
    "    \n",
    "'RoboCop eats apples.'\n",
    "\n",
    "'ALICE THROWS FOOTBALLS.'\n",
    "\n",
    "'Carol eats 7 cats.'\n",
    "\n",
    "Answer:\n",
    "\n",
    "re.compile(r'(Alice|Bob|Carol)\\s(eats|pets|throws)\\s(apples|cats|baseballs)\\.', re.IGNORECASE)\n"
   ]
  }
 ],
 "metadata": {
  "kernelspec": {
   "display_name": "Python 3",
   "language": "python",
   "name": "python3"
  },
  "language_info": {
   "codemirror_mode": {
    "name": "ipython",
    "version": 3
   },
   "file_extension": ".py",
   "mimetype": "text/x-python",
   "name": "python",
   "nbconvert_exporter": "python",
   "pygments_lexer": "ipython3",
   "version": "3.8.8"
  }
 },
 "nbformat": 4,
 "nbformat_minor": 5
}
