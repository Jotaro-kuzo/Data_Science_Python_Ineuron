{
 "cells": [
  {
   "cell_type": "markdown",
   "id": "40aed53a",
   "metadata": {},
   "source": [
    "# 1. Is the Python Standard Library included with PyInputPlus?\n",
    "\n",
    "PyInputPlus is not part of Python Standard Library. \n"
   ]
  },
  {
   "cell_type": "markdown",
   "id": "3b8b75de",
   "metadata": {},
   "source": [
    "# 2. Why is PyInputPlus commonly imported with import pyinputplus as pypi?\n",
    "\n",
    "pypi is a short name for pyinputplus.\n",
    "\n",
    "It makes easy to call pyinputplus as pypi instead of typing fully as pyinputplus. \n"
   ]
  },
  {
   "cell_type": "markdown",
   "id": "c90e51e8",
   "metadata": {},
   "source": [
    "# 3. How do you distinguish between inputInt() and inputFloat()?\n",
    "\n",
    "inputInt() method validates for integer value and returns integer. \n",
    "\n",
    "inputFloat() method returns floating point numbers.\n"
   ]
  },
  {
   "cell_type": "markdown",
   "id": "b79eb051",
   "metadata": {},
   "source": [
    "# 4. Using PyInputPlus, how do you ensure that the user enters a whole number between 0 and 99?\n",
    "\n",
    "pyip.inputInt(min = 0, max =99)\n"
   ]
  },
  {
   "cell_type": "markdown",
   "id": "d3c02c98",
   "metadata": {},
   "source": [
    "# 5. What is transferred to the keyword arguments allowRegexes and blockRegexes?\n",
    "\n",
    "The allowRegexes and blockRegexes arguments takes a list of regular expressions and decide whether the PyInputPlus can accept the input value or reject it. \n"
   ]
  },
  {
   "cell_type": "markdown",
   "id": "cca33823",
   "metadata": {},
   "source": [
    "# 6. If a blank input is entered three times, what does inputStr(limit=3) do?\n",
    "\n",
    "It will throw RetryLimitException as the limit is mentioned as 3. \n"
   ]
  },
  {
   "cell_type": "markdown",
   "id": "237d91f7",
   "metadata": {},
   "source": [
    "# 7. If blank input is entered three times, what does inputStr(limit=3, default='hello') do?\n",
    "\n",
    "It will return 'hello'. \n"
   ]
  }
 ],
 "metadata": {
  "kernelspec": {
   "display_name": "Python 3",
   "language": "python",
   "name": "python3"
  },
  "language_info": {
   "codemirror_mode": {
    "name": "ipython",
    "version": 3
   },
   "file_extension": ".py",
   "mimetype": "text/x-python",
   "name": "python",
   "nbconvert_exporter": "python",
   "pygments_lexer": "ipython3",
   "version": "3.8.8"
  }
 },
 "nbformat": 4,
 "nbformat_minor": 5
}
