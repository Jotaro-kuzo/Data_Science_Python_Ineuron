{
 "cells": [
  {
   "cell_type": "markdown",
   "id": "b195ffc3",
   "metadata": {},
   "source": [
    "\n",
    "# 1. To what does a relative path refer?\n",
    "\n",
    "Relative path refers to the path which is related to the current working directory. \n"
   ]
  },
  {
   "cell_type": "markdown",
   "id": "f671d4bc",
   "metadata": {},
   "source": [
    "# 2. What does an absolute path start with your operating system?\n",
    "\n",
    "Absolute path stars with the root directory ‘\\’. \n"
   ]
  },
  {
   "cell_type": "markdown",
   "id": "fe055e1e",
   "metadata": {},
   "source": [
    "# 3. What do the functions os.getcwd() and os.chdir() do?\n",
    "\n",
    "os.chdir() method takes a path as a argument and change the current working directory to newly specified path. \n",
    "\n",
    "os.getcwd()  method gives the current working directory.\n"
   ]
  },
  {
   "cell_type": "markdown",
   "id": "8db1e1a0",
   "metadata": {},
   "source": [
    "# 4. What are the . and .. folders?\n",
    "\n",
    ". refers the current directory and .. folders refers the parent directory\n"
   ]
  },
  {
   "cell_type": "markdown",
   "id": "7ff73c7b",
   "metadata": {},
   "source": [
    "# 5. In C:\\bacon\\eggs\\spam.txt, which part is the dir name, and which part is the base name?\n",
    "\n",
    "C:\\bacon\\eggs is the directory name and spam.txt is the base name.\n"
   ]
  },
  {
   "cell_type": "markdown",
   "id": "dbdeadc6",
   "metadata": {},
   "source": [
    "# 6. What are the three “mode” arguments that can be passed to the open() function?\n",
    "\n",
    "The three “mode” arguments that can be passed to the open() function are : \n",
    "\n",
    "r – It is used to open the file in read only mode\n",
    "\n",
    "w – It is used to open the file in write only mode.\n",
    "\n",
    "a – It is used to append the data into the file. \n",
    "\n"
   ]
  },
  {
   "cell_type": "markdown",
   "id": "75ccbbf4",
   "metadata": {},
   "source": [
    "# 7. What happens if an existing file is opened in write mode?\n",
    "\n",
    "If the existing file is opened in write mode, the content of the files will be removed and it will be treated as a new file. It overrides the existing data.\n"
   ]
  },
  {
   "cell_type": "markdown",
   "id": "e91330f2",
   "metadata": {},
   "source": [
    "# 8. How do you tell the difference between read() and readlines()?\n",
    "\n",
    "read() method will read the entire content of the file and returns as a string value.\n",
    "\n",
    "readlines() method returns the list of strings values from the file.\n",
    "\n"
   ]
  },
  {
   "cell_type": "markdown",
   "id": "12f2ce88",
   "metadata": {},
   "source": [
    "# 9. What data structure does a shelf value resemble?\n",
    "\n",
    "Shelf values resembles the dictionary structure. \n",
    "\n",
    "It also has keys(), values() method and stores data similar to dictionary. \n"
   ]
  }
 ],
 "metadata": {
  "kernelspec": {
   "display_name": "Python 3",
   "language": "python",
   "name": "python3"
  },
  "language_info": {
   "codemirror_mode": {
    "name": "ipython",
    "version": 3
   },
   "file_extension": ".py",
   "mimetype": "text/x-python",
   "name": "python",
   "nbconvert_exporter": "python",
   "pygments_lexer": "ipython3",
   "version": "3.8.8"
  }
 },
 "nbformat": 4,
 "nbformat_minor": 5
}
