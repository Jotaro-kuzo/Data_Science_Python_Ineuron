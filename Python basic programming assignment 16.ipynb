{
 "cells": [
  {
   "cell_type": "markdown",
   "id": "453b8623",
   "metadata": {},
   "source": [
    "### Question1. Write a function that stutters a word as if someone is struggling to read it. The first two letters are repeated twice with an ellipsis ... and space after each, and then the word is pronounced with a question mark ?."
   ]
  },
  {
   "cell_type": "code",
   "execution_count": 1,
   "id": "ea929951",
   "metadata": {},
   "outputs": [
    {
     "name": "stdout",
     "output_type": "stream",
     "text": [
      "enter a  word: incredible\n",
      "in...in...incredible?\n"
     ]
    }
   ],
   "source": [
    "string = input(\"enter a  word: \")\n",
    "if len(string)>2:\n",
    "    print(string[:2]+\"...\"+string[:2]+\"...\"+string+\"?\")"
   ]
  },
  {
   "cell_type": "markdown",
   "id": "c125bdbb",
   "metadata": {},
   "source": [
    "### Question 2.Create a function that takes an angle in radians and returns the corresponding angle in degrees rounded to one decimal place."
   ]
  },
  {
   "cell_type": "code",
   "execution_count": 5,
   "id": "d168f7fc",
   "metadata": {},
   "outputs": [
    {
     "name": "stdout",
     "output_type": "stream",
     "text": [
      "Enter parameter value in radians: 50\n",
      "The corresponding parameter in degrees is: \n",
      "2864.8\n"
     ]
    }
   ],
   "source": [
    "import math\n",
    "def degree(r):\n",
    "    p = math.pi\n",
    "    d = r*(180/p)\n",
    "    return d\n",
    "\n",
    "radians = float(input(\"Enter parameter value in radians: \"))\n",
    "print(\"The corresponding parameter in degrees is: \")\n",
    "print(\"%0.1f\" %(degree(radians)))"
   ]
  },
  {
   "cell_type": "markdown",
   "id": "d24a625e",
   "metadata": {},
   "source": [
    "### Question 3. In this challenge, establish if a given integer num is a Curzon number. If 1 plus 2 elevated to num is exactly divisible by 1 plus 2 multiplied by num, then num is a Curzon  number.\n",
    "\n",
    "### Given a non-negative integer num, implement a function that returns True if num is a Curzon number, or False otherwise."
   ]
  },
  {
   "cell_type": "code",
   "execution_count": 6,
   "id": "2c5b9a1f",
   "metadata": {},
   "outputs": [
    {
     "name": "stdout",
     "output_type": "stream",
     "text": [
      "Enter an integer: 5\n",
      "True\n"
     ]
    }
   ],
   "source": [
    "def curzon_number(n):\n",
    "    power = pow(2,n)+1\n",
    "    product = (2*n)+1\n",
    "    if(power%product == 0):\n",
    "        print(\"True\")\n",
    "    else:\n",
    "        print(\"False\")\n",
    "\n",
    "if __name__ == \"__main__\":\n",
    "    number = int(input(\"Enter an integer: \"))\n",
    "    curzon_number(number)"
   ]
  },
  {
   "cell_type": "markdown",
   "id": "9a148d59",
   "metadata": {},
   "source": [
    "### Question 4.Given the side length x find the area of a hexagon."
   ]
  },
  {
   "cell_type": "code",
   "execution_count": 9,
   "id": "0ee9f4f9",
   "metadata": {},
   "outputs": [
    {
     "name": "stdout",
     "output_type": "stream",
     "text": [
      "enter the side of hexagon: 5\n",
      "the area od hexagon is:  64.9519052838329\n"
     ]
    }
   ],
   "source": [
    "def area(s):\n",
    "    a = (3*3**(1/2)* s**2)/2\n",
    "    return a\n",
    "\n",
    "if __name__==\"__main__\":\n",
    "    side = float(input(\"enter the side of hexagon: \"))\n",
    "    print(\"the area od hexagon is: \", end =\" \")\n",
    "    print(area(side))"
   ]
  },
  {
   "cell_type": "markdown",
   "id": "b71ad527",
   "metadata": {},
   "source": [
    "### Create a function that returns a base-2 (binary) representation of a base-10 (decimal) string number. To convert is simple: ((2) means base-2 and (10) means base-10) 010101001(2) = 1 + 8 + 32 + 128."
   ]
  },
  {
   "cell_type": "code",
   "execution_count": 10,
   "id": "c8d0f3cf",
   "metadata": {},
   "outputs": [
    {
     "name": "stdout",
     "output_type": "stream",
     "text": [
      "enter a integer in decimal format: 5\n",
      "101\n"
     ]
    }
   ],
   "source": [
    "def converter(n):\n",
    "    print(bin(n).replace(\"0b\",\"\"))\n",
    "\n",
    "number = int(input(\"enter a integer in decimal format: \"))\n",
    "converter(number)"
   ]
  },
  {
   "cell_type": "code",
   "execution_count": null,
   "id": "049919ea",
   "metadata": {},
   "outputs": [],
   "source": []
  }
 ],
 "metadata": {
  "kernelspec": {
   "display_name": "Python 3 (ipykernel)",
   "language": "python",
   "name": "python3"
  },
  "language_info": {
   "codemirror_mode": {
    "name": "ipython",
    "version": 3
   },
   "file_extension": ".py",
   "mimetype": "text/x-python",
   "name": "python",
   "nbconvert_exporter": "python",
   "pygments_lexer": "ipython3",
   "version": "3.9.12"
  }
 },
 "nbformat": 4,
 "nbformat_minor": 5
}
