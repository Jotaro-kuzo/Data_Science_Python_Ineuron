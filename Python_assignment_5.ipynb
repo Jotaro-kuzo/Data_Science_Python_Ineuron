{
 "cells": [
  {
   "cell_type": "markdown",
   "id": "4498a5ba",
   "metadata": {},
   "source": [
    "# 1. What does an empty dictionary's code look like?\n",
    "\n",
    "An empty dictionary will look like {}\n"
   ]
  },
  {
   "cell_type": "markdown",
   "id": "55f7f0ec",
   "metadata": {},
   "source": [
    "# 2. What is the value of a dictionary value with the key 'foo' and the value 42?\n",
    "{‘foo’ : 42}\n"
   ]
  },
  {
   "cell_type": "markdown",
   "id": "f5d1ebd3",
   "metadata": {},
   "source": [
    "# 3. What is the most significant distinction between a dictionary and a list?\n",
    "\n",
    "Difference between dictionary and list are : \n",
    "\n",
    "* List is a collection of index values pair. Dictionary is a hashed structure of key- value pair. \n",
    "\n",
    "* Elements in the list are ordered. Dictionary will not maintain order of elements.\n",
    "\n",
    "* The elements of list will be accessed using index value. Elements of dictionary will be accessed using key value.\n"
   ]
  },
  {
   "cell_type": "markdown",
   "id": "ecb598b0",
   "metadata": {},
   "source": [
    "# 4. What happens if you try to access spam['foo'] if spam is {'bar': 100}?\n",
    "\n",
    "It will throw the keyError as the key value is not present.\n"
   ]
  },
  {
   "cell_type": "markdown",
   "id": "4d768031",
   "metadata": {},
   "source": [
    "# 5. If a dictionary is stored in spam, what is the difference between the expressions 'cat' in spam and 'cat' in spam.keys()?\n",
    "\n",
    "Both the expressions are same and checks whether the ‘cat’ is exists as a key in dictionary.\n"
   ]
  },
  {
   "cell_type": "markdown",
   "id": "42d033cc",
   "metadata": {},
   "source": [
    "# 6. If a dictionary is stored in spam, what is the difference between the expressions 'cat' in spam and 'cat' in spam.values()?\n",
    "\n",
    "‘cat’ in spam expression checked whether there is key value is present as ‘cat’ whereas  'cat' in spam.values() checks whether there is a value ‘cat’ in any of the key value.\n"
   ]
  },
  {
   "cell_type": "markdown",
   "id": "86ba2f82",
   "metadata": {},
   "source": [
    "# 7. What is a shortcut for the following code?\n",
    "if 'color' not in spam:\n",
    "\n",
    "spam['color'] = 'black'\n"
   ]
  },
  {
   "cell_type": "markdown",
   "id": "87b7896f",
   "metadata": {},
   "source": [
    "\n",
    "\n",
    "setdefault() method can be used. \n",
    "\n",
    "dict.setdefault('color','black')"
   ]
  },
  {
   "cell_type": "markdown",
   "id": "9b3e16a8",
   "metadata": {},
   "source": [
    "# 8. How do you \"pretty print\" dictionary values using which module and function?\n",
    "We can use pprint mpdule and pprint function to pretty print the dictionary. \n",
    "\n",
    "pprint.pprint(dict_name)\n"
   ]
  }
 ],
 "metadata": {
  "kernelspec": {
   "display_name": "Python 3",
   "language": "python",
   "name": "python3"
  },
  "language_info": {
   "codemirror_mode": {
    "name": "ipython",
    "version": 3
   },
   "file_extension": ".py",
   "mimetype": "text/x-python",
   "name": "python",
   "nbconvert_exporter": "python",
   "pygments_lexer": "ipython3",
   "version": "3.8.8"
  }
 },
 "nbformat": 4,
 "nbformat_minor": 5
}
