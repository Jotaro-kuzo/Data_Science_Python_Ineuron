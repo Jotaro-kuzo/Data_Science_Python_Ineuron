{
 "cells": [
  {
   "cell_type": "markdown",
   "id": "8e3683b9",
   "metadata": {},
   "source": [
    "### Create a function that takes a string and returns a string in which each character is repeated once."
   ]
  },
  {
   "cell_type": "code",
   "execution_count": 2,
   "id": "b18e36f8",
   "metadata": {},
   "outputs": [
    {
     "name": "stdout",
     "output_type": "stream",
     "text": [
      "enter a string: bercelona\n",
      "the original string:  bercelona\n",
      "th modified string is: bbeerrcceelloonnaa\n"
     ]
    }
   ],
   "source": [
    "s = input(\"enter a string: \")\n",
    "l = \"\"\n",
    "print(\"the original string: \",s)\n",
    "for i in s:\n",
    "    l = l+i+i\n",
    "print(\"th modified string is:\", l)"
   ]
  },
  {
   "cell_type": "markdown",
   "id": "e1b3df52",
   "metadata": {},
   "source": [
    "### Create a function that reverses a boolean value and returns the string &quot;boolean expected&quot; if another variable type is given."
   ]
  },
  {
   "cell_type": "code",
   "execution_count": 6,
   "id": "f0144e9c",
   "metadata": {},
   "outputs": [
    {
     "name": "stdout",
     "output_type": "stream",
     "text": [
      "enter boolean:True\n",
      "False\n"
     ]
    }
   ],
   "source": [
    "def check(b):\n",
    "    k = 'boolean expected'\n",
    "    if b == True:\n",
    "        return False\n",
    "    elif b==False:\n",
    "        return True\n",
    "    else:\n",
    "        return k\n",
    "\n",
    "\n",
    "b = bool(input(\"enter boolean:\"))\n",
    "print(check(b))\n"
   ]
  },
  {
   "cell_type": "markdown",
   "id": "46c0c651",
   "metadata": {},
   "source": [
    "### Create a function that returns the thickness (in meters) of a piece of paper after folding it n number of times. The paper starts off with a thickness of 0.5mm."
   ]
  },
  {
   "cell_type": "code",
   "execution_count": 7,
   "id": "3f914774",
   "metadata": {},
   "outputs": [
    {
     "name": "stdout",
     "output_type": "stream",
     "text": [
      "enter number of times you want to fold: 4\n",
      "0.008 meters\n"
     ]
    }
   ],
   "source": [
    "def thickness(n,t):\n",
    "    return (t*2**n)\n",
    "\n",
    "t=0.0005\n",
    "n = int(input(\"enter number of times you want to fold: \"))\n",
    "print(thickness(n,t),\"meters\")"
   ]
  },
  {
   "cell_type": "markdown",
   "id": "46223577",
   "metadata": {},
   "source": [
    "### Create a function that takes a single string as argument and returns an ordered list containing the indices of all capital letters in the string."
   ]
  },
  {
   "cell_type": "code",
   "execution_count": 9,
   "id": "d6435823",
   "metadata": {},
   "outputs": [
    {
     "name": "stdout",
     "output_type": "stream",
     "text": [
      "enter a string: ApPlE\n",
      "[0, 2, 4]\n"
     ]
    }
   ],
   "source": [
    "def cap_indices(s):\n",
    "    l=[]\n",
    "    x=0\n",
    "    for i in s:\n",
    "        if i.isupper():\n",
    "            l.append(x)\n",
    "        x+=1\n",
    "    return l\n",
    "\n",
    "string=input(\"enter a string: \")\n",
    "print(cap_indices(string))"
   ]
  },
  {
   "cell_type": "markdown",
   "id": "e8f78a2e",
   "metadata": {},
   "source": [
    "### Using list comprehensions, create a function that finds all even numbers from 1 to the given number."
   ]
  },
  {
   "cell_type": "code",
   "execution_count": 10,
   "id": "fa11b10b",
   "metadata": {},
   "outputs": [
    {
     "name": "stdout",
     "output_type": "stream",
     "text": [
      "enter the limit: 8\n",
      "[2, 4, 6, 8]\n"
     ]
    }
   ],
   "source": [
    "def even(n):\n",
    "    l=[]\n",
    "    for i in range(1,n+1):\n",
    "        if i%2==0:\n",
    "            l.append(i)\n",
    "    return l\n",
    "\n",
    "k = int(input(\"enter the limit: \"))\n",
    "print(even(k))"
   ]
  },
  {
   "cell_type": "code",
   "execution_count": null,
   "id": "29bad3de",
   "metadata": {},
   "outputs": [],
   "source": []
  }
 ],
 "metadata": {
  "kernelspec": {
   "display_name": "Python 3 (ipykernel)",
   "language": "python",
   "name": "python3"
  },
  "language_info": {
   "codemirror_mode": {
    "name": "ipython",
    "version": 3
   },
   "file_extension": ".py",
   "mimetype": "text/x-python",
   "name": "python",
   "nbconvert_exporter": "python",
   "pygments_lexer": "ipython3",
   "version": "3.9.12"
  }
 },
 "nbformat": 4,
 "nbformat_minor": 5
}
