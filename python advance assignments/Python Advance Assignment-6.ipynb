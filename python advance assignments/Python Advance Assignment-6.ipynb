{
 "cells": [
  {
   "cell_type": "markdown",
   "id": "0e52bbae",
   "metadata": {},
   "source": [
    "### Q1. Describe three applications for exception processing.\n",
    "Ans: Exception Processing is used find exceptions that causes the runtime error. As runtime errors Halt the program execution when exception occurs.\n",
    "\n",
    "Exception Processing is used in Various Applications of which few examples are:\n",
    "\n",
    "Checking Appropriate use of input in an application\n",
    "\n",
    "Checking File I/O exceptions during File handling\n",
    "\n",
    "Checking for Arithmetic exceptions in mathematical executions\n"
   ]
  },
  {
   "cell_type": "markdown",
   "id": "c243bb49",
   "metadata": {},
   "source": [
    "### Q2. What happens if you don't do something extra to treat an exception?\n",
    "Ans: If Exceptions are not handled flow of program will be broken during the run time which might lead to a abnormal termination of the program. Inshort inability of program to handle exceptions will result in crashing of program."
   ]
  },
  {
   "cell_type": "markdown",
   "id": "78bc54ae",
   "metadata": {},
   "source": [
    "### Q3. What are your options for recovering from an exception in your script?\n",
    "Ans: Python provides try and except statements for recovering from an exception in your script."
   ]
  },
  {
   "cell_type": "markdown",
   "id": "4c2fb94e",
   "metadata": {},
   "source": [
    "### Q4. Describe two methods for triggering exceptions in your script ?\n",
    "Ans: \n",
    "\n",
    "__raise__ method triggers an exception if condition provided to it turns out to be True.\n",
    "\n",
    "__assert__ will let the program to continue execution if condition provided to it turns out to be True else exception will be raised"
   ]
  },
  {
   "cell_type": "markdown",
   "id": "60420e53",
   "metadata": {},
   "source": [
    "### Q5. Identify two methods for specifying actions to be executed at termination time, regardless of whether or not an exception exists.\n",
    "Ans: Python Provides __else__ and __finally__ blocks for specifying actions to be executed at termination time, regardless of whether an exceptions exists or not."
   ]
  },
  {
   "cell_type": "code",
   "execution_count": null,
   "id": "9ff875af",
   "metadata": {},
   "outputs": [],
   "source": []
  }
 ],
 "metadata": {
  "kernelspec": {
   "display_name": "Python 3 (ipykernel)",
   "language": "python",
   "name": "python3"
  },
  "language_info": {
   "codemirror_mode": {
    "name": "ipython",
    "version": 3
   },
   "file_extension": ".py",
   "mimetype": "text/x-python",
   "name": "python",
   "nbconvert_exporter": "python",
   "pygments_lexer": "ipython3",
   "version": "3.9.12"
  }
 },
 "nbformat": 4,
 "nbformat_minor": 5
}
