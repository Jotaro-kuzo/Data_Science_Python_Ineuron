{
 "cells": [
  {
   "cell_type": "markdown",
   "id": "a55f4330",
   "metadata": {},
   "source": [
    "### Q1. What is the purpose of the try statement?\n",
    "Ans: __try__ statement is used for exception handling in python. it consists of a block of risky statements which might cause an exception during runtime. if code within try block raises exception, then the exception will be reverted to the corresponding except block if multiple except blocks are present, else it willbe reverted to the default except block. In short try and except in union avoid programs from crashing during runtime due to exceptions."
   ]
  },
  {
   "cell_type": "code",
   "execution_count": 1,
   "id": "977a9f8c",
   "metadata": {},
   "outputs": [],
   "source": [
    "try:\n",
    "    if (1==2):\n",
    "        print(\"yes\")\n",
    "except:\n",
    "    print(\"No\")"
   ]
  },
  {
   "cell_type": "markdown",
   "id": "be6324c9",
   "metadata": {},
   "source": [
    "### Q2. What are the two most popular try statement variations?\n",
    "Ans: The Popular try statement variations are:\n",
    "\n",
    "    try,except\n",
    "    try,except,finally\n",
    "    try,except,finally,else`"
   ]
  },
  {
   "cell_type": "markdown",
   "id": "a2859683",
   "metadata": {},
   "source": [
    " the code enters the else block if and only if the try clause does not raise and exception. The code in the finally block will execute irrespective of exception."
   ]
  },
  {
   "cell_type": "markdown",
   "id": "2ffb56fa",
   "metadata": {},
   "source": [
    "### Q3. What is the purpose of the raise statement?\n",
    "Ans: __raise__ statement is used to trigger an exception explicitly, if a certain condition is not as per requirement of programmer. raise statement helps in triggering exception as per programming logic."
   ]
  },
  {
   "cell_type": "markdown",
   "id": "6985a62e",
   "metadata": {},
   "source": [
    "### Q4. What does the assert statement do, and what other statement is it like?\n",
    "Ans: There are few assertions that programmer always want to be true to avoid code failure. This type of requirement is fulfilled by __assert__ statement. This statement takes a boolean condition output of which is True, Further Program Executes. if output of assert statement is False, it raises an __Assertion Error__."
   ]
  },
  {
   "cell_type": "code",
   "execution_count": 4,
   "id": "4af83430",
   "metadata": {},
   "outputs": [
    {
     "ename": "AssertionError",
     "evalue": "something wrong with operators",
     "output_type": "error",
     "traceback": [
      "\u001b[1;31m---------------------------------------------------------------------------\u001b[0m",
      "\u001b[1;31mAssertionError\u001b[0m                            Traceback (most recent call last)",
      "Input \u001b[1;32mIn [4]\u001b[0m, in \u001b[0;36m<cell line: 1>\u001b[1;34m()\u001b[0m\n\u001b[1;32m----> 1\u001b[0m \u001b[38;5;28;01massert\u001b[39;00m (\u001b[38;5;241m1\u001b[39m\u001b[38;5;241m==\u001b[39m\u001b[38;5;241m2\u001b[39m), \u001b[38;5;124m'\u001b[39m\u001b[38;5;124msomething wrong with operators\u001b[39m\u001b[38;5;124m'\u001b[39m\n",
      "\u001b[1;31mAssertionError\u001b[0m: something wrong with operators"
     ]
    }
   ],
   "source": [
    "assert (1==2), 'something wrong with operators'"
   ]
  },
  {
   "cell_type": "markdown",
   "id": "666f2729",
   "metadata": {},
   "source": [
    "### Q5. What is the purpose of the with/as argument, and what other statement is it like?\n",
    "Ans: with/as statement simplifies use of file handling in python. When we use a with statement for file reading, there is no need for programmer to explicitly takecare of activities like resource deallocation and file closing by using file.close() method. with statement itself ensures proper acquisition and release of resources. this avoids triggering of exceptions if file closing is unknowingly forgotten in the code execution."
   ]
  },
  {
   "cell_type": "code",
   "execution_count": 5,
   "id": "a6b36eab",
   "metadata": {},
   "outputs": [],
   "source": [
    "with open('test.txt','w') as file:\n",
    "    file.write('jhvjcj')"
   ]
  },
  {
   "cell_type": "code",
   "execution_count": null,
   "id": "284ae4d3",
   "metadata": {},
   "outputs": [],
   "source": []
  }
 ],
 "metadata": {
  "kernelspec": {
   "display_name": "Python 3 (ipykernel)",
   "language": "python",
   "name": "python3"
  },
  "language_info": {
   "codemirror_mode": {
    "name": "ipython",
    "version": 3
   },
   "file_extension": ".py",
   "mimetype": "text/x-python",
   "name": "python",
   "nbconvert_exporter": "python",
   "pygments_lexer": "ipython3",
   "version": "3.9.12"
  }
 },
 "nbformat": 4,
 "nbformat_minor": 5
}
