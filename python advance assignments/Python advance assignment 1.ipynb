{
 "cells": [
  {
   "cell_type": "markdown",
   "id": "69469327",
   "metadata": {},
   "source": [
    "### Q1. What is the purpose of Python's OOP?"
   ]
  },
  {
   "cell_type": "markdown",
   "id": "c3b66335",
   "metadata": {},
   "source": [
    " The purpose of OOPs is to bind the data and the functions that work on that together as a single unit so that no other part of the code can access this data using different parameters like classes,object,properties of oops like inheritence,encapsulation,polymorphysm etc  "
   ]
  },
  {
   "cell_type": "markdown",
   "id": "149084c3",
   "metadata": {},
   "source": [
    "### Q2. Where does an inheritance search look for an attribute?"
   ]
  },
  {
   "cell_type": "markdown",
   "id": "77052d5c",
   "metadata": {},
   "source": [
    " Python searches for an attribute in an upward tree of attributes. it first searches for the attribute in its instance and then looks in the class it is generated from, to all super classes listed in its class header"
   ]
  },
  {
   "cell_type": "markdown",
   "id": "369a8be3",
   "metadata": {},
   "source": [
    "### Q3. How do you distinguish between a class object and an instance object?"
   ]
  },
  {
   "cell_type": "markdown",
   "id": "2de64307",
   "metadata": {},
   "source": [
    "The differences between a class object and an instance object are:\n",
    "\n",
    "a.Class is a template for creating objects whereas object is an instance of class\n",
    "\n",
    "b.As Classes have no allocated memory. they can't be manipulated. but objects can be manipulated.\n",
    "\n",
    "c.Seperate memory is allocated for each object whenever an object is created. but for a class this doesnot happens.\n",
    "\n",
    "d.A Class is created once. Many objects are created using a class.\n"
   ]
  },
  {
   "cell_type": "markdown",
   "id": "c0155705",
   "metadata": {},
   "source": [
    "### Q4. What makes the first argument in a class’s method function special?"
   ]
  },
  {
   "cell_type": "markdown",
   "id": "7f42d8ff",
   "metadata": {},
   "source": [
    " Python Classes usually have three types of methods which are:\n",
    "\n",
    "1.Instance Methods (object level methods)\n",
    "\n",
    "2.Class Methods (class level methods)\n",
    "\n",
    "3.Static Methods (general utility methods)\n",
    "\n",
    "4.self is the first argument for instance methods. which refers to the object itself\n",
    "\n",
    "5.cls is the first argument for class methods which refers to the class itself"
   ]
  },
  {
   "cell_type": "markdown",
   "id": "86cf43d4",
   "metadata": {},
   "source": [
    "### Q5. What is the purpose of the __init__ method?"
   ]
  },
  {
   "cell_type": "markdown",
   "id": "4bbe3042",
   "metadata": {},
   "source": [
    "__ init __ , which is also called as the Constructer, is a reseved method in python classes. It serves the role of a constructor in object oriented terminology. This method is called when an object is created from a class and it allows the class to initialize the attributes of the class"
   ]
  },
  {
   "cell_type": "markdown",
   "id": "cfbf4ddd",
   "metadata": {},
   "source": [
    "### Q6. What is the process for creating a class instance?"
   ]
  },
  {
   "cell_type": "markdown",
   "id": "c453359f",
   "metadata": {},
   "source": [
    "For creating a class instance, we need to call the class by its name and need to give some arguments,which its init method accepts.\n",
    "\n",
    "ex: sum = addition(num1,num2) --> here sum is class instance,addition is class and num1,num2 are arguments"
   ]
  },
  {
   "cell_type": "markdown",
   "id": "942151de",
   "metadata": {},
   "source": [
    "### Q7. What is the process for creating a class?"
   ]
  },
  {
   "cell_type": "markdown",
   "id": "eee7cfa9",
   "metadata": {},
   "source": [
    "class keyword is used to created a class in python. The syntax to create a class in python is : \n",
    "\n",
    "class < classname>:\n",
    "\n",
    "ex: class abc():"
   ]
  },
  {
   "cell_type": "markdown",
   "id": "25a2b317",
   "metadata": {},
   "source": [
    "### Q8. How would you define the superclasses of a class?"
   ]
  },
  {
   "cell_type": "markdown",
   "id": "9544d50a",
   "metadata": {},
   "source": [
    "A superclass is the class from which many subclasses can be created. The subclasses inherit the characteristics of a superclass. The superclass is also known as the parent class or base class.\n",
    "\n",
    "We could give inheritemce to child class by adding command \"super().__ init__()\" inside child class"
   ]
  },
  {
   "cell_type": "code",
   "execution_count": null,
   "id": "1dd8569e",
   "metadata": {},
   "outputs": [],
   "source": []
  }
 ],
 "metadata": {
  "kernelspec": {
   "display_name": "Python 3 (ipykernel)",
   "language": "python",
   "name": "python3"
  },
  "language_info": {
   "codemirror_mode": {
    "name": "ipython",
    "version": 3
   },
   "file_extension": ".py",
   "mimetype": "text/x-python",
   "name": "python",
   "nbconvert_exporter": "python",
   "pygments_lexer": "ipython3",
   "version": "3.9.12"
  }
 },
 "nbformat": 4,
 "nbformat_minor": 5
}
