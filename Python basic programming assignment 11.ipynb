{
 "cells": [
  {
   "cell_type": "markdown",
   "id": "1e3fbd75",
   "metadata": {},
   "source": [
    "### 1. Write a Python program to find words which are greater than given length k?"
   ]
  },
  {
   "cell_type": "code",
   "execution_count": 1,
   "id": "6156ba31",
   "metadata": {},
   "outputs": [
    {
     "name": "stdout",
     "output_type": "stream",
     "text": [
      "Enter a sentence: hello welcome to the beach\n",
      "enter the threshold length of character: 3\n",
      "the words having length larger than threshold length are: \n",
      "['hello', 'welcome', 'beach']\n"
     ]
    }
   ],
   "source": [
    "def fetch(string,k):\n",
    "    l = []\n",
    "    sentence = string.split(\" \")\n",
    "    for i in sentence:\n",
    "        if len(i)>k:\n",
    "            l.append(i)\n",
    "    return l\n",
    "            \n",
    "\n",
    "\n",
    "string = input(\"Enter a sentence: \")\n",
    "k = int(input(\"enter the threshold length of character: \"))\n",
    "print(\"the words having length larger than threshold length are: \")\n",
    "print(fetch(string,k))"
   ]
  },
  {
   "cell_type": "markdown",
   "id": "6f64f4c0",
   "metadata": {},
   "source": [
    "### 2. Write a Python program for removing i-th character from a string?"
   ]
  },
  {
   "cell_type": "code",
   "execution_count": 4,
   "id": "3be2ad1f",
   "metadata": {},
   "outputs": [
    {
     "name": "stdout",
     "output_type": "stream",
     "text": [
      "enter a string: sakurasou\n",
      "enter the removing character number: 7\n",
      "sakurasu\n"
     ]
    }
   ],
   "source": [
    "\n",
    "def elem(s,i):\n",
    "    x = s[:i]\n",
    "    y = s[i+1:]\n",
    "    return x+y\n",
    "string = input(\"enter a string: \")\n",
    "i = int(input(\"enter the removing character number: \"))\n",
    "print(elem(string,i))\n"
   ]
  },
  {
   "cell_type": "markdown",
   "id": "45b3fa84",
   "metadata": {},
   "source": [
    "### 3. Write a Python program to split and join a string?"
   ]
  },
  {
   "cell_type": "code",
   "execution_count": 7,
   "id": "a6939aea",
   "metadata": {},
   "outputs": [
    {
     "name": "stdout",
     "output_type": "stream",
     "text": [
      "enter a string: what a sight\n",
      "splitted string : ['what', 'a', 'sight']\n",
      "joint string: what_a_sight\n"
     ]
    }
   ],
   "source": [
    "def split(string):\n",
    "    l = string.split()\n",
    "    return l\n",
    "def joint(string):\n",
    "    s = '_'.join(string)\n",
    "    return s\n",
    "string = input(\"enter a string: \")\n",
    "split_str = split(string)\n",
    "print(\"splitted string :\",split_str)\n",
    "\n",
    "joined_string = joint(split_str)\n",
    "print(\"joint string:\",joined_string)"
   ]
  },
  {
   "cell_type": "markdown",
   "id": "61100897",
   "metadata": {},
   "source": [
    "### 4. Write a Python to check if a given string is binary string or not?"
   ]
  },
  {
   "cell_type": "code",
   "execution_count": 11,
   "id": "e54c34c7",
   "metadata": {},
   "outputs": [
    {
     "name": "stdout",
     "output_type": "stream",
     "text": [
      "enter a string: 10101010101010\n",
      "String is a binary string.\n"
     ]
    }
   ],
   "source": [
    "stringA = input(\"enter a string: \")\n",
    "b = {'0','1'}\n",
    "t = set(stringA)\n",
    "\n",
    "if b == t or t == {'0'} or t == {'1'}:\n",
    "    print(\"String is a binary string.\")\n",
    "else:\n",
    "    print(\"String is not a binary string.\")"
   ]
  },
  {
   "cell_type": "markdown",
   "id": "20067f47",
   "metadata": {},
   "source": [
    "### 5. Write a Python program to find uncommon words from two Strings?"
   ]
  },
  {
   "cell_type": "code",
   "execution_count": 12,
   "id": "fff3af0d",
   "metadata": {},
   "outputs": [
    {
     "name": "stdout",
     "output_type": "stream",
     "text": [
      "Enter first stringapple ball cat\n",
      "Enter second stringball dog\n",
      "the uncomman words in two strings are:\n",
      " apple cat dog\n"
     ]
    }
   ],
   "source": [
    "def uncommon(a,b):\n",
    "    list_a = a.split()\n",
    "    list_b = b.split()\n",
    "    uc = ''\n",
    "    for i in list_a:\n",
    "        if i not in list_b:\n",
    "            uc = uc+\" \"+i\n",
    "    for j in list_b:\n",
    "        if j not in list_a:\n",
    "            uc = uc+\" \"+j\n",
    "    return uc\n",
    "a = input(\"Enter first string\")\n",
    "b = input(\"Enter second string\")\n",
    "print(\"the uncomman words in two strings are:\")\n",
    "print(uncommon(a,b))"
   ]
  },
  {
   "cell_type": "markdown",
   "id": "90c2135f",
   "metadata": {},
   "source": [
    "### 6. Write a Python to find all duplicate characters in string?"
   ]
  },
  {
   "cell_type": "code",
   "execution_count": 13,
   "id": "fca282fc",
   "metadata": {},
   "outputs": [
    {
     "name": "stdout",
     "output_type": "stream",
     "text": [
      "Enter  tghe string: letsshareaperfecttime\n",
      "the dulicate characters are:  ['e', 't', 's', 'a', 'r']\n"
     ]
    }
   ],
   "source": [
    "string = input(\"Enter  tghe string: \")\n",
    "duplicates = []\n",
    "for char in string:\n",
    "    if string.count(char) > 1:\n",
    "        if char not in duplicates:\n",
    "            duplicates.append(char)\n",
    "print(\"the dulicate characters are: \", duplicates)"
   ]
  },
  {
   "cell_type": "markdown",
   "id": "231aeb56",
   "metadata": {},
   "source": [
    "### 7. Write a Python Program to check if a string contains any special character?"
   ]
  },
  {
   "cell_type": "code",
   "execution_count": 14,
   "id": "646bc00f",
   "metadata": {},
   "outputs": [
    {
     "name": "stdout",
     "output_type": "stream",
     "text": [
      "enter a string: hsg#kj\n",
      "String has/have special characters\n"
     ]
    }
   ],
   "source": [
    "import re\n",
    "def special_check(s):\n",
    "    r = re.compile('[@_!#$%^&*()<>?/\\|}{~:]')\n",
    "    if(r.search(s) == None):\n",
    "        return(\"String dont have special characters\")\n",
    "    else:\n",
    "        return(\"String has/have special characters\")\n",
    "    \n",
    "\n",
    "string = input(\"enter a string: \")\n",
    "print(special_check(string))"
   ]
  },
  {
   "cell_type": "code",
   "execution_count": null,
   "id": "8057958c",
   "metadata": {},
   "outputs": [],
   "source": []
  }
 ],
 "metadata": {
  "kernelspec": {
   "display_name": "Python 3 (ipykernel)",
   "language": "python",
   "name": "python3"
  },
  "language_info": {
   "codemirror_mode": {
    "name": "ipython",
    "version": 3
   },
   "file_extension": ".py",
   "mimetype": "text/x-python",
   "name": "python",
   "nbconvert_exporter": "python",
   "pygments_lexer": "ipython3",
   "version": "3.9.12"
  }
 },
 "nbformat": 4,
 "nbformat_minor": 5
}
