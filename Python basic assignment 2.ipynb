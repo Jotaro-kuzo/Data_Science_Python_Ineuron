{
 "cells": [
  {
   "cell_type": "markdown",
   "id": "15da1f77",
   "metadata": {},
   "source": [
    "# 1.What are the two values of the Boolean data type? How do you write them?\n",
    "\n",
    "True and False are the two values of Boolean data type.  \n",
    "\n",
    "T and F should be in capital and rest of the letters will be in lower case."
   ]
  },
  {
   "cell_type": "markdown",
   "id": "c18c0a8c",
   "metadata": {},
   "source": [
    "# 2. What are the three different types of Boolean operators?\n",
    "\n",
    "AND - AND Operator will return true, if both the sides of values are true.\n",
    "\n",
    "OR - OR Operator will return true, if any one of the sides of values is true.\n",
    "\n",
    "NOT - It reverses the output of boolean expression. \n"
   ]
  },
  {
   "cell_type": "markdown",
   "id": "c985e0ed",
   "metadata": {},
   "source": [
    "# 3.Make a list of each Boolean operator's truth tables (i.e. every possible combination of Boolean values for the operator and what it evaluate ).\n",
    "\n",
    "\n",
    "Truth table for AND Operator: \n",
    "\n",
    "True AND True – True\n",
    "\n",
    "True AND False – False\n",
    "\n",
    "False AND True – False\n",
    "\n",
    "False AND Aalse – False\n",
    "\n",
    "\n",
    "\n",
    "Truth table for OR Operator:\n",
    "\n",
    "True OR True – True\n",
    "\n",
    "True OR  False – True\n",
    "\n",
    "False OR True – True\n",
    "\n",
    "False OR  False – False\n",
    "\n",
    "\n",
    "Truth table for NOT Operator:\n",
    "    \n",
    "NOT True – False\n",
    "\n",
    "NOT False - True\n"
   ]
  },
  {
   "cell_type": "markdown",
   "id": "297f0cb5",
   "metadata": {},
   "source": [
    "# 4. What are the values of the following expressions?\n",
    "\n",
    "(5 > 4) and (3 == 5) - False\n",
    "\n",
    "not (5 > 4) - False\n",
    "\n",
    "(5 > 4) or (3 == 5) - True\n",
    "\n",
    "not ((5 > 4) or (3 == 5)) - False\n",
    "\n",
    "(True and True) and (True == False) - False\n",
    "\n",
    "not False) or (not True) - True"
   ]
  },
  {
   "cell_type": "markdown",
   "id": "b4801e5f",
   "metadata": {},
   "source": [
    "# 5. What are the six comparison operators?\n",
    "\n",
    "== , != , <=, >= , > , <"
   ]
  },
  {
   "cell_type": "markdown",
   "id": "69ea2342",
   "metadata": {},
   "source": [
    "# 6. How do you tell the difference between the equal to and assignment operators? Describe a condition and when you would use one.\n",
    "\n",
    "Equal to(==) operator. It is used to compare the values whether they are equal. \n",
    "\n",
    "eg : 5 == 5 , It compares the values\n",
    "\n",
    "Assignment operator(=) which is used to assign the values to variables. \n",
    "\n",
    "eg :  a = 5 . It assign the value of 5 to a\n"
   ]
  },
  {
   "cell_type": "markdown",
   "id": "4d768914",
   "metadata": {},
   "source": [
    "# 7. Identify the three blocks in this code:\n",
    "spam = 0\n",
    "\n",
    "if spam == 10:\n",
    "\n",
    "print('eggs')\n",
    "\n",
    "if spam > 5:\n",
    "\n",
    "print('bacon')\n",
    "\n",
    "else:\n",
    "\n",
    "print('ham')\n",
    "\n",
    "print('spam')\n",
    "\n",
    "print('spam')\n"
   ]
  },
  {
   "cell_type": "markdown",
   "id": "0a62b1f9",
   "metadata": {},
   "source": [
    "The blocks are the statements which are present inside the if statement. \n",
    "\n",
    "block 1 : print('eggs')\n",
    "\n",
    "block 2 : print('bacon')\n",
    "\n",
    "block 3 : print('ham')\n"
   ]
  },
  {
   "cell_type": "markdown",
   "id": "c6d9d2b5",
   "metadata": {},
   "source": [
    "# 8. Write code that prints Hello if 1 is stored in spam, prints Howdy if 2 is stored in spam, and prints Greetings! if anything else is stored in spam."
   ]
  },
  {
   "cell_type": "markdown",
   "id": "81e2976c",
   "metadata": {},
   "source": [
    "If spam == 1 : \n",
    "\n",
    "    print (“Hello”)\n",
    "    \n",
    "if spam == 2 :\n",
    "\n",
    "    print(“Howdy”)\n",
    "    \n",
    "else:\n",
    "\n",
    "    print(“Greetings!)"
   ]
  },
  {
   "cell_type": "markdown",
   "id": "422d4e64",
   "metadata": {},
   "source": [
    "# 9.If your programme is stuck in an endless loop, what keys you’ll press?\n",
    "ctrl + C \n"
   ]
  },
  {
   "cell_type": "markdown",
   "id": "556073ba",
   "metadata": {},
   "source": [
    "# 10. How can you tell the difference between break and continue?\n",
    "Break : It stops the execution of loop and jumps out to the next statement.\n",
    "Continue : It will skip the current iteration and continues to next iteration. \n"
   ]
  },
  {
   "cell_type": "markdown",
   "id": "50beb3de",
   "metadata": {},
   "source": [
    "# 11. In a for loop, what is the difference between range(10), range(0, 10), and range(0, 10, 1)?\n",
    "\n",
    "range(10), range(0, 10), and range(0, 10, 1) produce the same results.\n",
    "\n",
    "range(10) – It returns the number from 0 to 9 excluding 10. \n",
    "\n",
    "\n",
    "range(0, 10) – It will explicitly represents the start value as 0. It will generate numbers between 0 and 10 excluding 10.\n",
    "\n",
    "\n",
    "range(0, 10, 1) – It will have a step value of 1. It will generates the number between 0 and 9 by the step value of 1. \n"
   ]
  },
  {
   "cell_type": "markdown",
   "id": "e2f2dfc4",
   "metadata": {},
   "source": [
    "# 12. Write a short program that prints the numbers 1 to 10 using a for loop. Then write an equivalent program that prints the numbers 1 to 10 using a while loop.\n",
    "\n",
    "For Loop:\n",
    "\n",
    "\n",
    "for in range(1,11):\n",
    "\n",
    "\tprint(i)\n",
    "    \n",
    "While loop: \n",
    "\n",
    "i=1\n",
    "\n",
    "While i <=10:\n",
    "\n",
    "\tprint(i)\n",
    "    \n",
    "\ti=i+1\n"
   ]
  },
  {
   "cell_type": "markdown",
   "id": "e75aa8ca",
   "metadata": {},
   "source": [
    "# 13. If you had a function named bacon() inside a module named spam, how would you call it after importing spam?\n",
    "Function can be called using Spam.bacon()\n",
    "\n"
   ]
  },
  {
   "cell_type": "code",
   "execution_count": null,
   "id": "0cafe4de",
   "metadata": {},
   "outputs": [],
   "source": []
  }
 ],
 "metadata": {
  "kernelspec": {
   "display_name": "Python 3",
   "language": "python",
   "name": "python3"
  },
  "language_info": {
   "codemirror_mode": {
    "name": "ipython",
    "version": 3
   },
   "file_extension": ".py",
   "mimetype": "text/x-python",
   "name": "python",
   "nbconvert_exporter": "python",
   "pygments_lexer": "ipython3",
   "version": "3.8.8"
  }
 },
 "nbformat": 4,
 "nbformat_minor": 5
}
