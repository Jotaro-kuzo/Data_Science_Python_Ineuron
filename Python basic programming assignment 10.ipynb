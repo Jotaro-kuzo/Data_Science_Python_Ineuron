{
 "cells": [
  {
   "cell_type": "markdown",
   "id": "176d2719",
   "metadata": {},
   "source": [
    "### 1. Write a Python program to find sum of elements in list?"
   ]
  },
  {
   "cell_type": "code",
   "execution_count": 1,
   "id": "f3bb312c",
   "metadata": {},
   "outputs": [
    {
     "name": "stdout",
     "output_type": "stream",
     "text": [
      "Enter a list element separated by space 2 5 4 8 9\n",
      "The sum of element of input list: ['2', '5', '4', '8', '9']\n",
      "28\n"
     ]
    }
   ],
   "source": [
    "string = input(\"Enter a list element separated by space \")\n",
    "list  = string.split()\n",
    "print(\"The sum of element of input list:\", list)\n",
    "sum = 0\n",
    "for num in list:\n",
    "    sum += int (num)\n",
    "print(sum)"
   ]
  },
  {
   "cell_type": "markdown",
   "id": "90154a58",
   "metadata": {},
   "source": [
    "### 2. Write a Python program to Multiply all numbers in the list?"
   ]
  },
  {
   "cell_type": "code",
   "execution_count": 2,
   "id": "4e0f6f0c",
   "metadata": {},
   "outputs": [
    {
     "name": "stdout",
     "output_type": "stream",
     "text": [
      "Enter a list element separated by space 2 3 4 5\n",
      "The sum of element of input list: ['2', '3', '4', '5']\n",
      "120\n"
     ]
    }
   ],
   "source": [
    "string = input(\"Enter a list element separated by space \")\n",
    "list  = string.split()\n",
    "print(\"The sum of element of input list:\", list)\n",
    "res = 1\n",
    "for num in list:\n",
    "    res  = res*int (num)\n",
    "print(res)"
   ]
  },
  {
   "cell_type": "markdown",
   "id": "37bbf260",
   "metadata": {},
   "source": [
    "### 3. Write a Python program to find smallest number in a list?"
   ]
  },
  {
   "cell_type": "code",
   "execution_count": 3,
   "id": "438c5eb1",
   "metadata": {},
   "outputs": [
    {
     "name": "stdout",
     "output_type": "stream",
     "text": [
      "Enter a list element separated by space 2 3 4 5\n",
      "The smallest element of input list: 2\n"
     ]
    }
   ],
   "source": [
    "string = input(\"Enter a list element separated by space \")\n",
    "list  = string.split()\n",
    "print(\"The smallest element of input list:\", min(list))"
   ]
  },
  {
   "cell_type": "markdown",
   "id": "2f9e829c",
   "metadata": {},
   "source": [
    "### 4. Write a Python program to find largest number in a list?"
   ]
  },
  {
   "cell_type": "code",
   "execution_count": 5,
   "id": "1af1585d",
   "metadata": {},
   "outputs": [
    {
     "name": "stdout",
     "output_type": "stream",
     "text": [
      "Enter a list element separated by space 2 3 4 5\n",
      "The largest element of input list: 5\n"
     ]
    }
   ],
   "source": [
    "string = input(\"Enter a list element separated by space \")\n",
    "list  = string.split()\n",
    "print(\"The largest element of input list:\", max(list))"
   ]
  },
  {
   "cell_type": "markdown",
   "id": "cee862f8",
   "metadata": {},
   "source": [
    "### 5. Write a Python program to find second largest number in a list?"
   ]
  },
  {
   "cell_type": "code",
   "execution_count": 7,
   "id": "898980a0",
   "metadata": {},
   "outputs": [
    {
     "name": "stdout",
     "output_type": "stream",
     "text": [
      "Enter a list element separated by space 2 3 4 5\n",
      "The largest element of input list: 4\n"
     ]
    }
   ],
   "source": [
    "string = input(\"Enter a list element separated by space \")\n",
    "list  = string.split()\n",
    "x = list\n",
    "x.remove(max(x))\n",
    "print(\"The largest element of input list:\", max(x))"
   ]
  },
  {
   "cell_type": "markdown",
   "id": "3fd110e1",
   "metadata": {},
   "source": [
    "### 6. Write a Python program to find N largest elements from a list?"
   ]
  },
  {
   "cell_type": "code",
   "execution_count": 8,
   "id": "c2fc6db2",
   "metadata": {},
   "outputs": [
    {
     "name": "stdout",
     "output_type": "stream",
     "text": [
      "Enter a list element separated by space 1 2 3 4 5 6 7 8 9\n",
      "Enter how many largest numbers you need: 5\n",
      "The required number of large numbers are: \n",
      "9 8 7 6 5 "
     ]
    }
   ],
   "source": [
    "string = input(\"Enter a list element separated by space \")\n",
    "list  = string.split()\n",
    "x = list\n",
    "flag = int(input(\"Enter how many largest numbers you need: \"))\n",
    "print(\"The required number of large numbers are: \")\n",
    "for i in range(flag):\n",
    "    print(max(x), end = \" \")\n",
    "    x.remove(max(x))"
   ]
  },
  {
   "cell_type": "markdown",
   "id": "a0b6dc5d",
   "metadata": {},
   "source": [
    "### 7. Write a Python program to print even numbers in a list?"
   ]
  },
  {
   "cell_type": "code",
   "execution_count": 10,
   "id": "53af34f6",
   "metadata": {},
   "outputs": [
    {
     "name": "stdout",
     "output_type": "stream",
     "text": [
      "Enter a list element separated by space 1 2 3 4 5 6 7 8 9\n",
      "2 4 6 8 "
     ]
    }
   ],
   "source": [
    "string = input(\"Enter a list element separated by space \")\n",
    "list  = string.split()\n",
    "print(\"Even numbers in given list are: \")\n",
    "for i in (list):\n",
    "    if int(i)%2 == 0:\n",
    "        print(i,end=\" \")"
   ]
  },
  {
   "cell_type": "markdown",
   "id": "71ef63bd",
   "metadata": {},
   "source": [
    "### 8. Write a Python program to print odd numbers in a List?"
   ]
  },
  {
   "cell_type": "code",
   "execution_count": 12,
   "id": "db31575e",
   "metadata": {},
   "outputs": [
    {
     "name": "stdout",
     "output_type": "stream",
     "text": [
      "Enter a list element separated by space 1 2 3 4 5 6 7 8 9\n",
      "Odd numbers in given list are: \n",
      "1 3 5 7 9 "
     ]
    }
   ],
   "source": [
    "string = input(\"Enter a list element separated by space \")\n",
    "list  = string.split()\n",
    "print(\"Odd numbers in given list are: \")\n",
    "for i in (list):\n",
    "    if int(i)%2 == 1:\n",
    "        print(i,end=\" \")"
   ]
  },
  {
   "cell_type": "markdown",
   "id": "4840c406",
   "metadata": {},
   "source": [
    "### 9. Write a Python program to Remove empty List from List?"
   ]
  },
  {
   "cell_type": "code",
   "execution_count": null,
   "id": "21d1869c",
   "metadata": {},
   "outputs": [],
   "source": [
    "string = input(\"Enter a list element separated by space \")\n",
    "list1  = string.split()\n",
    "r = list(filter(None,list1))\n",
    "print(\"The filtered list is:\",r,end=\" \")"
   ]
  },
  {
   "cell_type": "markdown",
   "id": "dfa815b8",
   "metadata": {},
   "source": [
    "### 10. Write a Python program to Cloning or Copying a list?"
   ]
  },
  {
   "cell_type": "code",
   "execution_count": 18,
   "id": "992ada79",
   "metadata": {},
   "outputs": [
    {
     "name": "stdout",
     "output_type": "stream",
     "text": [
      "Enter a list element separated by space 1 2 3 4\n",
      "Cloning of given list is successful as variable list2:  ['1', '2', '3', '4']\n"
     ]
    }
   ],
   "source": [
    "def clone(l):\n",
    "    l1 = l[:]\n",
    "    return l1\n",
    "\n",
    "string = input(\"Enter a list element separated by space \")\n",
    "list1  = string.split()\n",
    "list2 = clone(list1)\n",
    "print(\"Cloning of given list is successful as variable list2: \",list2)"
   ]
  },
  {
   "cell_type": "markdown",
   "id": "1766773a",
   "metadata": {},
   "source": [
    "### 11. Write a Python program to Count occurrences of an element in a list?"
   ]
  },
  {
   "cell_type": "code",
   "execution_count": 21,
   "id": "ebc77d86",
   "metadata": {},
   "outputs": [
    {
     "name": "stdout",
     "output_type": "stream",
     "text": [
      "Enter a list element separated by space 1 2 2 3 3 3 4 4 5 5 5\n",
      "Enter the variable you to be counted: 5\n",
      "5 :  3\n"
     ]
    }
   ],
   "source": [
    "from collections import Counter\n",
    "\n",
    "string = input(\"Enter a list element separated by space \")\n",
    "list1  = string.split()\n",
    "var = input(\"Enter the variable you to be counted: \")\n",
    "c=Counter(list1)\n",
    "print(var,\": \", c[var])"
   ]
  },
  {
   "cell_type": "code",
   "execution_count": null,
   "id": "8d6e9797",
   "metadata": {},
   "outputs": [],
   "source": []
  }
 ],
 "metadata": {
  "kernelspec": {
   "display_name": "Python 3 (ipykernel)",
   "language": "python",
   "name": "python3"
  },
  "language_info": {
   "codemirror_mode": {
    "name": "ipython",
    "version": 3
   },
   "file_extension": ".py",
   "mimetype": "text/x-python",
   "name": "python",
   "nbconvert_exporter": "python",
   "pygments_lexer": "ipython3",
   "version": "3.9.12"
  }
 },
 "nbformat": 4,
 "nbformat_minor": 5
}
