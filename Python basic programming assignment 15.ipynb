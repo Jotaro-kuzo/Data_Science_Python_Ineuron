{
 "cells": [
  {
   "cell_type": "markdown",
   "id": "505fc3d9",
   "metadata": {},
   "source": [
    "### Please write a program using generator to print the numbers which can be divisible by 5 and 7 between 0 and n in comma separated form while n is input by console."
   ]
  },
  {
   "cell_type": "code",
   "execution_count": 2,
   "id": "7114aecf",
   "metadata": {},
   "outputs": [
    {
     "name": "stdout",
     "output_type": "stream",
     "text": [
      "enter the upper limit of numbers: 100\n",
      "0\n",
      "35\n",
      "70\n"
     ]
    }
   ],
   "source": [
    "def number_checker(n):\n",
    " \n",
    "    i = 0\n",
    " \n",
    "    while i<n:\n",
    " \n",
    "        j=i\n",
    " \n",
    "        i=i+1\n",
    " \n",
    "        if j%7==0 and j%5 == 0:\n",
    " \n",
    "            yield j\n",
    "\n",
    "\n",
    "x = int(input(\"enter the upper limit of numbers: \"))\n",
    "for i in number_checker(x+1):\n",
    "    print (i)"
   ]
  },
  {
   "cell_type": "markdown",
   "id": "edd66ff7",
   "metadata": {},
   "source": [
    "### Please write a program using generator to print the even numbers between 0 and n in comma separated form while n is input by console."
   ]
  },
  {
   "cell_type": "code",
   "execution_count": 5,
   "id": "c0e1ad0e",
   "metadata": {},
   "outputs": [
    {
     "name": "stdout",
     "output_type": "stream",
     "text": [
      "enter the upper limit of numbers: 20\n",
      "0,2,4,6,8,10,12,14,16,18,20,"
     ]
    }
   ],
   "source": [
    "def number_checker(n):\n",
    " \n",
    "    i = 0\n",
    " \n",
    "    while i<n:\n",
    " \n",
    "        j=i\n",
    " \n",
    "        i=i+1\n",
    " \n",
    "        if j%2==0:\n",
    " \n",
    "            yield j\n",
    "\n",
    "\n",
    "x = int(input(\"enter the upper limit of numbers: \"))\n",
    "for i in number_checker(x+1):\n",
    "    print (i,end =\",\")"
   ]
  },
  {
   "cell_type": "markdown",
   "id": "1ade8fb4",
   "metadata": {},
   "source": [
    "### The Fibonacci Sequence is computed based on the following formula:\n",
    "#### f(n)=0 if n=0\n",
    "#### f(n)=1 if n=1\n",
    "#### f(n)=f(n-1)+f(n-2) if n&gt;1\n",
    "#### Please write a program using list comprehension to print the Fibonacci Sequence in comma separated form with a given n input by console."
   ]
  },
  {
   "cell_type": "code",
   "execution_count": 10,
   "id": "abea9d71",
   "metadata": {},
   "outputs": [
    {
     "name": "stdout",
     "output_type": "stream",
     "text": [
      "Enter the threshold : 7\n",
      "0,1,1,2,3,5,8,"
     ]
    }
   ],
   "source": [
    "def f(n):\n",
    "    if n == 0: return 0\n",
    "    elif n == 1: return 1\n",
    "    else: return f(n-1)+f(n-2)\n",
    "\n",
    "n=int(input(\"Enter the threshold : \"))\n",
    "for i in range(0,n):\n",
    "    print(f(i),end=\",\")"
   ]
  },
  {
   "cell_type": "markdown",
   "id": "811875a0",
   "metadata": {},
   "source": [
    "### Assuming that we have some email addresses in the &quot;username@companyname.com&quot; format, please write program to print the user name of a given email address. Both user names and company names are composed of letters only."
   ]
  },
  {
   "cell_type": "code",
   "execution_count": 30,
   "id": "8cffd698",
   "metadata": {},
   "outputs": [
    {
     "name": "stdout",
     "output_type": "stream",
     "text": [
      "Enter mail id: john@xyz.com\n",
      "john\n"
     ]
    }
   ],
   "source": [
    "def fetch(mail):\n",
    "    l = mail.split(\"@\")\n",
    "    return l[0]\n",
    "\n",
    "mail = input(\"Enter mail id: \")\n",
    "print(fetch(mail))\n",
    "    "
   ]
  },
  {
   "cell_type": "markdown",
   "id": "c829868a",
   "metadata": {},
   "source": [
    "### Define a class named Shape and its subclass Square. The Square class has an init function which takes a length as argument. Both classes have a area function which can print the area of the shape where Shape&#39;s area is 0 by default."
   ]
  },
  {
   "cell_type": "code",
   "execution_count": 33,
   "id": "daa890ec",
   "metadata": {},
   "outputs": [
    {
     "name": "stdout",
     "output_type": "stream",
     "text": [
      "enter the side length of square: 5\n",
      "25\n"
     ]
    }
   ],
   "source": [
    "class Shape(object):\n",
    "    def __init__(self):\n",
    "        pass\n",
    "\n",
    "    def area(self):\n",
    "        return 0\n",
    "\n",
    "class Square(Shape):\n",
    "    def __init__(self, l):\n",
    "        Shape.__init__(self)\n",
    "        self.length = l\n",
    "\n",
    "    def area(self):\n",
    "        return self.length*self.length\n",
    "x = int(input(\"enter the side length of square: \"))\n",
    "aSquare= Square(x)\n",
    "print (aSquare.area())"
   ]
  },
  {
   "cell_type": "code",
   "execution_count": null,
   "id": "dd875a22",
   "metadata": {},
   "outputs": [],
   "source": []
  }
 ],
 "metadata": {
  "kernelspec": {
   "display_name": "Python 3 (ipykernel)",
   "language": "python",
   "name": "python3"
  },
  "language_info": {
   "codemirror_mode": {
    "name": "ipython",
    "version": 3
   },
   "file_extension": ".py",
   "mimetype": "text/x-python",
   "name": "python",
   "nbconvert_exporter": "python",
   "pygments_lexer": "ipython3",
   "version": "3.9.12"
  }
 },
 "nbformat": 4,
 "nbformat_minor": 5
}
