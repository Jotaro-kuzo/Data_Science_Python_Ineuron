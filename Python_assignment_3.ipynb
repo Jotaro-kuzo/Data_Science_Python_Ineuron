{
 "cells": [
  {
   "cell_type": "markdown",
   "id": "75054e30",
   "metadata": {},
   "source": [
    "# 1. Why are functions advantageous to have in your programs?\n",
    "Reusability – We can use the same code for different input multiple times by calling the function. It reduced the code repetition. \n",
    "\n",
    "Easy to read – Easy to understand and debug as we have small groups of code.\n",
    "\n"
   ]
  },
  {
   "cell_type": "markdown",
   "id": "c8e7f81b",
   "metadata": {},
   "source": [
    "# 2. When does the code in a function run: when it's specified or when it's called?\n",
    "\n",
    "The code in the function will be executed whenever a function is called.\n"
   ]
  },
  {
   "cell_type": "markdown",
   "id": "f2fe4929",
   "metadata": {},
   "source": [
    "# 3. What statement creates a function?\n",
    "\n",
    "def statement is used to create function. \n",
    "\n",
    "\n",
    "eg:\n",
    "\n",
    "def function_name(Parameters):\n",
    "\n",
    "    code logic\n",
    "\n"
   ]
  },
  {
   "cell_type": "markdown",
   "id": "3ae833fd",
   "metadata": {},
   "source": [
    "# 4. What is the difference between a function and a function call?\n",
    "A function is block of code which is defined with def statement and will take parameters, performs some tasks and provide results when it is called. \n",
    "\n",
    "A function call is a code which transfers the program control to function. Function will be executed once it is called.\n"
   ]
  },
  {
   "cell_type": "markdown",
   "id": "014d91cd",
   "metadata": {},
   "source": [
    "# 5. How many global scopes are there in a Python program? How many local scopes?\n",
    "There is only one global scope in python program.A variable created in main body of code belongs to global scope. \n",
    "\n",
    "A variable created inside the function belongs to local scope. We have multiple local scope whenever a function is created.\n"
   ]
  },
  {
   "cell_type": "markdown",
   "id": "32503fc2",
   "metadata": {},
   "source": [
    "# 6. What happens to variables in a local scope when the function call returns?\n",
    "The local variables will be destroyed once the execution of function got completed. The local variables will be undefined.\n"
   ]
  },
  {
   "cell_type": "markdown",
   "id": "0e1744bf",
   "metadata": {},
   "source": [
    "# 7. What is the concept of a return value? Is it possible to have a return value in an expression?\n",
    "A return statement represents the end of the function and it returns the results to the caller. We can have return value in an expression. \n"
   ]
  },
  {
   "cell_type": "markdown",
   "id": "cd7afc08",
   "metadata": {},
   "source": [
    "# 8. If a function does not have a return statement, what is the return value of a call to that function?\n",
    "If return statement is not mentioned, function will execute till the last code of functions and returns Null to the caller. \n"
   ]
  },
  {
   "cell_type": "markdown",
   "id": "212b64d6",
   "metadata": {},
   "source": [
    "# 9. How do you make a function variable refer to the global variable?\n",
    "Local variable refers global variable by default, if we want to assign a value to global variable inside the function then we need use global keyword.\n"
   ]
  },
  {
   "cell_type": "markdown",
   "id": "9b06e7b3",
   "metadata": {},
   "source": [
    "# 10. What is the data type of None?\n",
    "\n",
    "Data type of None is None type itself. It represents the null value or no value. \n"
   ]
  },
  {
   "cell_type": "markdown",
   "id": "fd710981",
   "metadata": {},
   "source": [
    "# 11. What does the sentence import areallyourpetsnamederic do?\n",
    "Areallyourpetsnamederic is not a module in python.\n"
   ]
  },
  {
   "cell_type": "markdown",
   "id": "3363fefc",
   "metadata": {},
   "source": [
    "# 12. If you had a bacon() feature in a spam module, what would you call it after importing spam?\n",
    "Function can be called using spam.bacon() \n"
   ]
  },
  {
   "cell_type": "markdown",
   "id": "33c3a534",
   "metadata": {},
   "source": [
    "# 13. What can you do to save a programme from crashing if it encounters an error?\n",
    "Python has many built-in exceptions. If we encounters such exceptions or error program will be crashed. To avoid it, we can create a code for handling exceptions and error by creating try and except clause. \n"
   ]
  },
  {
   "cell_type": "markdown",
   "id": "244dc8d1",
   "metadata": {},
   "source": [
    "# 14. What is the purpose of the try clause? What is the purpose of the except clause?\n",
    "Try and except clause is used to handle the exceptions. Try clause will have the code which helps in identifying the exceptions and excepts clause will have the code logic on how to handle the exceptions. \n"
   ]
  }
 ],
 "metadata": {
  "kernelspec": {
   "display_name": "Python 3",
   "language": "python",
   "name": "python3"
  },
  "language_info": {
   "codemirror_mode": {
    "name": "ipython",
    "version": 3
   },
   "file_extension": ".py",
   "mimetype": "text/x-python",
   "name": "python",
   "nbconvert_exporter": "python",
   "pygments_lexer": "ipython3",
   "version": "3.8.8"
  }
 },
 "nbformat": 4,
 "nbformat_minor": 5
}
