{
 "cells": [
  {
   "cell_type": "markdown",
   "id": "4417d8cb",
   "metadata": {},
   "source": [
    "# 1. What exactly is []?\n",
    "[] represents the empty list. \n"
   ]
  },
  {
   "cell_type": "markdown",
   "id": "64652b2c",
   "metadata": {},
   "source": [
    "# 2. In a list of values stored in a variable called spam, how would you assign the value 'hello' as the third value? (Assume [2, 4, 6, 8, 10] are in spam.)\n",
    "\n",
    "Spam[2] =’hello’\n"
   ]
  },
  {
   "cell_type": "markdown",
   "id": "affc5280",
   "metadata": {},
   "source": [
    "Let's pretend the spam includes the list ['a', 'b', 'c', 'd'] for the next three queries."
   ]
  },
  {
   "cell_type": "markdown",
   "id": "5740e26e",
   "metadata": {},
   "source": [
    "# 3. What is the value of spam[int(int('3' * 2) / 11)]?\n",
    "‘d’\n"
   ]
  },
  {
   "cell_type": "markdown",
   "id": "668154e3",
   "metadata": {},
   "source": [
    "# 4. What is the value of spam[-1]?\n",
    "‘d’\n"
   ]
  },
  {
   "cell_type": "markdown",
   "id": "adb3cc24",
   "metadata": {},
   "source": [
    "# 5. What is the value of spam[:2]?\n",
    "['a', 'b']\n"
   ]
  },
  {
   "cell_type": "markdown",
   "id": "c4d09192",
   "metadata": {},
   "source": [
    "#Let's pretend bacon has the list [3.14, 'cat,' 11, 'cat,' True] for the next three questions."
   ]
  },
  {
   "cell_type": "markdown",
   "id": "417df012",
   "metadata": {},
   "source": [
    "# 6. What is the value of bacon.index('cat')?\n",
    "\n",
    "1 \n",
    "\n",
    "Index value starts with 0 and it will consider the index value of first occurred value. \n",
    "\n",
    "Even though we have 2 ‘cat’ in the list, it will consider the first occurrence and gives 1 as result.\n"
   ]
  },
  {
   "cell_type": "markdown",
   "id": "b5cfec32",
   "metadata": {},
   "source": [
    "# 7. How does bacon.append(99) change the look of the list value in bacon?\n",
    "It will add value 99 at the end of the list. \n",
    "\n",
    "The list will be [3.14, ‘cat’,11,’cat’,’True’,99]\n"
   ]
  },
  {
   "cell_type": "markdown",
   "id": "a2b4b9ec",
   "metadata": {},
   "source": [
    "# 8. How does bacon.remove('cat') change the look of the list in bacon?\n",
    "[3.14,11,’cat’,’True’,99]\n",
    "It will remove the first occurrence of ‘cat’.\n"
   ]
  },
  {
   "cell_type": "markdown",
   "id": "ba5c24de",
   "metadata": {},
   "source": [
    "# 9. What are the list concatenation and list replication operators?\n",
    "'+' is list concatenate operator and * is replication operator.\n"
   ]
  },
  {
   "cell_type": "markdown",
   "id": "3d35f8bc",
   "metadata": {},
   "source": [
    "# 10. What is difference between the list methods append() and insert()?\n",
    "append() method will add the data at the end of the list. \n",
    "\n",
    "insert() method will add the data at any specified location in the list.\n"
   ]
  },
  {
   "cell_type": "markdown",
   "id": "63f7a610",
   "metadata": {},
   "source": [
    "# 11. What are the two methods for removing items from a list?\n",
    "\n",
    "remove() , pop() are the two methods used for removing items from the list. \n"
   ]
  },
  {
   "cell_type": "markdown",
   "id": "4ab1ac66",
   "metadata": {},
   "source": [
    "# 12. Describe how list values and string values are identical.\n",
    "\n",
    "Similarities between string and lists are: \n",
    "    \n",
    "List and String has length. List length is number of items in the list and String length is number of characters in the list. \n",
    "\n",
    "Both has index values. Values can be accessed using square bracket indexing.\n",
    "\n"
   ]
  },
  {
   "cell_type": "markdown",
   "id": "e9c1437f",
   "metadata": {},
   "source": [
    "# 13. What's the difference between tuples and lists?\n",
    "Difference between Lists and tuples are: \n",
    "\n",
    "* List is mutable. Tuple is immutable.\n",
    "\n",
    "* Tuples are more memory efficient than Lists. As tuples are immutable, python allocates fixed memory required for that data and it will allocate more memory to List as data may be added to it. \n"
   ]
  },
  {
   "cell_type": "markdown",
   "id": "a1d0eadc",
   "metadata": {},
   "source": [
    "# 14. How do you type a tuple value that only contains the integer 42?\n",
    "\n",
    "(42,)\n"
   ]
  },
  {
   "cell_type": "markdown",
   "id": "20aca5db",
   "metadata": {},
   "source": [
    "# 15. How do you get a list value's tuple form? How do you get a tuple value's list form?\n",
    "\n",
    "It can be get using tuple() , list() methods. \n"
   ]
  },
  {
   "cell_type": "markdown",
   "id": "16e836d2",
   "metadata": {},
   "source": [
    "# 16. Variables that \"contain\" list values are not necessarily lists themselves. Instead, what do they contain?``\n",
    "\n",
    "variables will contain the reference value to the list.\n"
   ]
  },
  {
   "cell_type": "markdown",
   "id": "f02b1afd",
   "metadata": {},
   "source": [
    "# 17. How do you distinguish between copy.copy() and copy.deepcopy()?\n",
    "Copy.copy() refers to shallow copy and deepcopy() is deep copy. \n",
    "\n",
    "* Shallow copy will create object which have references to the original data. Deep copy will create duplicate of object and stores the value of object. \n",
    "* In shallow copy , any changes to the newly copied value will be reflected the original value. Deep copy will not reflect the changes in the original value. \n",
    "* Shallow copy will be faster than deep copy. \n"
   ]
  }
 ],
 "metadata": {
  "kernelspec": {
   "display_name": "Python 3",
   "language": "python",
   "name": "python3"
  },
  "language_info": {
   "codemirror_mode": {
    "name": "ipython",
    "version": 3
   },
   "file_extension": ".py",
   "mimetype": "text/x-python",
   "name": "python",
   "nbconvert_exporter": "python",
   "pygments_lexer": "ipython3",
   "version": "3.8.8"
  }
 },
 "nbformat": 4,
 "nbformat_minor": 5
}
