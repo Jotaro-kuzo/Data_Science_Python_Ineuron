{
 "cells": [
  {
   "cell_type": "markdown",
   "id": "4bf02c44",
   "metadata": {},
   "source": [
    "### 1. Write a Python Program to Display Fibonacci Sequence Using Recursion?"
   ]
  },
  {
   "cell_type": "code",
   "execution_count": 4,
   "id": "e25708b7",
   "metadata": {},
   "outputs": [
    {
     "name": "stdout",
     "output_type": "stream",
     "text": [
      "Enter a positive real number :10\n",
      "The fibanocci series is : \n",
      "0 1 1 2 3 5 8 13 21 34 "
     ]
    }
   ],
   "source": [
    "def fibanocci(n):\n",
    "    if n<=1:\n",
    "        return n\n",
    "    else:\n",
    "        return(fibanocci(n-1)+fibanocci(n-2))\n",
    "    \n",
    "n = int(input(\"Enter a positive real number :\"))\n",
    "print(\"The fibanocci series is : \")\n",
    "for i in range(n):\n",
    "    print(fibanocci(i), end = \" \")"
   ]
  },
  {
   "cell_type": "markdown",
   "id": "05b942d8",
   "metadata": {},
   "source": [
    "### 2. Write a Python Program to Find Factorial of Number Using Recursion?"
   ]
  },
  {
   "cell_type": "code",
   "execution_count": 2,
   "id": "3fc5e1df",
   "metadata": {},
   "outputs": [
    {
     "name": "stdout",
     "output_type": "stream",
     "text": [
      "Enter a positive real number \n",
      " 10\n",
      "The factorial of 10  is:  3628800\n"
     ]
    }
   ],
   "source": [
    "def factorial(a):\n",
    "    if a == 1:\n",
    "        return 1\n",
    "    return(a * factorial(a-1))\n",
    "\n",
    "a = int(input(\"Enter a positive real number \\n \"))\n",
    "result = factorial(a)\n",
    "print(\"The factorial of\", a , \" is: \", result)\n"
   ]
  },
  {
   "cell_type": "markdown",
   "id": "83e1b24c",
   "metadata": {},
   "source": [
    "### 3. Write a Python Program to calculate your Body Mass Index?"
   ]
  },
  {
   "cell_type": "code",
   "execution_count": 6,
   "id": "3bc48287",
   "metadata": {},
   "outputs": [
    {
     "name": "stdout",
     "output_type": "stream",
     "text": [
      "enter your weight in Kilo metrics: 70\n",
      "enter your height in meters metrics: 1.72\n",
      "The BMI of your body is: \n",
      "\t 23.661438615467823\n"
     ]
    }
   ],
   "source": [
    "def bmi(w,h):\n",
    "    x = w/h**2\n",
    "    return x\n",
    "\n",
    "weight = float(input(\"enter your weight in Kilo metrics: \"))\n",
    "height = float(input(\"enter your height in meters metrics: \"))\n",
    "print(\"The BMI of your body is: \")\n",
    "print(\"\\t\", bmi(weight,height))"
   ]
  },
  {
   "cell_type": "markdown",
   "id": "8a57fa43",
   "metadata": {},
   "source": [
    "### 4. Write a Python Program to calculate the natural logarithm of any number?"
   ]
  },
  {
   "cell_type": "code",
   "execution_count": 7,
   "id": "c6a55f99",
   "metadata": {},
   "outputs": [
    {
     "name": "stdout",
     "output_type": "stream",
     "text": [
      "Enter a decimal number: 3\n",
      "the natural log for the given number is:  1.0986122886681098\n"
     ]
    }
   ],
   "source": [
    "import math\n",
    "number = int(input(\"Enter a decimal number: \"))\n",
    "print(\"the natural log for the given number is: \", math.log(number))"
   ]
  },
  {
   "cell_type": "markdown",
   "id": "224ff679",
   "metadata": {},
   "source": [
    "### 5. Write a Python Program for cube sum of first n natural numbers?"
   ]
  },
  {
   "cell_type": "code",
   "execution_count": 9,
   "id": "e7c8bc31",
   "metadata": {},
   "outputs": [
    {
     "name": "stdout",
     "output_type": "stream",
     "text": [
      "Enter the range of numbers: 5\n",
      "The cube sum if first  5  natural numbers is:  225.0\n"
     ]
    }
   ],
   "source": [
    "def cube(t):\n",
    "    return (t*(t+1)/2)**2\n",
    "\n",
    "n = int(input(\"Enter the range of numbers: \"))\n",
    "print(\"The cube sum if first \",n,\" natural numbers is: \", cube(n))"
   ]
  },
  {
   "cell_type": "code",
   "execution_count": null,
   "id": "f0448a1e",
   "metadata": {},
   "outputs": [],
   "source": []
  }
 ],
 "metadata": {
  "kernelspec": {
   "display_name": "Python 3 (ipykernel)",
   "language": "python",
   "name": "python3"
  },
  "language_info": {
   "codemirror_mode": {
    "name": "ipython",
    "version": 3
   },
   "file_extension": ".py",
   "mimetype": "text/x-python",
   "name": "python",
   "nbconvert_exporter": "python",
   "pygments_lexer": "ipython3",
   "version": "3.9.12"
  }
 },
 "nbformat": 4,
 "nbformat_minor": 5
}
