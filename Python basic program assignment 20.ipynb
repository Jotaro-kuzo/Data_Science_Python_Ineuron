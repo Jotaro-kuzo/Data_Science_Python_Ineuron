{
 "cells": [
  {
   "cell_type": "markdown",
   "id": "5b8a1557",
   "metadata": {},
   "source": [
    "### Create a function that takes a list of strings and integers, and filters out the list so that it returns a list of integers only."
   ]
  },
  {
   "cell_type": "code",
   "execution_count": 1,
   "id": "4cc86aff",
   "metadata": {},
   "outputs": [
    {
     "name": "stdout",
     "output_type": "stream",
     "text": [
      "ENter the number of elements in list: 5\n",
      "1\n",
      "2\n",
      "5\n",
      "kgf\n",
      "supply\n",
      "['1', '2', '5', 'kgf', 'supply']\n",
      "['1', '2', '5']\n"
     ]
    }
   ],
   "source": [
    "def filter_list(l):\n",
    "    new_list = []\n",
    "    for x in l:\n",
    "        try:\n",
    "            if int(x)/1:\n",
    "                new_list.append(x)\n",
    "        except:\n",
    "            pass\n",
    "    return new_list\n",
    "\n",
    "l = []\n",
    "n = int(input(\"ENter the number of elements in list: \"))\n",
    "for i in range(0,n):\n",
    "    x = input()\n",
    "    l.append(x)\n",
    "print(l)\n",
    "print(filter_list(l))"
   ]
  },
  {
   "cell_type": "code",
   "execution_count": null,
   "id": "b1791d5b",
   "metadata": {},
   "outputs": [],
   "source": []
  },
  {
   "cell_type": "code",
   "execution_count": null,
   "id": "6c2105f3",
   "metadata": {},
   "outputs": [],
   "source": []
  },
  {
   "cell_type": "code",
   "execution_count": null,
   "id": "276e02dd",
   "metadata": {},
   "outputs": [],
   "source": []
  },
  {
   "cell_type": "markdown",
   "id": "3b8c3729",
   "metadata": {},
   "source": [
    "### Create a function that takes the height and radius of a cone as arguments and returns the volume of the cone rounded to the nearest hundredth."
   ]
  },
  {
   "cell_type": "code",
   "execution_count": 3,
   "id": "27d18017",
   "metadata": {},
   "outputs": [
    {
     "name": "stdout",
     "output_type": "stream",
     "text": [
      "enter the height of cone: 3\n",
      "enter the below radius: 2\n",
      "12.57 is the volume of cone\n"
     ]
    }
   ],
   "source": [
    "import math\n",
    "def vol(h,r):\n",
    "    p = math.pi\n",
    "    a = p*r*r*h/3\n",
    "    return a\n",
    "if __name__==\"__main__\":\n",
    "    h = float(input(\"enter the height of cone: \"))\n",
    "    r = float(input(\"enter the below radius: \"))\n",
    "    a = vol(h,r)\n",
    "    print(\"%0.2f is the volume of cone\" %a )"
   ]
  },
  {
   "cell_type": "markdown",
   "id": "592de11f",
   "metadata": {},
   "source": [
    "### Write a function that gives the number of dots with its corresponding triangle number of the sequence."
   ]
  },
  {
   "cell_type": "code",
   "execution_count": 5,
   "id": "e52b0d58",
   "metadata": {},
   "outputs": [
    {
     "name": "stdout",
     "output_type": "stream",
     "text": [
      "enter number of dots: 6\n",
      "21\n"
     ]
    }
   ],
   "source": [
    "def no_points(k):\n",
    "    \n",
    "    return ( k*(k+1)//2)\n",
    "if __name__ == \"__main__\":\n",
    "    k = int(input(\"enter number of dots: \"))\n",
    "    print(no_points(k))\n",
    "    "
   ]
  },
  {
   "cell_type": "markdown",
   "id": "fe15531d",
   "metadata": {},
   "source": [
    "### Create a function that takes a list of numbers between 1 and 10 (excluding one number) and returns the missing number."
   ]
  },
  {
   "cell_type": "code",
   "execution_count": 8,
   "id": "7d31f20f",
   "metadata": {},
   "outputs": [
    {
     "name": "stdout",
     "output_type": "stream",
     "text": [
      "Enter the 9 numbers from 1-10\n",
      "1\n",
      "2\n",
      "3\n",
      "4\n",
      "5\n",
      "6\n",
      "7\n",
      "8\n",
      "9\n",
      "[1, 2, 3, 4, 5, 6, 7, 8, 9] is the original list\n",
      "the missing value is:   10\n"
     ]
    }
   ],
   "source": [
    "def miss(l):\n",
    "    b = [1,2,3,4,5,6,7,8,9,10]\n",
    "    uc = ''\n",
    "    for i in b:\n",
    "        if i not in l:\n",
    "            uc = uc+\" \"+str(i)\n",
    "    return uc\n",
    "\n",
    "l = []\n",
    "print(\"Enter the 9 numbers from 1-10\")\n",
    "for i in range(0,9):\n",
    "    x = int(input())\n",
    "    l.append(x)\n",
    "print(l,\"is the original list\")\n",
    "print(\"the missing value is: \", miss(l))"
   ]
  },
  {
   "cell_type": "code",
   "execution_count": null,
   "id": "5bd0e47f",
   "metadata": {},
   "outputs": [],
   "source": []
  }
 ],
 "metadata": {
  "kernelspec": {
   "display_name": "Python 3 (ipykernel)",
   "language": "python",
   "name": "python3"
  },
  "language_info": {
   "codemirror_mode": {
    "name": "ipython",
    "version": 3
   },
   "file_extension": ".py",
   "mimetype": "text/x-python",
   "name": "python",
   "nbconvert_exporter": "python",
   "pygments_lexer": "ipython3",
   "version": "3.9.12"
  }
 },
 "nbformat": 4,
 "nbformat_minor": 5
}
