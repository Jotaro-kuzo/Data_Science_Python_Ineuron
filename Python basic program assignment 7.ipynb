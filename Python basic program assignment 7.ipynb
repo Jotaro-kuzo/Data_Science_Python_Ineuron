{
 "cells": [
  {
   "cell_type": "markdown",
   "id": "cb6b2fee",
   "metadata": {},
   "source": [
    "### 1. Write a Python Program to find sum of array?"
   ]
  },
  {
   "cell_type": "code",
   "execution_count": 17,
   "id": "b9bede75",
   "metadata": {},
   "outputs": [
    {
     "name": "stdout",
     "output_type": "stream",
     "text": [
      "Enter a list element separated by space 2 4 6 8 10\n",
      "The sum of element of input list: ['2', '4', '6', '8', '10']\n",
      "30\n",
      "8\n"
     ]
    }
   ],
   "source": [
    "string = input(\"Enter a list element separated by space \")\n",
    "list  = string.split()\n",
    "print(\"The sum of element of input list:\", list)\n",
    "sum = 0\n",
    "for num in list:\n",
    "    sum += int (num)\n",
    "print(sum)"
   ]
  },
  {
   "cell_type": "markdown",
   "id": "f9f3e1d1",
   "metadata": {},
   "source": [
    "### 2. Write a Python Program to find largest element in an array?"
   ]
  },
  {
   "cell_type": "code",
   "execution_count": 34,
   "id": "0d842d9a",
   "metadata": {},
   "outputs": [
    {
     "name": "stdout",
     "output_type": "stream",
     "text": [
      "Enter a list element separated by space 40 41 42 44 45\n",
      "['40', '41', '42', '44', '45']\n",
      "The largest value in given array is :\n"
     ]
    },
    {
     "data": {
      "text/plain": [
       "'45'"
      ]
     },
     "execution_count": 34,
     "metadata": {},
     "output_type": "execute_result"
    }
   ],
   "source": [
    "string = input(\"Enter a list element separated by space \")\n",
    "list  = string.split()\n",
    "print(list)\n",
    "print(\"The largest value in given array is :\")\n",
    "                               \n",
    "max(list)\n",
    "  \n",
    "\n",
    "\n"
   ]
  },
  {
   "cell_type": "markdown",
   "id": "15f97428",
   "metadata": {},
   "source": [
    "### 3. Write a Python Program for array rotation?"
   ]
  },
  {
   "cell_type": "code",
   "execution_count": 46,
   "id": "bf89e4a3",
   "metadata": {},
   "outputs": [
    {
     "name": "stdout",
     "output_type": "stream",
     "text": [
      "Enter a list element separated by space 2 3 4 5 6 7 8 5 5 1 2 4 6 4\n",
      "The original array is:  ['2', '3', '4', '5', '6', '7', '8', '5', '5', '1', '2', '4', '6', '4']\n",
      "Enter how many times you want to rotate array: 6\n",
      "the rotated list for  1 th time is:  ['3', '4', '5', '6', '7', '8', '5', '5', '1', '2', '4', '6', '4', '2']\n",
      "the rotated list for  2 th time is:  ['4', '5', '6', '7', '8', '5', '5', '1', '2', '4', '6', '4', '2', '3']\n",
      "the rotated list for  3 th time is:  ['5', '6', '7', '8', '5', '5', '1', '2', '4', '6', '4', '2', '3', '4']\n",
      "the rotated list for  4 th time is:  ['6', '7', '8', '5', '5', '1', '2', '4', '6', '4', '2', '3', '4', '5']\n",
      "the rotated list for  5 th time is:  ['7', '8', '5', '5', '1', '2', '4', '6', '4', '2', '3', '4', '5', '6']\n",
      "the rotated list for  6 th time is:  ['8', '5', '5', '1', '2', '4', '6', '4', '2', '3', '4', '5', '6', '7']\n"
     ]
    }
   ],
   "source": [
    "string = input(\"Enter a list element separated by space \")\n",
    "list  = string.split()\n",
    "print(\"The original array is: \", list)\n",
    "r = int(input(\"Enter how many times you want to rotate array: \"))\n",
    "for i in range (0,r):\n",
    "    t = list[0]\n",
    "    list.pop(0)\n",
    "    list.append(t)\n",
    "    print(\"the rotated list for \",i+1,\"th time is: \",list)\n"
   ]
  },
  {
   "cell_type": "markdown",
   "id": "83bedcb6",
   "metadata": {},
   "source": [
    "### 4. Write a Python Program to Split the array and add the first part to the end?"
   ]
  },
  {
   "cell_type": "code",
   "execution_count": 47,
   "id": "5c4ef243",
   "metadata": {},
   "outputs": [
    {
     "name": "stdout",
     "output_type": "stream",
     "text": [
      "Enter a list element separated by space 5 4 6 2 1 8 4 5 3 1\n",
      "The original array is:  ['5', '4', '6', '2', '1', '8', '4', '5', '3', '1']\n",
      "Enter at what position tou want to break array: 5\n",
      "The new array is :\n",
      "['8', '4', '5', '3', '1', '5', '4', '6', '2', '1']\n"
     ]
    }
   ],
   "source": [
    "string = input(\"Enter a list element separated by space \")\n",
    "list  = string.split()\n",
    "print(\"The original array is: \", list)\n",
    "r = int(input(\"Enter at what position tou want to break array: \"))\n",
    "for i in range (0,r):\n",
    "    t = list[0]\n",
    "    list.pop(0)\n",
    "    list.append(t)\n",
    "print(\"The new array is :\")\n",
    "print(list)"
   ]
  },
  {
   "cell_type": "markdown",
   "id": "5e660a57",
   "metadata": {},
   "source": [
    "### 5. Write a Python Program to check if given array is Monotonic?"
   ]
  },
  {
   "cell_type": "code",
   "execution_count": 48,
   "id": "8cf01555",
   "metadata": {},
   "outputs": [
    {
     "name": "stdout",
     "output_type": "stream",
     "text": [
      "Enter a list element separated by space 2 3 4 5 6\n",
      "The given list is Monotonic\n"
     ]
    }
   ],
   "source": [
    "def mono(l):\n",
    "    return(all(l[i]<=l[i+1] for i in range(len(l)-1)) or all(l[i]>=l[i+1] for i in range(len(l)-1)))\n",
    "\n",
    "string = input(\"Enter a list element separated by space \")\n",
    "list  = string.split()\n",
    "flag = mono(list)\n",
    "if flag == True:\n",
    "    print(\"The given list is Monotonic\")\n",
    "else:\n",
    "    print(\"The given list is not Monotonic\")"
   ]
  },
  {
   "cell_type": "code",
   "execution_count": null,
   "id": "ab8cc7f3",
   "metadata": {},
   "outputs": [],
   "source": []
  }
 ],
 "metadata": {
  "kernelspec": {
   "display_name": "Python 3 (ipykernel)",
   "language": "python",
   "name": "python3"
  },
  "language_info": {
   "codemirror_mode": {
    "name": "ipython",
    "version": 3
   },
   "file_extension": ".py",
   "mimetype": "text/x-python",
   "name": "python",
   "nbconvert_exporter": "python",
   "pygments_lexer": "ipython3",
   "version": "3.9.12"
  }
 },
 "nbformat": 4,
 "nbformat_minor": 5
}
