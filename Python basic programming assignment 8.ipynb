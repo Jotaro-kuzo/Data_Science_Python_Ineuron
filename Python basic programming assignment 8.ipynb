{
 "cells": [
  {
   "cell_type": "markdown",
   "id": "adc129bf",
   "metadata": {},
   "source": [
    "### 1. Write a Python Program to Add Two Matrices?"
   ]
  },
  {
   "cell_type": "code",
   "execution_count": 12,
   "id": "48af8a23",
   "metadata": {},
   "outputs": [
    {
     "name": "stdout",
     "output_type": "stream",
     "text": [
      "Enter number of rows: 2\n",
      "Enter number of columns: 2\n",
      "Enter first matrix elements in row wise: 1\n",
      "Enter first matrix elements in row wise: 2\n",
      "Enter first matrix elements in row wise: 3\n",
      "Enter first matrix elements in row wise: 4\n",
      "[[1, 2], [3, 4]]\n",
      "Enter second matrix elements in row wise: 4\n",
      "Enter second matrix elements in row wise: 3\n",
      "Enter second matrix elements in row wise: 2\n",
      "Enter second matrix elements in row wise: 1\n",
      "[[4, 3], [2, 1]]\n",
      "The addition of two matrix:\n",
      "[5, 5]\n",
      "[5, 5]\n"
     ]
    }
   ],
   "source": [
    "matrix1 = []\n",
    "matrix2 = []\n",
    "r1 = int(input(\"Enter number of rows: \"))\n",
    "c1 = int(input(\"Enter number of columns: \"))\n",
    "\n",
    "for i in range(r1):\n",
    "    row = []\n",
    "    for j in range(c1):\n",
    "        ip = int(input(\"Enter first matrix elements in row wise: \"))\n",
    "        row.append(ip)\n",
    "    matrix1.append(row)\n",
    "print(matrix1)\n",
    "\n",
    "for i in range(r1):\n",
    "    row = []\n",
    "    for j in range(c1):\n",
    "        ip = int(input(\"Enter second matrix elements in row wise: \"))\n",
    "        row.append(ip)\n",
    "    matrix2.append(row)\n",
    "print(matrix2)\n",
    "\n",
    "print(\"The addition of two matrix:\")\n",
    "add_mat = [[matrix1[i][j] + matrix2[i][j]  for j in range(len(matrix1[0]))] for i in range(len(matrix1))]\n",
    "for r in add_mat:\n",
    "    print(r)\n",
    "        "
   ]
  },
  {
   "cell_type": "markdown",
   "id": "95d55fc8",
   "metadata": {},
   "source": [
    "### 2. Write a Python Program to Multiply Two Matrices?"
   ]
  },
  {
   "cell_type": "code",
   "execution_count": 14,
   "id": "8d8925a2",
   "metadata": {},
   "outputs": [
    {
     "name": "stdout",
     "output_type": "stream",
     "text": [
      "Enter number of rows: 3\n",
      "Enter number of columns: 3\n",
      "Enter first matrix elements in row wise: 1\n",
      "Enter first matrix elements in row wise: 0\n",
      "Enter first matrix elements in row wise: 0\n",
      "Enter first matrix elements in row wise: 0\n",
      "Enter first matrix elements in row wise: 1\n",
      "Enter first matrix elements in row wise: 0\n",
      "Enter first matrix elements in row wise: 0\n",
      "Enter first matrix elements in row wise: 0\n",
      "Enter first matrix elements in row wise: 1\n",
      "[[1, 0, 0], [0, 1, 0], [0, 0, 1]]\n",
      "Enter second matrix elements in row wise: 1\n",
      "Enter second matrix elements in row wise: 2\n",
      "Enter second matrix elements in row wise: 3\n",
      "Enter second matrix elements in row wise: 4\n",
      "Enter second matrix elements in row wise: 5\n",
      "Enter second matrix elements in row wise: 6\n",
      "Enter second matrix elements in row wise: 7\n",
      "Enter second matrix elements in row wise: 8\n",
      "Enter second matrix elements in row wise: 9\n",
      "[[1, 2, 3], [4, 5, 6], [7, 8, 9]]\n",
      "the multiplied matrix is: \n",
      " [[1 0 0]\n",
      " [0 5 0]\n",
      " [0 0 9]]\n"
     ]
    }
   ],
   "source": [
    "import numpy as np\n",
    "matrix1 = []\n",
    "matrix2 = []\n",
    "r1 = int(input(\"Enter number of rows: \"))\n",
    "c1 = int(input(\"Enter number of columns: \"))\n",
    "\n",
    "for i in range(r1):\n",
    "    row = []\n",
    "    for j in range(c1):\n",
    "        ip = int(input(\"Enter first matrix elements in row wise: \"))\n",
    "        row.append(ip)\n",
    "    matrix1.append(row)\n",
    "print(matrix1)\n",
    "\n",
    "for i in range(r1):\n",
    "    row = []\n",
    "    for j in range(c1):\n",
    "        ip = int(input(\"Enter second matrix elements in row wise: \"))\n",
    "        row.append(ip)\n",
    "    matrix2.append(row)\n",
    "print(matrix2)\n",
    "\n",
    "print(\"the multiplied matrix is: \\n\", np.multiply(matrix1,matrix2) )"
   ]
  },
  {
   "cell_type": "markdown",
   "id": "8004ae0e",
   "metadata": {},
   "source": [
    "### 3. Write a Python Program to Transpose a Matrix?"
   ]
  },
  {
   "cell_type": "code",
   "execution_count": 15,
   "id": "f525c86c",
   "metadata": {},
   "outputs": [
    {
     "name": "stdout",
     "output_type": "stream",
     "text": [
      "Enter number of rows: 2\n",
      "Enter number of columns: 2\n",
      "Enter first matrix elements in row wise: 2\n",
      "Enter first matrix elements in row wise: 3\n",
      "Enter first matrix elements in row wise: 4\n",
      "Enter first matrix elements in row wise: 5\n",
      "[[2, 3], [4, 5]]  is the original matrix\n",
      "Uts transpose matrix is  [[2 4]\n",
      " [3 5]]\n"
     ]
    }
   ],
   "source": [
    "matrix = []\n",
    "r1 = int(input(\"Enter number of rows: \"))\n",
    "c1 = int(input(\"Enter number of columns: \"))\n",
    "\n",
    "for i in range(r1):\n",
    "    row = []\n",
    "    for j in range(c1):\n",
    "        ip = int(input(\"Enter first matrix elements in row wise: \"))\n",
    "        row.append(ip)\n",
    "    matrix.append(row)\n",
    "print(matrix, \" is the original matrix\")\n",
    "print(\"Uts transpose matrix is \", np.transpose(matrix))"
   ]
  },
  {
   "cell_type": "markdown",
   "id": "a3c9461d",
   "metadata": {},
   "source": [
    "### 4. Write a Python Program to Sort Words in Alphabetic Order?"
   ]
  },
  {
   "cell_type": "code",
   "execution_count": 20,
   "id": "2e2fff40",
   "metadata": {},
   "outputs": [
    {
     "name": "stdout",
     "output_type": "stream",
     "text": [
      "Enter a sentence : hi every one\n",
      "the sorted order:\n",
      "every\n",
      "hi\n",
      "one\n"
     ]
    }
   ],
   "source": [
    "sentence = input(\"Enter a sentence : \")\n",
    "s  = [word.lower() for word in sentence.split()]\n",
    "print(\"the sorted order:\")\n",
    "s.sort()\n",
    "for i in s:\n",
    "    print(i)"
   ]
  },
  {
   "cell_type": "markdown",
   "id": "7684f652",
   "metadata": {},
   "source": [
    "### 5. Write a Python Program to Remove Punctuation From a String?"
   ]
  },
  {
   "cell_type": "code",
   "execution_count": 21,
   "id": "056cb99c",
   "metadata": {},
   "outputs": [
    {
     "name": "stdout",
     "output_type": "stream",
     "text": [
      "enter the sentence \"hello guys\"\n",
      " The sentence after punctiation filter is:  hello guys\n"
     ]
    }
   ],
   "source": [
    "import re\n",
    "string = input(\"enter the sentence \")\n",
    "result = re.sub(r'[^\\w\\s]', '', string)\n",
    "print(\" The sentence after punctiation filter is: \", result)\n"
   ]
  },
  {
   "cell_type": "code",
   "execution_count": null,
   "id": "8ebc7f34",
   "metadata": {},
   "outputs": [],
   "source": []
  }
 ],
 "metadata": {
  "kernelspec": {
   "display_name": "Python 3 (ipykernel)",
   "language": "python",
   "name": "python3"
  },
  "language_info": {
   "codemirror_mode": {
    "name": "ipython",
    "version": 3
   },
   "file_extension": ".py",
   "mimetype": "text/x-python",
   "name": "python",
   "nbconvert_exporter": "python",
   "pygments_lexer": "ipython3",
   "version": "3.9.12"
  }
 },
 "nbformat": 4,
 "nbformat_minor": 5
}
