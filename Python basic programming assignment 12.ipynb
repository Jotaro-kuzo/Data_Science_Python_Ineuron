{
 "cells": [
  {
   "cell_type": "markdown",
   "id": "ce6f7f16",
   "metadata": {},
   "source": [
    "### 1. Write a Python program to Extract Unique values dictionary values?\n"
   ]
  },
  {
   "cell_type": "code",
   "execution_count": 2,
   "id": "7159bbce",
   "metadata": {},
   "outputs": [
    {
     "name": "stdout",
     "output_type": "stream",
     "text": [
      "Enter number of keys you need: 3\n",
      "Enter key and value: a [1,2,3]\n",
      "Enter key and value: b [2,3,4]\n",
      "Enter key and value: c [3,4,5,6]\n",
      "{'a': '[1,2,3]', 'b': '[2,3,4]', 'c': '[3,4,5,6]'}  is the original dictionary\n",
      "The unique values list is : [',', '1', '2', '3', '4', '5', '6', '[', ']']\n"
     ]
    }
   ],
   "source": [
    "from itertools import chain\n",
    "n = int(input(\"Enter number of keys you need: \"))\n",
    "\n",
    "d = dict(input(\"Enter key and value: \").split() for i in range(n))\n",
    "\n",
    "print(d,\" is the original dictionary\")\n",
    "res = list(sorted(set(chain(*d.values()))))\n",
    "print(\"The unique values list is : \", res) "
   ]
  },
  {
   "cell_type": "markdown",
   "id": "5904e715",
   "metadata": {},
   "source": [
    "### 2. Write a Python program to find the sum of all items in a dictionary?"
   ]
  },
  {
   "cell_type": "code",
   "execution_count": 14,
   "id": "c43e0b37",
   "metadata": {},
   "outputs": [
    {
     "name": "stdout",
     "output_type": "stream",
     "text": [
      "Enter number of keys you need: 2\n",
      "Enter key and value: a 10\n",
      "Enter key and value: b 15\n",
      "{'a': '10', 'b': '15'}  is the original dictionary\n",
      "Sum of all elements in dictonary is: 25\n"
     ]
    }
   ],
   "source": [
    "def returnSum(myDict):\n",
    "    list = []\n",
    "    final =0\n",
    "    for i in myDict:\n",
    "        x = myDict[i]\n",
    "        final = final + int(x)\n",
    "        \n",
    "    \n",
    "    return final\n",
    "n = int(input(\"Enter number of keys you need: \"))\n",
    "\n",
    "d = dict(input(\"Enter key and value: \").split() for i in range(n))\n",
    "\n",
    "print(d,\" is the original dictionary\")\n",
    "print(\"Sum of all elements in dictonary is:\", returnSum(d))\n",
    "        "
   ]
  },
  {
   "cell_type": "markdown",
   "id": "4a841b13",
   "metadata": {},
   "source": [
    "### 3. Write a Python program to Merging two Dictionaries?"
   ]
  },
  {
   "cell_type": "code",
   "execution_count": 15,
   "id": "44c3d03f",
   "metadata": {},
   "outputs": [
    {
     "name": "stdout",
     "output_type": "stream",
     "text": [
      "Enter number of keys you need for first dictionary: 2\n",
      "Enter key and value: a 10\n",
      "Enter key and value: b 20\n",
      "Enter number of keys you need for second dictionary: 3\n",
      "Enter key and value: b 10\n",
      "Enter key and value: g 51\n",
      "Enter key and value: f 32\n",
      "the merged format is:  {'a': '10', 'b': '10', 'g': '51', 'f': '32'}\n"
     ]
    }
   ],
   "source": [
    "n = int(input(\"Enter number of keys you need for first dictionary: \"))\n",
    "\n",
    "d1 = dict(input(\"Enter key and value: \").split() for i in range(n))\n",
    "\n",
    "n = int(input(\"Enter number of keys you need for second dictionary: \"))\n",
    "\n",
    "d2 = dict(input(\"Enter key and value: \").split() for i in range(n))\n",
    "\n",
    "print(\"the merged format is: \", d1 | d2)"
   ]
  },
  {
   "cell_type": "markdown",
   "id": "361386eb",
   "metadata": {},
   "source": [
    "### 4. Write a Python program to convert key-values list to flat dictionary?"
   ]
  },
  {
   "cell_type": "code",
   "execution_count": 16,
   "id": "76381f8d",
   "metadata": {},
   "outputs": [
    {
     "name": "stdout",
     "output_type": "stream",
     "text": [
      "The dictionary is : \n",
      "{'month_num': [1, 2, 3, 4, 5, 6], 'name_of_month': ['Jan', 'Feb', 'March', 'Apr', 'May', 'June']}\n",
      "The flattened dictionary is: \n",
      "{1: 'Jan', 2: 'Feb', 3: 'March', 4: 'Apr', 5: 'May', 6: 'June'}\n"
     ]
    }
   ],
   "source": [
    "from itertools import product\n",
    "\n",
    "my_dict = {'month_num' : [1, 2, 3, 4, 5, 6], 'name_of_month' : ['Jan', 'Feb', 'March', 'Apr', 'May', 'June']}\n",
    "\n",
    "print(\"The dictionary is : \")\n",
    "print(my_dict)\n",
    "\n",
    "my_result = dict(zip(my_dict['month_num'], my_dict['name_of_month']))\n",
    "\n",
    "print(\"The flattened dictionary is: \")\n",
    "print(my_result)"
   ]
  },
  {
   "cell_type": "markdown",
   "id": "2794f0b6",
   "metadata": {},
   "source": [
    "### 5. Write a Python program to insertion at the beginning in OrderedDict?"
   ]
  },
  {
   "cell_type": "code",
   "execution_count": 18,
   "id": "1906f01a",
   "metadata": {},
   "outputs": [
    {
     "name": "stdout",
     "output_type": "stream",
     "text": [
      "The dictionary is :\n",
      "OrderedDict([('Will', '1'), ('James', '2'), ('Rob', '4')])\n",
      "The resultant dictionary is : \n",
      "OrderedDict([('Mark', '7'), ('Will', '1'), ('James', '2'), ('Rob', '4')])\n"
     ]
    }
   ],
   "source": [
    "from collections import OrderedDict\n",
    "\n",
    "my_ordered_dict = OrderedDict([('Will', '1'), ('James', '2'), ('Rob', '4')])\n",
    "print(\"The dictionary is :\")\n",
    "print(my_ordered_dict)\n",
    "my_ordered_dict.update({'Mark':'7'})\n",
    "my_ordered_dict.move_to_end('Mark', last = False)\n",
    "\n",
    "print(\"The resultant dictionary is : \")\n",
    "print(my_ordered_dict)"
   ]
  },
  {
   "cell_type": "markdown",
   "id": "e9417a76",
   "metadata": {},
   "source": [
    "### 6. Write a Python program to check order of character in string using OrderedDict()?"
   ]
  },
  {
   "cell_type": "code",
   "execution_count": 20,
   "id": "3f8cedc6",
   "metadata": {},
   "outputs": [
    {
     "name": "stdout",
     "output_type": "stream",
     "text": [
      "The string is \n",
      "Hi Mark\n",
      "The input pattern is \n",
      "Ma\n",
      "The order of pattern is correct\n"
     ]
    }
   ],
   "source": [
    "def check_order(my_input, my_pattern):\n",
    "    \n",
    "    my_dict = OrderedDict.fromkeys(my_input)\n",
    "    pattern_length = 0\n",
    "    for key,value in my_dict.items():\n",
    "        if (key == my_pattern[pattern_length]):\n",
    "            pattern_length = pattern_length + 1\n",
    "        if (pattern_length == (len(my_pattern))):\n",
    "            return 'The order of pattern is correct'\n",
    "    return 'The order of pattern is incorrect'\n",
    "\n",
    "my_input = 'Hi Mark'\n",
    "input_pattern = 'Ma'\n",
    "print(\"The string is \")\n",
    "print(my_input)\n",
    "print(\"The input pattern is \")\n",
    "print(input_pattern)\n",
    "print(check_order(my_input,input_pattern))"
   ]
  },
  {
   "cell_type": "markdown",
   "id": "e68817fc",
   "metadata": {},
   "source": [
    "### 7. Write a Python program to sort Python Dictionaries by Key or Value?"
   ]
  },
  {
   "cell_type": "code",
   "execution_count": 21,
   "id": "858592e9",
   "metadata": {},
   "outputs": [
    {
     "name": "stdout",
     "output_type": "stream",
     "text": [
      "Original dictionary:\n",
      "{'name1': 'Theodore', 'name2': 'Mathew', 'name4': 'Roxanne', 'name3': 'David'}\n",
      "\n",
      "Sort the said dictionary by key (Ascending order):\n",
      "{'name1': 'Theodore', 'name2': 'Mathew', 'name3': 'David', 'name4': 'Roxanne'}\n",
      "\n",
      "Sort the said dictionary by key (Descending order):\n",
      "{'name4': 'Roxanne', 'name3': 'David', 'name2': 'Mathew', 'name1': 'Theodore'}\n"
     ]
    }
   ],
   "source": [
    "def sort_dict_by_key(d, reverse = False):\n",
    "    return dict(sorted(d.items(), reverse = reverse))\n",
    "students = { 'name1': 'Theodore', 'name2': 'Mathew', 'name4': 'Roxanne', 'name3': 'David' }\n",
    "print(\"Original dictionary:\")\n",
    "print(students)\n",
    "print(\"\\nSort the said dictionary by key (Ascending order):\")\n",
    "print(sort_dict_by_key(students))\n",
    "print(\"\\nSort the said dictionary by key (Descending order):\")\n",
    "print(sort_dict_by_key(students, True))\n"
   ]
  },
  {
   "cell_type": "code",
   "execution_count": null,
   "id": "a8665e43",
   "metadata": {},
   "outputs": [],
   "source": []
  }
 ],
 "metadata": {
  "kernelspec": {
   "display_name": "Python 3 (ipykernel)",
   "language": "python",
   "name": "python3"
  },
  "language_info": {
   "codemirror_mode": {
    "name": "ipython",
    "version": 3
   },
   "file_extension": ".py",
   "mimetype": "text/x-python",
   "name": "python",
   "nbconvert_exporter": "python",
   "pygments_lexer": "ipython3",
   "version": "3.9.12"
  }
 },
 "nbformat": 4,
 "nbformat_minor": 5
}
