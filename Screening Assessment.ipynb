{
 "cells": [
  {
   "cell_type": "markdown",
   "id": "d9c1e57f",
   "metadata": {},
   "source": [
    "### 1. Create a function in python to read the text file and replace specific content of the file."
   ]
  },
  {
   "cell_type": "markdown",
   "id": "6659324e",
   "metadata": {},
   "source": [
    "File name :example.txt\n",
    "\n",
    "Origin file content :This is a placement assignment\n",
    "\n",
    "Replace string : Placement should be replaced by screening.\n",
    "\n",
    "Replaced file content :This is a screening assignment"
   ]
  },
  {
   "cell_type": "code",
   "execution_count": 16,
   "id": "f776c6cf",
   "metadata": {},
   "outputs": [],
   "source": [
    "def replacement(f,old,new):\n",
    "    new = f.replace(old,new)\n",
    "    return new\n",
    "   \n",
    "    \n",
    "        \n",
    "         \n",
    "    "
   ]
  },
  {
   "cell_type": "code",
   "execution_count": 25,
   "id": "e55daa29",
   "metadata": {},
   "outputs": [
    {
     "name": "stdout",
     "output_type": "stream",
     "text": [
      "The original text: \t This is Placement Assignment\n",
      "The modified text: \t This is Screening Assignment\n"
     ]
    }
   ],
   "source": [
    "f = open(\"Example.txt\",\"w\")\n",
    "data = \"This is Placement Assignment\"\n",
    "f.write(data)\n",
    "f.close()\n",
    "f = open(\"Example.txt\",\"r+\")\n",
    "content = f.read()\n",
    "print(\"The original text: \\t\",content)\n",
    "f.close()\n",
    "find_text = \"Placement\"\n",
    "fill_text = \"Screening\"\n",
    "new_content= replacement(content,find_text,fill_text)\n",
    "\n",
    "with open(r'Example.txt','w') as file:\n",
    "    file.write(new_content)\n",
    "\n",
    "f = open(\"Example.txt\",\"r+\")\n",
    "content = f.read()\n",
    "print(\"The modified text: \\t\",content)\n",
    "f.close()\n",
    "\n",
    "\n",
    "\n",
    "\n"
   ]
  },
  {
   "cell_type": "markdown",
   "id": "e2a6d48f",
   "metadata": {},
   "source": [
    "### 2. Demonstrate use of abstract class, multiple inheritance and decorator in python using examples."
   ]
  },
  {
   "cell_type": "markdown",
   "id": "a61e5dd1",
   "metadata": {},
   "source": [
    "__abstract class__ : An abstract class/superclass can be considered as a blueprint for other classes. It allows you to create a set of methods that must be created within any child classes built from the abstract class. A class which contains one or more abstract methods is called an abstract class.\n",
    "\n",
    "Whereas an abstract method is a method that has a declaration but does not have an implementation"
   ]
  },
  {
   "cell_type": "code",
   "execution_count": 10,
   "id": "82231959",
   "metadata": {},
   "outputs": [],
   "source": [
    "from abc import ABC, abstractmethod\n",
    "class Polygon(ABC): # Abstract Class\n",
    "    @abstractmethod\n",
    "    def noofsides(self): # Abstract Method\n",
    "        pass\n",
    "class Triangle(Polygon):\n",
    "    def noofsides(self):  # overriding abstract method in child class Triangle\n",
    "        print(\"I have 3 sides\")\n",
    "class Pentagon(Polygon):\n",
    "    def noofsides(self): # overriding abstract method in child class Pentagon\n",
    "        print(\"I have 5 sides\")"
   ]
  },
  {
   "cell_type": "markdown",
   "id": "4b6b739b",
   "metadata": {},
   "source": [
    "__multiple inheritence__: Inheritence means reusing the code of Parent class by the child class. Similary when a child class inherits its properties from multiple Parent classes this scenario is called Multiple Inheritence"
   ]
  },
  {
   "cell_type": "code",
   "execution_count": 11,
   "id": "be6a02b8",
   "metadata": {},
   "outputs": [],
   "source": [
    "class first:\n",
    "    pass\n",
    "class second:\n",
    "    pass\n",
    "class child(first,second):\n",
    "    pass"
   ]
  },
  {
   "cell_type": "markdown",
   "id": "b1af84b5",
   "metadata": {},
   "source": [
    "__Decorator__: In Decorators, functions are passed as an argument into another function and then called inside the wrapper function.\n",
    "\n",
    "Consider the below code,"
   ]
  },
  {
   "cell_type": "markdown",
   "id": "5b4e8f0f",
   "metadata": {},
   "source": [
    "you could see func1 is declared and we passed hii as argument first, just like a default. \n",
    "\n",
    "Then we assigned func1 as argument to func2 and then without calling func1, we passed argument and made the work how declared function works.\n",
    "    "
   ]
  },
  {
   "cell_type": "code",
   "execution_count": 14,
   "id": "930e4b1b",
   "metadata": {},
   "outputs": [
    {
     "name": "stdout",
     "output_type": "stream",
     "text": [
      "Hii\n",
      "Hii\n"
     ]
    }
   ],
   "source": [
    "def func1(msg):  \n",
    "    print(msg)  \n",
    "func1(\"Hii\")  \n",
    "func2 = func1  \n",
    "func2(\"Hii\")  "
   ]
  },
  {
   "cell_type": "code",
   "execution_count": null,
   "id": "6bdd700f",
   "metadata": {},
   "outputs": [],
   "source": []
  }
 ],
 "metadata": {
  "kernelspec": {
   "display_name": "Python 3 (ipykernel)",
   "language": "python",
   "name": "python3"
  },
  "language_info": {
   "codemirror_mode": {
    "name": "ipython",
    "version": 3
   },
   "file_extension": ".py",
   "mimetype": "text/x-python",
   "name": "python",
   "nbconvert_exporter": "python",
   "pygments_lexer": "ipython3",
   "version": "3.9.12"
  }
 },
 "nbformat": 4,
 "nbformat_minor": 5
}
