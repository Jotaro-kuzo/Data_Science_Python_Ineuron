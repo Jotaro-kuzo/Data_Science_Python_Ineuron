{
 "cells": [
  {
   "cell_type": "markdown",
   "id": "c509ab1d",
   "metadata": {},
   "source": [
    "### Define a class with a generator which can iterate the numbers, which are divisible by 7, between a given range 0 and n."
   ]
  },
  {
   "cell_type": "code",
   "execution_count": 14,
   "id": "1fc71f78",
   "metadata": {},
   "outputs": [
    {
     "name": "stdout",
     "output_type": "stream",
     "text": [
      "0\n",
      "7\n",
      "14\n",
      "21\n",
      "28\n",
      "35\n",
      "42\n",
      "49\n",
      "56\n",
      "63\n",
      "70\n",
      "77\n",
      "84\n",
      "91\n",
      "98\n"
     ]
    }
   ],
   "source": [
    "def number_checker(n):\n",
    " \n",
    "    i = 0\n",
    " \n",
    "    while i<n:\n",
    " \n",
    "        j=i\n",
    " \n",
    "        i=i+1\n",
    " \n",
    "        if j%7==0:\n",
    " \n",
    "            yield j\n",
    " \n",
    " \n",
    "for i in number_checker(100):\n",
    " \n",
    "    print (i)"
   ]
  },
  {
   "cell_type": "markdown",
   "id": "a339cb00",
   "metadata": {},
   "source": [
    "### Write a program to compute the frequency of the words from the input. The output should output after sorting the key alphanumerically."
   ]
  },
  {
   "cell_type": "code",
   "execution_count": 16,
   "id": "abaec953",
   "metadata": {},
   "outputs": [
    {
     "name": "stdout",
     "output_type": "stream",
     "text": [
      "Enter the string:New to Python or choosing between Python 2 and Python 3? Read Python 2 or Python 3\n",
      "[('2', 2), ('3', 1), ('3?', 1), ('New', 1), ('Python', 5), ('Read', 1), ('and', 1), ('between', 1), ('choosing', 1), ('or', 2), ('to', 1)]\n"
     ]
    }
   ],
   "source": [
    "d=dict()\n",
    "s=input(\"Enter the string:\")\n",
    "for i in s.split():\n",
    "    d[i]=d.get(i,0)+1\n",
    "print(sorted(d.items()))"
   ]
  },
  {
   "cell_type": "markdown",
   "id": "993900c9",
   "metadata": {},
   "source": [
    "### Define a class Person and its two child classes: Male and Female. All classes have a method \"getGender\" which can print \"Male\" for Male class and \"Female\" for Female class."
   ]
  },
  {
   "cell_type": "code",
   "execution_count": 6,
   "id": "0bc0c62f",
   "metadata": {},
   "outputs": [
    {
     "name": "stdout",
     "output_type": "stream",
     "text": [
      "Female\n",
      "Male\n"
     ]
    }
   ],
   "source": [
    "class Person(object):\n",
    "    def __init__(self):\n",
    "        self.gender = \"unknown\"\n",
    "\n",
    "    def getGender(self):\n",
    "        print(self.gender)\n",
    "\n",
    "class Male(Person):\n",
    "    def __init__(self):\n",
    "        self.gender = \"Male\"\n",
    "\n",
    "class Female(Person):\n",
    "    def __init__(self):\n",
    "        self.gender = \"Female\"\n",
    "\n",
    "sharon = Female()\n",
    "doug = Male()\n",
    "sharon.getGender()\n",
    "doug.getGender()"
   ]
  },
  {
   "cell_type": "markdown",
   "id": "63428bde",
   "metadata": {},
   "source": [
    "### Please write a program to generate all sentences where subject is in [&quot;I&quot;, &quot;You&quot;] andverb is in [&quot;Play&quot;, &quot;Love&quot;] and the object is in [&quot;Hockey&quot;,&quot;Football&quot;]."
   ]
  },
  {
   "cell_type": "code",
   "execution_count": 7,
   "id": "0f7b88c3",
   "metadata": {},
   "outputs": [
    {
     "name": "stdout",
     "output_type": "stream",
     "text": [
      "I Play Hockey\n",
      "I Play Football\n",
      "I Love Hockey\n",
      "I Love Football\n",
      "You Play Hockey\n",
      "You Play Football\n",
      "You Love Hockey\n",
      "You Love Football\n"
     ]
    }
   ],
   "source": [
    "subject=[\"I\", \"You\"]\n",
    "verb=[\"Play\", \"Love\"]\n",
    "obj=[\"Hockey\",\"Football\"]\n",
    "\n",
    "\n",
    "sentence_list = [(sub+\" \"+ vb + \" \" + ob) for sub in subject for vb in verb for ob in obj]\n",
    "for sentence in sentence_list:\n",
    "    print (sentence)"
   ]
  },
  {
   "cell_type": "markdown",
   "id": "aadd611e",
   "metadata": {},
   "source": [
    "### Please write a program to compress and decompress the string \"hello world!helloworld!hello world!hello world!\"\"."
   ]
  },
  {
   "cell_type": "code",
   "execution_count": 8,
   "id": "40d590d6",
   "metadata": {},
   "outputs": [],
   "source": [
    "import zlib"
   ]
  },
  {
   "cell_type": "code",
   "execution_count": 9,
   "id": "53bcfb7d",
   "metadata": {},
   "outputs": [
    {
     "name": "stdout",
     "output_type": "stream",
     "text": [
      "b'x\\x9c\\xcbH\\xcd\\xc9\\xc9W(\\xcf/\\xcaIQ\\xcc \\x82\\r\\x00\\xbd[\\x11\\xf5'\n",
      "b'hello world!hello world!hello world!hello world!'\n"
     ]
    }
   ],
   "source": [
    "\n",
    "s = 'hello world!hello world!hello world!hello world!'\n",
    "# In Python 3 zlib.compress() accepts only DataType <bytes>\n",
    "y = bytes(s, 'utf-8')\n",
    "x = zlib.compress(y)\n",
    "print(x)\n",
    "print(zlib.decompress(x))"
   ]
  },
  {
   "cell_type": "markdown",
   "id": "bd6ade6a",
   "metadata": {},
   "source": [
    "### Please write a binary search function which searches an item in a sorted list. The function should return the index of element to be searched in the list."
   ]
  },
  {
   "cell_type": "code",
   "execution_count": 12,
   "id": "4e89623d",
   "metadata": {},
   "outputs": [
    {
     "name": "stdout",
     "output_type": "stream",
     "text": [
      "4  is index\n",
      "position is  5\n"
     ]
    }
   ],
   "source": [
    "def binary_search(lst, item):\n",
    "    low = 0\n",
    "    high = len(lst) - 1\n",
    "    \n",
    "    while low <= high:\n",
    "        mid = round((low + high) / 2)\n",
    "        \n",
    "        if lst[mid] == item:\n",
    "            return mid\n",
    "        elif lst[mid] > item:\n",
    "            high = mid - 1\n",
    "        else:\n",
    "            low = mid + 1\n",
    "    return None\n",
    "    \n",
    "lst = [1,3,5,7,9,10,15,18]\n",
    "p = binary_search(lst, 9)\n",
    "print(p,\" is index\") \n",
    "print(\"position is \",p+1 )"
   ]
  },
  {
   "cell_type": "code",
   "execution_count": null,
   "id": "8d988a71",
   "metadata": {},
   "outputs": [],
   "source": []
  }
 ],
 "metadata": {
  "kernelspec": {
   "display_name": "Python 3 (ipykernel)",
   "language": "python",
   "name": "python3"
  },
  "language_info": {
   "codemirror_mode": {
    "name": "ipython",
    "version": 3
   },
   "file_extension": ".py",
   "mimetype": "text/x-python",
   "name": "python",
   "nbconvert_exporter": "python",
   "pygments_lexer": "ipython3",
   "version": "3.9.12"
  }
 },
 "nbformat": 4,
 "nbformat_minor": 5
}
