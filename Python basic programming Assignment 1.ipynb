{
 "cells": [
  {
   "cell_type": "markdown",
   "id": "acdde704",
   "metadata": {},
   "source": [
    "### 1. Write a Python program to print \"Hello Python\"?"
   ]
  },
  {
   "cell_type": "code",
   "execution_count": 16,
   "id": "ec24c48c",
   "metadata": {},
   "outputs": [
    {
     "name": "stdout",
     "output_type": "stream",
     "text": [
      "Hello Python\n"
     ]
    }
   ],
   "source": [
    "print(f\"Hello Python\")"
   ]
  },
  {
   "cell_type": "markdown",
   "id": "2a2a1a76",
   "metadata": {},
   "source": [
    "### 2.Write a Python program to do arithmetical operations addition and division.?"
   ]
  },
  {
   "cell_type": "code",
   "execution_count": 17,
   "id": "8a8c87ee",
   "metadata": {},
   "outputs": [
    {
     "name": "stdout",
     "output_type": "stream",
     "text": [
      "Enter two values: 2 5\n",
      "the sum and division of two values 2 and 5 are 7.0 and 0.4\n"
     ]
    }
   ],
   "source": [
    "\n",
    "x, y = input(\"Enter two values: \").split()\n",
    "add = float(x) + float(y)\n",
    "division = float(x)/float(y)\n",
    "print(\"the sum and division of two values \"+x+\" and \"+y+\" are \" + str(add) + \" and \"+str(division))"
   ]
  },
  {
   "cell_type": "markdown",
   "id": "61f7584c",
   "metadata": {},
   "source": [
    "### 3. Write a Python program to find the area of a triangle?"
   ]
  },
  {
   "cell_type": "code",
   "execution_count": 21,
   "id": "b6e0d3be",
   "metadata": {},
   "outputs": [
    {
     "name": "stdout",
     "output_type": "stream",
     "text": [
      "Please select one from given below cases \n",
      "\n",
      "1. Area from base and height of trinagle \n",
      "\n",
      "2. Area from sides of triangle \n",
      "\n",
      "2\n",
      "\n",
      " please provide 3 sides of triangle6 8 9\n",
      "\n",
      " Area of triangle as given parameters is : 23.525252389719434\n"
     ]
    }
   ],
   "source": [
    "import math\n",
    "print(\"Please select one from given below cases \\n\")\n",
    "print(\"1. Area from base and height of trinagle \\n\")\n",
    "print(\"2. Area from sides of triangle \\n\")\n",
    "\n",
    "option = int(input())\n",
    "if option == 1:\n",
    "    b,h = input(\"please provide base and height of triangle \\n\").split()\n",
    "    area = 0.5*float(b)*float(h)\n",
    "    print(\"Area of triangle as given parameters is : \"+ str(area))\n",
    "elif option == 2:\n",
    "    a,b,c = input(\"\\n please provide 3 sides of triangle\").split()\n",
    "    s = (float(a)+float(b)+float(c))/2\n",
    "    area_square = float(s)*(float(s)-float(a))*(float(s)-float(b))*(float(s)-float(c))\n",
    "    area = math.sqrt(float(area_square))\n",
    "    print(\"\\n Area of triangle as given parameters is : \"+str(area))\n",
    "else:\n",
    "    print(\"you selected unknown option\")\n",
    "        \n",
    "    \n",
    "\n",
    "    "
   ]
  },
  {
   "cell_type": "markdown",
   "id": "450823be",
   "metadata": {},
   "source": [
    "### 4. Write a Python program to swap two variables?"
   ]
  },
  {
   "cell_type": "code",
   "execution_count": 22,
   "id": "45f9a1bf",
   "metadata": {},
   "outputs": [
    {
     "name": "stdout",
     "output_type": "stream",
     "text": [
      "enter first variable2\n",
      "enter second variabe3\n",
      " the numbers before swapping are :2\t3\n",
      "\n",
      " the numbers before swapping are :3\t2\n"
     ]
    }
   ],
   "source": [
    "a = int(input(\"enter first variable\"))\n",
    "b = int(input(\"enter second variabe\"))\n",
    "print(\" the numbers before swapping are :\" + str(a) + \"\\t\"+ str(b))\n",
    "c = a\n",
    "a=b\n",
    "b=c\n",
    "print(\"\\n the numbers before swapping are :\" + str(a) + \"\\t\"+ str(b))\n",
    "      "
   ]
  },
  {
   "cell_type": "markdown",
   "id": "0819fa89",
   "metadata": {},
   "source": [
    "### 5. Write a Python program to generate a random number?"
   ]
  },
  {
   "cell_type": "code",
   "execution_count": 26,
   "id": "25c33ac9",
   "metadata": {},
   "outputs": [
    {
     "name": "stdout",
     "output_type": "stream",
     "text": [
      "0.08317778385130703\n"
     ]
    }
   ],
   "source": [
    "import random\n",
    "a = random.random()\n",
    "print(a)"
   ]
  },
  {
   "cell_type": "code",
   "execution_count": null,
   "id": "c5de5025",
   "metadata": {},
   "outputs": [],
   "source": []
  }
 ],
 "metadata": {
  "kernelspec": {
   "display_name": "Python 3 (ipykernel)",
   "language": "python",
   "name": "python3"
  },
  "language_info": {
   "codemirror_mode": {
    "name": "ipython",
    "version": 3
   },
   "file_extension": ".py",
   "mimetype": "text/x-python",
   "name": "python",
   "nbconvert_exporter": "python",
   "pygments_lexer": "ipython3",
   "version": "3.9.12"
  }
 },
 "nbformat": 4,
 "nbformat_minor": 5
}
