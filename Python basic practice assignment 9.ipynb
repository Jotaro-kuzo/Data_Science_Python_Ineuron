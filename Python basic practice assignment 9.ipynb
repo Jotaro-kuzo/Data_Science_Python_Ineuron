{
 "cells": [
  {
   "cell_type": "markdown",
   "id": "9f014ec2",
   "metadata": {},
   "source": [
    "### 1. Write a Python program to check if the given number is a Disarium Number?"
   ]
  },
  {
   "cell_type": "code",
   "execution_count": 8,
   "id": "a208a2fb",
   "metadata": {},
   "outputs": [
    {
     "name": "stdout",
     "output_type": "stream",
     "text": [
      "enter a natural number: 175\n",
      "The number is Disarium\n"
     ]
    }
   ],
   "source": [
    "def length_finder(n):\n",
    "    l=0\n",
    "    while(n!=0):\n",
    "        l+=1\n",
    "        n=n//10\n",
    "    return l\n",
    "\n",
    "n = int(input(\"enter a natural number: \"))\n",
    "l = length_finder(n)\n",
    "sum = 0\n",
    "rem = 0\n",
    "number = n\n",
    "while(n>0):\n",
    "    rem = n%10\n",
    "    sum += (rem**l)\n",
    "    l -=1\n",
    "    n = n//10\n",
    "\n",
    "if(sum == number):\n",
    "    print(\"The number is Disarium\")\n",
    "else:\n",
    "    print(\"The number is not Disarium\")"
   ]
  },
  {
   "cell_type": "markdown",
   "id": "8007f7b6",
   "metadata": {},
   "source": [
    "### 2. Write a Python program to print all disarium numbers between 1 to 100?"
   ]
  },
  {
   "cell_type": "code",
   "execution_count": 9,
   "id": "0abbeebb",
   "metadata": {},
   "outputs": [
    {
     "name": "stdout",
     "output_type": "stream",
     "text": [
      "1 2 3 4 5 6 7 8 9 89 "
     ]
    }
   ],
   "source": [
    "for i in range(1,100):\n",
    "    n = i\n",
    "    l = length_finder(n)\n",
    "    sum = 0\n",
    "    rem = 0\n",
    "    number = n\n",
    "    while(n>0):\n",
    "        rem = n%10\n",
    "        sum += (rem**l)\n",
    "        l -=1\n",
    "        n = n//10\n",
    "    if(sum == number):\n",
    "        print(number , end =\" \")\n",
    "    "
   ]
  },
  {
   "cell_type": "markdown",
   "id": "31146312",
   "metadata": {},
   "source": [
    "### 3. Write a Python program to check if the given number is Happy Number?"
   ]
  },
  {
   "cell_type": "code",
   "execution_count": 12,
   "id": "b312e364",
   "metadata": {},
   "outputs": [
    {
     "name": "stdout",
     "output_type": "stream",
     "text": [
      "Enter a integer: 82\n",
      "82 is a happy number\n"
     ]
    }
   ],
   "source": [
    "def isHappyNumber(num):\n",
    "    \n",
    "    rem = sum = 0 \n",
    "    while(num > 0): \n",
    "        rem = num%10;    \n",
    "        sum = sum + (rem*rem)    \n",
    "        num = num//10    \n",
    "    return sum    \n",
    "num = int(input(\"Enter a integer: \"))\n",
    "result = num\n",
    "while(result != 1 and result != 4): \n",
    "    result = isHappyNumber(result)\n",
    "if(result == 1): \n",
    "    print(str(num) + \" is a happy number\")\n",
    "elif(result == 4):\n",
    "    print(str(num) + \" is not a happy number\")"
   ]
  },
  {
   "cell_type": "markdown",
   "id": "59621a79",
   "metadata": {},
   "source": [
    "### 4. Write a Python program to print all happy numbers between 1 and 100?"
   ]
  },
  {
   "cell_type": "code",
   "execution_count": 16,
   "id": "7abfaf01",
   "metadata": {},
   "outputs": [
    {
     "name": "stdout",
     "output_type": "stream",
     "text": [
      "1 7 10 13 19 23 28 31 32 44 49 68 70 79 82 86 91 94 97 100 "
     ]
    }
   ],
   "source": [
    "for i in range(1,101):\n",
    "    num = i    \n",
    "    result = num\n",
    "    while(result != 1 and result != 4): \n",
    "        result = isHappyNumber(result)\n",
    "    if(result == 1): \n",
    "        print(num, end=\" \")\n",
    "    "
   ]
  },
  {
   "cell_type": "markdown",
   "id": "e1d8e5b3",
   "metadata": {},
   "source": [
    "### 5. Write a Python program to determine whether the given number is a Harshad Number?"
   ]
  },
  {
   "cell_type": "code",
   "execution_count": 19,
   "id": "cab970ab",
   "metadata": {},
   "outputs": [
    {
     "name": "stdout",
     "output_type": "stream",
     "text": [
      "Enter a number: 156\n",
      "Its a Harshad number\n"
     ]
    }
   ],
   "source": [
    "num = int(input(\"Enter a number: \"))\n",
    "sum=res=0\n",
    "n = num\n",
    "while(num>0):\n",
    "    res = num%10\n",
    "    sum +=res\n",
    "    num = num//10\n",
    "if(n%sum == 0):\n",
    "    print(\"Its a Harshad number\")\n",
    "else:\n",
    "    print(\"Its not harshad number\")"
   ]
  },
  {
   "cell_type": "markdown",
   "id": "a3404129",
   "metadata": {},
   "source": [
    "### 6. Write a Python program to print all pronic numbers between 1 and 100?"
   ]
  },
  {
   "cell_type": "code",
   "execution_count": 24,
   "id": "eb4b53ad",
   "metadata": {},
   "outputs": [
    {
     "name": "stdout",
     "output_type": "stream",
     "text": [
      "Th pronic  numbers between 1 and 100 are:\n",
      "6 12 20 30 42 56 72 90 "
     ]
    }
   ],
   "source": [
    "def pronic(n):\n",
    "    flag = False\n",
    "    l = n//2\n",
    "    for j in range(1,l):\n",
    "        if(j*(j+1) == n):\n",
    "            flag = True\n",
    "            break\n",
    "    return flag\n",
    "print(\"Th pronic  numbers between 1 and 100 are:\")\n",
    "for i in range(1,101):\n",
    "    if(pronic(i)):\n",
    "        print(i,end=\" \")"
   ]
  },
  {
   "cell_type": "code",
   "execution_count": null,
   "id": "0b582697",
   "metadata": {},
   "outputs": [],
   "source": []
  }
 ],
 "metadata": {
  "kernelspec": {
   "display_name": "Python 3 (ipykernel)",
   "language": "python",
   "name": "python3"
  },
  "language_info": {
   "codemirror_mode": {
    "name": "ipython",
    "version": 3
   },
   "file_extension": ".py",
   "mimetype": "text/x-python",
   "name": "python",
   "nbconvert_exporter": "python",
   "pygments_lexer": "ipython3",
   "version": "3.9.12"
  }
 },
 "nbformat": 4,
 "nbformat_minor": 5
}
