{
 "cells": [
  {
   "cell_type": "markdown",
   "id": "bc57fdb4",
   "metadata": {},
   "source": [
    "### 1. Write a Python Program to Find the Factorial of a Number?"
   ]
  },
  {
   "cell_type": "code",
   "execution_count": 7,
   "id": "ca45f543",
   "metadata": {},
   "outputs": [
    {
     "name": "stdout",
     "output_type": "stream",
     "text": [
      "Enter a positive real number \n",
      " 5\n",
      "The factorial of 5  is:  120\n"
     ]
    }
   ],
   "source": [
    "\n",
    "def factorial(a):\n",
    "    if a == 1:\n",
    "        return 1\n",
    "    return(a * fact(a-1))\n",
    "\n",
    "a = int(input(\"Enter a positive real number \\n \"))\n",
    "result = factorial(a)\n",
    "print(\"The factorial of\", a , \" is: \", result)\n"
   ]
  },
  {
   "cell_type": "markdown",
   "id": "fad98177",
   "metadata": {},
   "source": [
    "### 2. Write a Python Program to Display the multiplication Table?"
   ]
  },
  {
   "cell_type": "code",
   "execution_count": 11,
   "id": "fd08eaeb",
   "metadata": {},
   "outputs": [
    {
     "name": "stdout",
     "output_type": "stream",
     "text": [
      "Enter the multiplication table number:  \n",
      "7\n",
      "Enter the boundary limit for multiplication  \n",
      " 7\n",
      "7 x 1 = 7\n",
      "7 x 2 = 14\n",
      "7 x 3 = 21\n",
      "7 x 4 = 28\n",
      "7 x 5 = 35\n",
      "7 x 6 = 42\n",
      "7 x 7 = 49\n"
     ]
    }
   ],
   "source": [
    "x = int(input(\"Enter the multiplication table number:  \\n\"))\n",
    "limit = int(input(\"Enter the boundary limit for multiplication  \\n \"))\n",
    "for i in range(1, limit +1):\n",
    "   print(x, 'x', i, '=', x*i)"
   ]
  },
  {
   "cell_type": "markdown",
   "id": "ad568b4c",
   "metadata": {},
   "source": [
    "### 3. Write a Python Program to Print the Fibonacci sequence?"
   ]
  },
  {
   "cell_type": "code",
   "execution_count": 31,
   "id": "14f340a0",
   "metadata": {},
   "outputs": [
    {
     "name": "stdout",
     "output_type": "stream",
     "text": [
      "Enter the fibonacci sequence limit: 5\n",
      "The fibonacci sequence is : \n",
      "\n",
      "0 1 1 2 3 None\n"
     ]
    }
   ],
   "source": [
    "def Fibonacci(n):\n",
    "    first = 0\n",
    "    second = 1\n",
    "    print(first, second , end = \" \" )\n",
    "    n -= 2\n",
    "    while n > 0:\n",
    "        print(first + second, end=\" \")\n",
    "        temp = second\n",
    "        second = first + second\n",
    "        first = temp\n",
    "        n -= 1\n",
    "\n",
    "        \n",
    "x = int(input(\"Enter the fibonacci sequence limit: \"))\n",
    "print(\"The fibonacci sequence is : \\n\")\n",
    "print(Fibonacci(x))"
   ]
  },
  {
   "cell_type": "markdown",
   "id": "c2fc5250",
   "metadata": {},
   "source": [
    "### 4. Write a Python Program to Check Armstrong Number?"
   ]
  },
  {
   "cell_type": "code",
   "execution_count": 25,
   "id": "144ddcd3",
   "metadata": {},
   "outputs": [
    {
     "name": "stdout",
     "output_type": "stream",
     "text": [
      "Enter a real number153\n",
      "The given number 153 is Armstrong Number\n"
     ]
    }
   ],
   "source": [
    "number = int(input(\"Enter a real number\"))\n",
    "l = len(str(number))\n",
    "temp = number\n",
    "sum_ = 0\n",
    "while temp!=0:\n",
    "    #get the last digit in the number\n",
    "    k = temp%10 \n",
    "    #find k^m\n",
    "    sum_ +=k**l\n",
    "    temp = temp//10 \n",
    "if  sum_ == number:\n",
    "    print('The given number', number ,'is Armstrong Number')\n",
    "else:\n",
    "    print('The given number', number ,'is not an Armstrong Number')"
   ]
  },
  {
   "cell_type": "markdown",
   "id": "140e97b1",
   "metadata": {},
   "source": [
    "### 5. Write a Python Program to Find Armstrong Number in an Interval?"
   ]
  },
  {
   "cell_type": "code",
   "execution_count": 27,
   "id": "711c8a98",
   "metadata": {},
   "outputs": [
    {
     "name": "stdout",
     "output_type": "stream",
     "text": [
      "Enter the lower limit: 1\n",
      "\n",
      " Enter the upper limit: 200\n",
      "1 2 3 4 5 6 7 8 9 153 "
     ]
    }
   ],
   "source": [
    "lower = int(input(\"Enter the lower limit: \"))\n",
    "upper = int(input(\"\\n Enter the upper limit: \"))\n",
    "for i in range (lower, upper+1):\n",
    "    number = i\n",
    "    l = len(str(number))\n",
    "    temp = number\n",
    "    sum_ = 0\n",
    "    while temp!=0:\n",
    "    #get the last digit in the number\n",
    "        k = temp%10 \n",
    "    #find k^m\n",
    "        sum_ +=k**l\n",
    "        temp = temp//10 \n",
    "    if  sum_ == number:\n",
    "        print(i , end = \" \")"
   ]
  },
  {
   "cell_type": "markdown",
   "id": "b05638e4",
   "metadata": {},
   "source": [
    "### 6. Write a Python Program to Find the Sum of Natural Numbers?"
   ]
  },
  {
   "cell_type": "code",
   "execution_count": 30,
   "id": "abceb964",
   "metadata": {},
   "outputs": [
    {
     "name": "stdout",
     "output_type": "stream",
     "text": [
      "Enter the upper limit of natural number to sum up: 10\n",
      "55\n"
     ]
    }
   ],
   "source": [
    "number = int(input(\"Enter the upper limit of natural number to sum up: \"))\n",
    "sum = number*(number+1)/2\n",
    "print(\"%0.0f\" %(sum))"
   ]
  },
  {
   "cell_type": "code",
   "execution_count": null,
   "id": "e9a7c2f2",
   "metadata": {},
   "outputs": [],
   "source": []
  }
 ],
 "metadata": {
  "kernelspec": {
   "display_name": "Python 3 (ipykernel)",
   "language": "python",
   "name": "python3"
  },
  "language_info": {
   "codemirror_mode": {
    "name": "ipython",
    "version": 3
   },
   "file_extension": ".py",
   "mimetype": "text/x-python",
   "name": "python",
   "nbconvert_exporter": "python",
   "pygments_lexer": "ipython3",
   "version": "3.9.12"
  }
 },
 "nbformat": 4,
 "nbformat_minor": 5
}
