{
 "cells": [
  {
   "cell_type": "markdown",
   "id": "d417ec16",
   "metadata": {},
   "source": [
    "### Create a function that takes a list of non-negative integers and strings and return a new list without the strings."
   ]
  },
  {
   "cell_type": "code",
   "execution_count": 11,
   "id": "c9813b2b",
   "metadata": {},
   "outputs": [
    {
     "name": "stdout",
     "output_type": "stream",
     "text": [
      "ENter the number of elements in list: 4\n",
      "1\n",
      "2\n",
      "3\n",
      "str\n",
      "['1', '2', '3', 'str']\n",
      "['1', '2', '3']\n"
     ]
    }
   ],
   "source": [
    "def filter_list(l):\n",
    "    new_list = []\n",
    "    for x in l:\n",
    "        try:\n",
    "            if int(x)/1:\n",
    "                new_list.append(x)\n",
    "        except:\n",
    "            pass\n",
    "    return new_list\n",
    "\n",
    "l = []\n",
    "n = int(input(\"ENter the number of elements in list: \"))\n",
    "for i in range(0,n):\n",
    "    x = input()\n",
    "    l.append(x)\n",
    "print(l)\n",
    "print(filter_list(l))"
   ]
  },
  {
   "cell_type": "markdown",
   "id": "4e15941d",
   "metadata": {},
   "source": [
    "### The &quot;Reverser&quot; takes a string as input and returns that string in reverse order, with the opposite case."
   ]
  },
  {
   "cell_type": "code",
   "execution_count": 28,
   "id": "8cd76b84",
   "metadata": {},
   "outputs": [
    {
     "name": "stdout",
     "output_type": "stream",
     "text": [
      "enter the string: Apple\n",
      "E L P P a\n"
     ]
    }
   ],
   "source": [
    "def Reverser(s):\n",
    "    l = []\n",
    "    for i in s:\n",
    "        if i.isupper():\n",
    "            l.append(i.lower())\n",
    "        else:\n",
    "            l.append(i.upper())\n",
    "    return l[::-1]\n",
    "\n",
    "s = input(\"enter the string: \")\n",
    "print(*Reverser(s),end=None)"
   ]
  },
  {
   "cell_type": "markdown",
   "id": "ce840414",
   "metadata": {},
   "source": [
    "### Your task is to unpack the list writeyourcodehere into three variables, being first, middle, and last, with middle being everything in between the first and last element. Then print all three variables."
   ]
  },
  {
   "cell_type": "code",
   "execution_count": 32,
   "id": "ce2bcdd1",
   "metadata": {},
   "outputs": [
    {
     "name": "stdout",
     "output_type": "stream",
     "text": [
      "ENter the number of elements in list: 5\n",
      "1\n",
      "2\n",
      "3\n",
      "4\n",
      "5\n",
      "['1', '2', '3', '4', '5']\n",
      "first : 1 \n",
      " last:  5 \n",
      " and middle:  ['2', '3', '4']\n"
     ]
    }
   ],
   "source": [
    "l = []\n",
    "n = int(input(\"ENter the number of elements in list: \"))\n",
    "for i in range(0,n):\n",
    "    x = input()\n",
    "    l.append(x)\n",
    "print(l)\n",
    "f = l[0]\n",
    "lst = l[-1]\n",
    "m = l[1:n-1]\n",
    "print(\"first :\",f,\"\\n last: \",lst,\"\\n and middle: \",m)"
   ]
  },
  {
   "cell_type": "markdown",
   "id": "a4fd232b",
   "metadata": {},
   "source": [
    "### Write a function that calculates the factorial of a number recursively.\n"
   ]
  },
  {
   "cell_type": "code",
   "execution_count": 34,
   "id": "a137e7c0",
   "metadata": {},
   "outputs": [
    {
     "name": "stdout",
     "output_type": "stream",
     "text": [
      "enter the number: 5\n",
      "120\n"
     ]
    }
   ],
   "source": [
    "def fact(n):\n",
    "    if n==1:\n",
    "        return 1\n",
    "    else:\n",
    "        return (n*fact(n-1))\n",
    "\n",
    "num = int(input(\"enter the number: \"))\n",
    "print(fact((num)))"
   ]
  },
  {
   "cell_type": "markdown",
   "id": "7ed1da1f",
   "metadata": {},
   "source": [
    "### Write a function that moves all elements of one type to the end of the list."
   ]
  },
  {
   "cell_type": "code",
   "execution_count": 35,
   "id": "d5bc3c24",
   "metadata": {},
   "outputs": [
    {
     "name": "stdout",
     "output_type": "stream",
     "text": [
      "ENter the number of elements in list: 5\n",
      "1\n",
      "2\n",
      "3\n",
      "4\n",
      "5\n",
      "enter the key you need at end: 3\n",
      "['1', '2', '3', '4', '5']  is the original list\n",
      "the modified list is:  ['1', '2', '4', '5', '3']\n"
     ]
    }
   ],
   "source": [
    "l = []\n",
    "n = int(input(\"ENter the number of elements in list: \"))\n",
    "for i in range(0,n):\n",
    "    x = input()\n",
    "    l.append(x)\n",
    "k = input(\"enter the key you need at end: \")\n",
    "print(l , \" is the original list\")\n",
    "\n",
    "\n",
    "l.sort(key = k.__eq__)\n",
    "print(\"the modified list is: \", l)"
   ]
  },
  {
   "cell_type": "code",
   "execution_count": null,
   "id": "804fdeab",
   "metadata": {},
   "outputs": [],
   "source": []
  }
 ],
 "metadata": {
  "kernelspec": {
   "display_name": "Python 3 (ipykernel)",
   "language": "python",
   "name": "python3"
  },
  "language_info": {
   "codemirror_mode": {
    "name": "ipython",
    "version": 3
   },
   "file_extension": ".py",
   "mimetype": "text/x-python",
   "name": "python",
   "nbconvert_exporter": "python",
   "pygments_lexer": "ipython3",
   "version": "3.9.12"
  }
 },
 "nbformat": 4,
 "nbformat_minor": 5
}
