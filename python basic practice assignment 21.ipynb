{
 "cells": [
  {
   "cell_type": "markdown",
   "id": "de149ec7",
   "metadata": {},
   "source": [
    "### cWrite a function that takes a list and a number as arguments. Add the number to the end of the list, then remove the first element of the list. The function should then return the updated list."
   ]
  },
  {
   "cell_type": "code",
   "execution_count": 1,
   "id": "257f8550",
   "metadata": {},
   "outputs": [
    {
     "name": "stdout",
     "output_type": "stream",
     "text": [
      "enter the number of characters in list: 5\n",
      "enter the values: \n",
      "1\n",
      "2\n",
      "3\n",
      "4\n",
      "5\n",
      "enter the number u needs to add at last: 6\n",
      "the original list:  [1, 2, 3, 4, 5]\n",
      "the modified list:  [2, 3, 4, 5, 6]\n"
     ]
    }
   ],
   "source": [
    "def mod(l,k):\n",
    "    l.append(k)\n",
    "    return l[1:]\n",
    "\n",
    "l=[]\n",
    "n= int(input(\"enter the number of characters in list: \"))\n",
    "print(\"enter the values: \")\n",
    "for i in range (0,n):\n",
    "    x= int(input())\n",
    "    l.append(x)\n",
    "k = int(input(\"enter the number u needs to add at last: \"))\n",
    "print(\"the original list: \",l)\n",
    "print(\"the modified list: \", mod(l,k))"
   ]
  },
  {
   "cell_type": "markdown",
   "id": "d3edca78",
   "metadata": {},
   "source": []
  },
  {
   "cell_type": "code",
   "execution_count": null,
   "id": "f380a222",
   "metadata": {},
   "outputs": [],
   "source": []
  },
  {
   "cell_type": "markdown",
   "id": "138bacec",
   "metadata": {},
   "source": [
    "### Create a function that takes a string and returns a string with its letters in alphabetical order."
   ]
  },
  {
   "cell_type": "code",
   "execution_count": 9,
   "id": "4a955ce3",
   "metadata": {},
   "outputs": [
    {
     "name": "stdout",
     "output_type": "stream",
     "text": [
      "enter a string: qwerttyuiiopplhvhgc\n",
      "ceghhiiloppqrttuvwy\n"
     ]
    }
   ],
   "source": [
    "def sortString(str):\n",
    "    return \"\".join(sorted(str, key = lambda x:x.lower()))\n",
    "      \n",
    "# Driver code\n",
    "str = input(\"enter a string: \")\n",
    "print(sortString(str))"
   ]
  },
  {
   "cell_type": "markdown",
   "id": "ff6c3c9a",
   "metadata": {},
   "source": [
    "### Create a function that accepts the principal p, the term in years t, the interest rate r, and the number of compounding periods per year n. The function returns the value at the end of term rounded to the nearest cent.\n"
   ]
  },
  {
   "cell_type": "code",
   "execution_count": 17,
   "id": "62d0f748",
   "metadata": {},
   "outputs": [
    {
     "name": "stdout",
     "output_type": "stream",
     "text": [
      "enter amount: 100000\n",
      "enter interest0.05\n",
      "enter number of years: 1\n",
      "enter mo of terms each year1\n",
      "105000.0\n"
     ]
    }
   ],
   "source": [
    "def interest(amt,int,years,n):\n",
    "    amount = amt*((1+(int/n)) ** years)\n",
    "\n",
    "    return(amount)\n",
    "\n",
    "amt = float(input(\"enter amount: \"))\n",
    "int = float(input(\"enter interest\"))\n",
    "years = float(input(\"enter number of years: \"))\n",
    "n= float(input(\"enter mo of terms each year\"))\n",
    "print(interest(amt,int,years,n),\"is the final amount\")\n",
    "\n"
   ]
  },
  {
   "cell_type": "markdown",
   "id": "e6f07a77",
   "metadata": {},
   "source": [
    "### Write a function that takes a list of elements and returns only the integers."
   ]
  },
  {
   "cell_type": "code",
   "execution_count": 6,
   "id": "b5a998d6",
   "metadata": {},
   "outputs": [
    {
     "name": "stdout",
     "output_type": "stream",
     "text": [
      "ENter the number of elements in list: 5\n",
      "1\n",
      "2\n",
      "3\n",
      "4\n",
      "gini\n",
      "['1', '2', '3', '4', 'gini']\n",
      "['1', '2', '3', '4']\n"
     ]
    }
   ],
   "source": [
    "def filter_list(l):\n",
    "    new_list = []\n",
    "    for x in l:\n",
    "        try:\n",
    "            if int(x)/1:\n",
    "                new_list.append(x)\n",
    "        except:\n",
    "            pass\n",
    "    return new_list\n",
    "\n",
    "l = []\n",
    "n = int(input(\"ENter the number of elements in list: \"))\n",
    "for i in range(0,n):\n",
    "    x = input()\n",
    "    l.append(x)\n",
    "print(l)\n",
    "print(filter_list(l))"
   ]
  },
  {
   "cell_type": "code",
   "execution_count": null,
   "id": "82c70c27",
   "metadata": {},
   "outputs": [],
   "source": []
  }
 ],
 "metadata": {
  "kernelspec": {
   "display_name": "Python 3 (ipykernel)",
   "language": "python",
   "name": "python3"
  },
  "language_info": {
   "codemirror_mode": {
    "name": "ipython",
    "version": 3
   },
   "file_extension": ".py",
   "mimetype": "text/x-python",
   "name": "python",
   "nbconvert_exporter": "python",
   "pygments_lexer": "ipython3",
   "version": "3.9.12"
  }
 },
 "nbformat": 4,
 "nbformat_minor": 5
}
