{
 "cells": [
  {
   "cell_type": "markdown",
   "id": "7d784447",
   "metadata": {},
   "source": [
    "### 1. Write a Python program to convert kilometers to miles?"
   ]
  },
  {
   "cell_type": "code",
   "execution_count": 4,
   "id": "f6a945a9",
   "metadata": {},
   "outputs": [
    {
     "name": "stdout",
     "output_type": "stream",
     "text": [
      "Enter value in kilometers: 2\n",
      "2.00 kilometers is equal to 1.2427 miles\n"
     ]
    }
   ],
   "source": [
    "kilometers = float(input(\"Enter value in kilometers: \"))\n",
    "conv_fac = 0.621371\n",
    "miles = kilometers * conv_fac\n",
    "print('%0.2f kilometers is equal to %0.4f miles' %(kilometers,miles))"
   ]
  },
  {
   "cell_type": "markdown",
   "id": "98f33c25",
   "metadata": {},
   "source": [
    "### 2. Write a Python program to convert Celsius to Fahrenheit?"
   ]
  },
  {
   "cell_type": "code",
   "execution_count": 3,
   "id": "f8e0a5eb",
   "metadata": {},
   "outputs": [
    {
     "name": "stdout",
     "output_type": "stream",
     "text": [
      "please enter celsius temperature value55\n",
      "55.000 Celsius is equivalent to: 131.000 Fahrenheit\n"
     ]
    }
   ],
   "source": [
    "celsius = float(input(\"please enter celsius temperature value\"))\n",
    "fahrenheit = (celsius * 1.8) + 32\n",
    "print('%.3f Celsius is equivalent to: %.3f Fahrenheit' %(celsius, fahrenheit))"
   ]
  },
  {
   "cell_type": "markdown",
   "id": "7a7ee88a",
   "metadata": {},
   "source": [
    "### 3. Write a Python program to display calendar?"
   ]
  },
  {
   "cell_type": "code",
   "execution_count": 5,
   "id": "d27e9bea",
   "metadata": {},
   "outputs": [
    {
     "name": "stdout",
     "output_type": "stream",
     "text": [
      "enter the year2020\n",
      "enter the order of month12\n",
      "   December 2020\n",
      "Mo Tu We Th Fr Sa Su\n",
      "    1  2  3  4  5  6\n",
      " 7  8  9 10 11 12 13\n",
      "14 15 16 17 18 19 20\n",
      "21 22 23 24 25 26 27\n",
      "28 29 30 31\n",
      "\n"
     ]
    }
   ],
   "source": [
    "import calendar\n",
    "year = int(input(\"enter the year\"))\n",
    "month = int(input(\"enter the order of month\"))\n",
    "print(calendar.month(year,month))"
   ]
  },
  {
   "cell_type": "markdown",
   "id": "0a16f890",
   "metadata": {},
   "source": [
    "### 4. Write a Python program to solve quadratic equation?"
   ]
  },
  {
   "cell_type": "code",
   "execution_count": 10,
   "id": "7474f952",
   "metadata": {},
   "outputs": [
    {
     "name": "stdout",
     "output_type": "stream",
     "text": [
      "The default quadratic equation : ax**2 + bx + c = 0\n",
      "enter 'a' value2\n",
      "enter 'b' value10\n",
      "enter 'c' value50\n",
      "The solution are (-2.5-4.330127018922194j) and (-2.5+4.330127018922194j)\n"
     ]
    }
   ],
   "source": [
    "import cmath\n",
    "print(\"The default quadratic equation : ax**2 + bx + c = 0\")\n",
    "a = int(input(\"enter 'a' value\"))\n",
    "b = int(input(\"enter 'b' value\"))\n",
    "c = int(input(\"enter 'c' value\"))\n",
    "                            \n",
    "d = (b**2) - (4*a*c)\n",
    "root1 = (-b-cmath.sqrt(d))/(2*a)\n",
    "root2 = (-b+cmath.sqrt(d))/(2*a)\n",
    "\n",
    "print('The solution are {0} and {1}'.format(root1,root2))"
   ]
  },
  {
   "cell_type": "markdown",
   "id": "8019fc8e",
   "metadata": {},
   "source": [
    "### 5. Write a Python program to swap two variables without temp variable?"
   ]
  },
  {
   "cell_type": "code",
   "execution_count": 12,
   "id": "25a1ecf1",
   "metadata": {},
   "outputs": [
    {
     "name": "stdout",
     "output_type": "stream",
     "text": [
      "enter first variable 5\n",
      "enter second variabe 10\n",
      " the numbers before swapping are :5\t10\n",
      "\n",
      " the numbers before swapping are :10\t5\n"
     ]
    }
   ],
   "source": [
    "a = int(input(\"enter first variable \"))\n",
    "b = int(input(\"enter second variabe \"))\n",
    "print(\" the numbers before swapping are :\" + str(a) + \"\\t\"+ str(b))\n",
    "a,b = b,a\n",
    "print(\"\\n the numbers before swapping are :\" + str(a) + \"\\t\"+ str(b))"
   ]
  },
  {
   "cell_type": "code",
   "execution_count": null,
   "id": "6c793dda",
   "metadata": {},
   "outputs": [],
   "source": []
  }
 ],
 "metadata": {
  "kernelspec": {
   "display_name": "Python 3 (ipykernel)",
   "language": "python",
   "name": "python3"
  },
  "language_info": {
   "codemirror_mode": {
    "name": "ipython",
    "version": 3
   },
   "file_extension": ".py",
   "mimetype": "text/x-python",
   "name": "python",
   "nbconvert_exporter": "python",
   "pygments_lexer": "ipython3",
   "version": "3.9.12"
  }
 },
 "nbformat": 4,
 "nbformat_minor": 5
}
